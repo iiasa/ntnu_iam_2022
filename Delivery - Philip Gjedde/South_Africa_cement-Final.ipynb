{
 "cells": [
  {
   "cell_type": "code",
   "execution_count": 1,
   "id": "9361b64b",
   "metadata": {},
   "outputs": [
    {
     "data": {
      "application/javascript": [
       "if (typeof IPython !== 'undefined') { IPython.OutputArea.prototype._should_scroll = function(lines){ return false; }}"
      ],
      "text/plain": [
       "<IPython.core.display.Javascript object>"
      ]
     },
     "metadata": {},
     "output_type": "display_data"
    }
   ],
   "source": [
    "# load packages\n",
    "import pandas as pd\n",
    "import numpy as np\n",
    "\n",
    "import ixmp                    # package for ix modeling platform\n",
    "import message_ix              # package for MESSAGEix model\n",
    "from message_ix.utils import make_df\n",
    "\n",
    "\n",
    "from message_ix.reporting import Reporter\n",
    "from message_ix.util.tutorial import prepare_plots\n",
    "\n",
    "import matplotlib.pyplot as plt\n",
    "\n",
    "import pyam"
   ]
  },
  {
   "cell_type": "code",
   "execution_count": 2,
   "id": "c3cd5e19",
   "metadata": {},
   "outputs": [],
   "source": [
    "# Loading the platform (and getting conected to a local database)\n",
    "mp = ixmp.Platform()"
   ]
  },
  {
   "cell_type": "code",
   "execution_count": 3,
   "id": "0a58fc9e",
   "metadata": {},
   "outputs": [],
   "source": [
    "# create empty scenario\n",
    "baseline = message_ix.Scenario(mp, model='MESSAGEix South Africa', \n",
    "                               scenario='baseline', version='new')"
   ]
  },
  {
   "cell_type": "code",
   "execution_count": 5,
   "id": "bd2975f2",
   "metadata": {},
   "outputs": [],
   "source": [
    "# read South Africa model from Excel (init_items = True is important as this scenario also includes MACRO)\n",
    "baseline.read_excel(\"MESSAGEix_South_Africa.xlsx\", add_units=True, commit_steps=False, init_items=True)"
   ]
  },
  {
   "cell_type": "code",
   "execution_count": 6,
   "id": "cc1f691e",
   "metadata": {},
   "outputs": [],
   "source": [
    "# solve baseline scenario\n",
    "baseline.solve()"
   ]
  },
  {
   "cell_type": "code",
   "execution_count": 7,
   "id": "ef896008",
   "metadata": {
    "scrolled": true
   },
   "outputs": [
    {
     "data": {
      "text/plain": [
       "{'lvl': 63014.5703125, 'mrg': 0.0}"
      ]
     },
     "execution_count": 7,
     "metadata": {},
     "output_type": "execute_result"
    }
   ],
   "source": [
    "# check objective function value\n",
    "baseline.var('OBJ')"
   ]
  },
  {
   "cell_type": "code",
   "execution_count": 8,
   "id": "6de933f5",
   "metadata": {
    "scrolled": true
   },
   "outputs": [
    {
     "data": {
      "text/html": [
       "<div>\n",
       "<style scoped>\n",
       "    .dataframe tbody tr th:only-of-type {\n",
       "        vertical-align: middle;\n",
       "    }\n",
       "\n",
       "    .dataframe tbody tr th {\n",
       "        vertical-align: top;\n",
       "    }\n",
       "\n",
       "    .dataframe thead th {\n",
       "        text-align: right;\n",
       "    }\n",
       "</style>\n",
       "<table border=\"1\" class=\"dataframe\">\n",
       "  <thead>\n",
       "    <tr style=\"text-align: right;\">\n",
       "      <th></th>\n",
       "      <th>node</th>\n",
       "      <th>emission</th>\n",
       "      <th>type_tec</th>\n",
       "      <th>year</th>\n",
       "      <th>lvl</th>\n",
       "      <th>mrg</th>\n",
       "    </tr>\n",
       "  </thead>\n",
       "  <tbody>\n",
       "    <tr>\n",
       "      <th>12</th>\n",
       "      <td>South Africa</td>\n",
       "      <td>CO2</td>\n",
       "      <td>all</td>\n",
       "      <td>2020</td>\n",
       "      <td>514.450798</td>\n",
       "      <td>0.0</td>\n",
       "    </tr>\n",
       "    <tr>\n",
       "      <th>13</th>\n",
       "      <td>South Africa</td>\n",
       "      <td>CO2</td>\n",
       "      <td>all</td>\n",
       "      <td>2030</td>\n",
       "      <td>648.868289</td>\n",
       "      <td>0.0</td>\n",
       "    </tr>\n",
       "    <tr>\n",
       "      <th>14</th>\n",
       "      <td>South Africa</td>\n",
       "      <td>CO2</td>\n",
       "      <td>all</td>\n",
       "      <td>2040</td>\n",
       "      <td>733.833429</td>\n",
       "      <td>0.0</td>\n",
       "    </tr>\n",
       "    <tr>\n",
       "      <th>15</th>\n",
       "      <td>South Africa</td>\n",
       "      <td>CO2</td>\n",
       "      <td>all</td>\n",
       "      <td>2050</td>\n",
       "      <td>866.594934</td>\n",
       "      <td>0.0</td>\n",
       "    </tr>\n",
       "    <tr>\n",
       "      <th>16</th>\n",
       "      <td>South Africa</td>\n",
       "      <td>CO2</td>\n",
       "      <td>all</td>\n",
       "      <td>2060</td>\n",
       "      <td>1028.482914</td>\n",
       "      <td>0.0</td>\n",
       "    </tr>\n",
       "    <tr>\n",
       "      <th>17</th>\n",
       "      <td>South Africa</td>\n",
       "      <td>CO2</td>\n",
       "      <td>all</td>\n",
       "      <td>2070</td>\n",
       "      <td>1256.080006</td>\n",
       "      <td>0.0</td>\n",
       "    </tr>\n",
       "    <tr>\n",
       "      <th>18</th>\n",
       "      <td>South Africa</td>\n",
       "      <td>CH4</td>\n",
       "      <td>all</td>\n",
       "      <td>2020</td>\n",
       "      <td>13.374521</td>\n",
       "      <td>0.0</td>\n",
       "    </tr>\n",
       "    <tr>\n",
       "      <th>19</th>\n",
       "      <td>South Africa</td>\n",
       "      <td>CH4</td>\n",
       "      <td>all</td>\n",
       "      <td>2030</td>\n",
       "      <td>15.464832</td>\n",
       "      <td>0.0</td>\n",
       "    </tr>\n",
       "    <tr>\n",
       "      <th>20</th>\n",
       "      <td>South Africa</td>\n",
       "      <td>CH4</td>\n",
       "      <td>all</td>\n",
       "      <td>2040</td>\n",
       "      <td>16.595169</td>\n",
       "      <td>0.0</td>\n",
       "    </tr>\n",
       "    <tr>\n",
       "      <th>21</th>\n",
       "      <td>South Africa</td>\n",
       "      <td>CH4</td>\n",
       "      <td>all</td>\n",
       "      <td>2050</td>\n",
       "      <td>19.105427</td>\n",
       "      <td>0.0</td>\n",
       "    </tr>\n",
       "    <tr>\n",
       "      <th>22</th>\n",
       "      <td>South Africa</td>\n",
       "      <td>CH4</td>\n",
       "      <td>all</td>\n",
       "      <td>2060</td>\n",
       "      <td>22.329876</td>\n",
       "      <td>0.0</td>\n",
       "    </tr>\n",
       "    <tr>\n",
       "      <th>23</th>\n",
       "      <td>South Africa</td>\n",
       "      <td>CH4</td>\n",
       "      <td>all</td>\n",
       "      <td>2070</td>\n",
       "      <td>27.665713</td>\n",
       "      <td>0.0</td>\n",
       "    </tr>\n",
       "  </tbody>\n",
       "</table>\n",
       "</div>"
      ],
      "text/plain": [
       "            node emission type_tec  year          lvl  mrg\n",
       "12  South Africa      CO2      all  2020   514.450798  0.0\n",
       "13  South Africa      CO2      all  2030   648.868289  0.0\n",
       "14  South Africa      CO2      all  2040   733.833429  0.0\n",
       "15  South Africa      CO2      all  2050   866.594934  0.0\n",
       "16  South Africa      CO2      all  2060  1028.482914  0.0\n",
       "17  South Africa      CO2      all  2070  1256.080006  0.0\n",
       "18  South Africa      CH4      all  2020    13.374521  0.0\n",
       "19  South Africa      CH4      all  2030    15.464832  0.0\n",
       "20  South Africa      CH4      all  2040    16.595169  0.0\n",
       "21  South Africa      CH4      all  2050    19.105427  0.0\n",
       "22  South Africa      CH4      all  2060    22.329876  0.0\n",
       "23  South Africa      CH4      all  2070    27.665713  0.0"
      ]
     },
     "execution_count": 8,
     "metadata": {},
     "output_type": "execute_result"
    }
   ],
   "source": [
    "# check emissions\n",
    "baseline.var('EMISS').tail(12)"
   ]
  },
  {
   "cell_type": "markdown",
   "id": "06c6c03d",
   "metadata": {},
   "source": [
    "# Adjustments to South Africa scenario"
   ]
  },
  {
   "cell_type": "code",
   "execution_count": 9,
   "id": "5f37c1ff",
   "metadata": {},
   "outputs": [],
   "source": [
    "# The SSP scenario I follow\n",
    "SSP = 'SSP2_v9_130219'"
   ]
  },
  {
   "cell_type": "code",
   "execution_count": 10,
   "id": "d48a7daa",
   "metadata": {},
   "outputs": [],
   "source": [
    "df = pd.read_csv('SspDb_country_data_2013-06-12.csv')"
   ]
  },
  {
   "cell_type": "code",
   "execution_count": 11,
   "id": "4cc1aac0",
   "metadata": {},
   "outputs": [],
   "source": [
    "GDP_all_SSPs = df.loc[df.REGION == 'ZAF'].loc[df.VARIABLE == 'GDP|PPP'].loc[df.MODEL == 'IIASA GDP'].dropna(axis = 1)"
   ]
  },
  {
   "cell_type": "code",
   "execution_count": 12,
   "id": "c40d28c1",
   "metadata": {},
   "outputs": [
    {
     "data": {
      "text/plain": [
       "2010     372.179283\n",
       "2020     543.236663\n",
       "2030     764.394783\n",
       "2040    1074.728452\n",
       "2050    1412.498506\n",
       "2060    1740.989661\n",
       "2070    2047.090039\n",
       "Name: 38319, dtype: object"
      ]
     },
     "execution_count": 12,
     "metadata": {},
     "output_type": "execute_result"
    }
   ],
   "source": [
    "# South Africa GDP in billion (2005) USD / year\n",
    "SA_GDP = GDP_all_SSPs.loc[GDP_all_SSPs.SCENARIO == SSP].iloc[0,5:]\n",
    "SA_GDP = SA_GDP.iloc[::2][:7]\n",
    "SA_GDP"
   ]
  },
  {
   "cell_type": "code",
   "execution_count": 13,
   "id": "1f5d3e37",
   "metadata": {
    "scrolled": true
   },
   "outputs": [
    {
     "data": {
      "text/plain": [
       "<AxesSubplot:title={'center':'South Africa GDP in billion USD'}>"
      ]
     },
     "execution_count": 13,
     "metadata": {},
     "output_type": "execute_result"
    },
    {
     "data": {
      "image/png": "[encoded data removed]",
      "text/plain": [
       "<Figure size 432x288 with 1 Axes>"
      ]
     },
     "metadata": {
      "needs_background": "light"
     },
     "output_type": "display_data"
    }
   ],
   "source": [
    "SA_GDP.plot(title='South Africa GDP in billion USD')"
   ]
  },
  {
   "cell_type": "markdown",
   "id": "ebb6953f",
   "metadata": {},
   "source": [
    "## Cement demand"
   ]
  },
  {
   "cell_type": "markdown",
   "id": "948aacb0",
   "metadata": {},
   "source": [
    "The demand is based on GDP and may therefore at some point be based on endogenous GDP rather than the inputs given here. But for now the GDP will be exogeneous to make sure something weird does not happen with the GDP which will make it more difficult to troubleshoot."
   ]
  },
  {
   "cell_type": "code",
   "execution_count": 14,
   "id": "6c364a1f",
   "metadata": {},
   "outputs": [],
   "source": [
    "Years = [2010, 2020, 2030, 2040, 2050, 2060, 2070]"
   ]
  },
  {
   "cell_type": "code",
   "execution_count": 15,
   "id": "4e3c61a4",
   "metadata": {},
   "outputs": [],
   "source": [
    "SA_pop = np.array([51216967, 59308690, 65956090, 71375306, 75517909, 78172048, 79498839])   # https://www.populationpyramid.net/south-africa/2060/"
   ]
  },
  {
   "cell_type": "code",
   "execution_count": 16,
   "id": "b8ce92b7",
   "metadata": {},
   "outputs": [],
   "source": [
    "GDPperpop = (SA_GDP*1e9/SA_pop).astype('float64')"
   ]
  },
  {
   "cell_type": "code",
   "execution_count": 17,
   "id": "f207dee1",
   "metadata": {
    "scrolled": true
   },
   "outputs": [
    {
     "data": {
      "text/plain": [
       "<AxesSubplot:title={'center':'South Africa GDP per capita profile'}>"
      ]
     },
     "execution_count": 17,
     "metadata": {},
     "output_type": "execute_result"
    },
    {
     "data": {
      "image/png": "[encoded data removed]",
      "text/plain": [
       "<Figure size 432x288 with 1 Axes>"
      ]
     },
     "metadata": {
      "needs_background": "light"
     },
     "output_type": "display_data"
    }
   ],
   "source": [
    "# GDP for South Africa for each year - exogeneous.\n",
    "GDPperpop.plot(title='South Africa GDP per capita profile')"
   ]
  },
  {
   "cell_type": "code",
   "execution_count": 18,
   "id": "1bc0499b",
   "metadata": {},
   "outputs": [],
   "source": [
    "# cement demand in kg/yr\n",
    "# Capita consumption: C = a*e^(b/GDPpc)\n",
    "a = 487\n",
    "b = -3047\n",
    "cement_d = (a*np.exp(b/GDPperpop))*SA_pop"
   ]
  },
  {
   "cell_type": "code",
   "execution_count": 19,
   "id": "c7e71919",
   "metadata": {
    "scrolled": true
   },
   "outputs": [
    {
     "data": {
      "text/plain": [
       "2010    16399.826796\n",
       "2020    20709.733702\n",
       "2030    24694.647655\n",
       "2040    28391.851576\n",
       "2050    31248.571958\n",
       "2060    33201.925249\n",
       "2070    34395.332499\n",
       "Name: 38319, dtype: float64"
      ]
     },
     "execution_count": 19,
     "metadata": {},
     "output_type": "execute_result"
    }
   ],
   "source": [
    "cement_d/1e6 #shown here in kt/y as reality check. Fits well with real data (e.g. Germany was 25583 kt a few years back)"
   ]
  },
  {
   "cell_type": "code",
   "execution_count": 20,
   "id": "89b2e272",
   "metadata": {},
   "outputs": [],
   "source": [
    "cement_d_Mt = cement_d/1e9 # cement demand in Mega tonnes per year"
   ]
  },
  {
   "cell_type": "code",
   "execution_count": 21,
   "id": "59086db6",
   "metadata": {
    "scrolled": true
   },
   "outputs": [],
   "source": [
    "mp.add_unit('Mt/year')"
   ]
  },
  {
   "cell_type": "code",
   "execution_count": 22,
   "id": "11909730",
   "metadata": {},
   "outputs": [],
   "source": [
    "# Add demand for cement in South Africa for the years 2010-2070\n",
    "cement_demand = pd.DataFrame({\n",
    "        'node': 'South Africa',\n",
    "        'commodity': 'cement',\n",
    "        'level': 'useful',\n",
    "        'year': Years,\n",
    "        'time': 'year',\n",
    "        'value': cement_d_Mt, # Demand for cement in South Africa (Mt/year)\n",
    "        'unit': 'Mt/year', # 'GWa/a'\n",
    "    })"
   ]
  },
  {
   "cell_type": "markdown",
   "id": "74c65034",
   "metadata": {},
   "source": [
    "## Scenario setup"
   ]
  },
  {
   "cell_type": "code",
   "execution_count": 23,
   "id": "d0893219",
   "metadata": {},
   "outputs": [],
   "source": [
    "baseline_for_copy = message_ix.Scenario(mp, model='MESSAGEix South Africa', \n",
    "                               scenario='cement', version='new')"
   ]
  },
  {
   "cell_type": "code",
   "execution_count": 24,
   "id": "4f23f858",
   "metadata": {},
   "outputs": [],
   "source": [
    "# read South Africa model from Excel (init_items = True is important as this scenario also includes MACRO)\n",
    "baseline_for_copy.read_excel(\"MESSAGEix_South_Africa.xlsx\", add_units=True, commit_steps=False, init_items=True)"
   ]
  },
  {
   "cell_type": "code",
   "execution_count": 25,
   "id": "49d49032",
   "metadata": {},
   "outputs": [],
   "source": [
    "# clone baseline scenario for modification\n",
    "scenario_pc = baseline_for_copy.clone('MESSAGEix South Africa', 'cement added','copy of the baseline scenario with added emission constraint',\n",
    "                  keep_solution=False)"
   ]
  },
  {
   "cell_type": "code",
   "execution_count": 26,
   "id": "f0e200b0",
   "metadata": {},
   "outputs": [],
   "source": [
    "# check out scenario for editing\n",
    "scenario_pc.check_out()"
   ]
  },
  {
   "cell_type": "code",
   "execution_count": 27,
   "id": "16886b48",
   "metadata": {},
   "outputs": [],
   "source": [
    "# Using: scenario.add_par()     https://docs.messageix.org/en/stable/model/MESSAGE/parameter_def.html\n",
    "# Add commodities and technologies relevant for portland cement production\n",
    "scenario_pc.add_set(\"commodity\", ['cement', 'limestone', 'clinker', 'pre-clinker', 'clinker_fuel'])\n",
    "scenario_pc.add_set(\"technology\", ['Resource_mine', 'Mining_clinker', 'Clinker_burning', 'Cement_grinding',\n",
    "                               'clinker_lightoil', 'clinker_gas', 'clinker_fueloil', 'clinker_coal',  # Fuel-clinkerfuel transformers\n",
    "                                  'Clinker_burning_CCS', 'Clinker_burning_opt_kiln']) # Emerging technologies"
   ]
  },
  {
   "cell_type": "code",
   "execution_count": 28,
   "id": "c56aff79",
   "metadata": {},
   "outputs": [],
   "source": [
    "scenario_pc.add_par(\"demand\", cement_demand) # The cement_demand is calcualted above in Mt/year"
   ]
  },
  {
   "cell_type": "markdown",
   "id": "56d02c70",
   "metadata": {},
   "source": [
    "## Inputs and outputs (activities between technologies)"
   ]
  },
  {
   "cell_type": "code",
   "execution_count": 29,
   "id": "48d8e430",
   "metadata": {},
   "outputs": [],
   "source": [
    "country = 'South Africa'"
   ]
  },
  {
   "cell_type": "code",
   "execution_count": 30,
   "id": "ce7518a6",
   "metadata": {},
   "outputs": [],
   "source": [
    "# Base dataframe for input and output adding node, years, mode, time, and unit\n",
    "year_df = scenario_pc.vintage_and_active_years()\n",
    "vintage_years, act_years = year_df['year_vtg'], year_df['year_act']\n",
    "\n",
    "base = {\n",
    "    'node_loc': country,\n",
    "    'year_vtg': vintage_years,\n",
    "    'year_act': act_years,\n",
    "    'mode': 'M1',\n",
    "    'time': 'year',\n",
    "    'unit': '-'\n",
    "}\n",
    "\n",
    "base_input = make_df(base, node_origin=country, time_origin='year')\n",
    "base_output = make_df(base, node_dest=country, time_dest='year')"
   ]
  },
  {
   "cell_type": "markdown",
   "id": "4575fda3",
   "metadata": {},
   "source": [
    "An output of resources has to come from somewhere, I make the technology \"Resource_mine\" for this purpose"
   ]
  },
  {
   "cell_type": "code",
   "execution_count": 31,
   "id": "173ae5c0",
   "metadata": {},
   "outputs": [],
   "source": [
    "resource_mine_limestone = make_df(base_output, technology='Resource_mine', commodity='limestone', \n",
    "                   level='secondary', value=1.0)\n",
    "scenario_pc.add_par('output', resource_mine_limestone)"
   ]
  },
  {
   "cell_type": "markdown",
   "id": "77e95389",
   "metadata": {},
   "source": [
    "### Mass flows"
   ]
  },
  {
   "cell_type": "markdown",
   "id": "c89bed33",
   "metadata": {},
   "source": [
    "A clinker/cement coefficient (cc_c) describes how much clinker goes into cement.\n",
    "\n",
    "The coefficient is based on: \"global clinker-to-cement ratio of 78% in 2006\" https://lowcarboneconomy.cembureau.eu/5-parallel-routes/resource-efficiency/clinker-substitution/"
   ]
  },
  {
   "cell_type": "code",
   "execution_count": 32,
   "id": "d2c0273b",
   "metadata": {},
   "outputs": [],
   "source": [
    "cc_c = 0.8\n",
    "preclinker_to_clinker = 0.8\n",
    "limestone_to_preclinker = 1/0.9"
   ]
  },
  {
   "cell_type": "code",
   "execution_count": 33,
   "id": "9f96f844",
   "metadata": {},
   "outputs": [],
   "source": [
    "# Cement grinding\n",
    "cement_grinding_out = make_df(base_output, technology='Cement_grinding', commodity='cement', \n",
    "                   level='useful', value=1.0)\n",
    "scenario_pc.add_par('output', cement_grinding_out)\n",
    "\n",
    "cement_grinding_in = make_df(base_input, technology='Cement_grinding', commodity='clinker',  \n",
    "                  level='secondary', value=cc_c)\n",
    "scenario_pc.add_par('input', cement_grinding_in)"
   ]
  },
  {
   "cell_type": "code",
   "execution_count": 34,
   "id": "c868b748",
   "metadata": {},
   "outputs": [],
   "source": [
    "# Clinker burning\n",
    "clinker_burning_out = make_df(base_output, technology='Clinker_burning', commodity='clinker', \n",
    "                   level='secondary', value=1.0)\n",
    "scenario_pc.add_par('output', clinker_burning_out)\n",
    "\n",
    "clinker_burning_in = make_df(base_input, technology='Clinker_burning', commodity='pre-clinker',  \n",
    "                  level='secondary', value=preclinker_to_clinker)\n",
    "scenario_pc.add_par('input', clinker_burning_in)"
   ]
  },
  {
   "cell_type": "code",
   "execution_count": 35,
   "id": "f97e514a",
   "metadata": {},
   "outputs": [],
   "source": [
    "# Mining clinker\n",
    "mining_clinker_out = make_df(base_output, technology='Mining_clinker', commodity='pre-clinker', \n",
    "                   level='secondary', value=1.0)\n",
    "scenario_pc.add_par('output', mining_clinker_out)\n",
    "\n",
    "mining_clinker_in = make_df(base_input, technology='Mining_clinker', commodity='limestone',  \n",
    "                  level='secondary', value=limestone_to_preclinker)\n",
    "scenario_pc.add_par('input', mining_clinker_in)"
   ]
  },
  {
   "cell_type": "markdown",
   "id": "5f55dec0",
   "metadata": {},
   "source": [
    "##### Substituting technologies:"
   ]
  },
  {
   "cell_type": "code",
   "execution_count": 36,
   "id": "3c7b6988",
   "metadata": {},
   "outputs": [],
   "source": [
    "# Clinker_burning_CCS\n",
    "clinker_burning_CCS_out = make_df(base_output, technology='Clinker_burning_CCS', commodity='clinker', \n",
    "                   level='secondary', value=1.0)\n",
    "scenario_pc.add_par('output', clinker_burning_CCS_out)\n",
    "\n",
    "clinker_burning_CCS_in = make_df(base_input, technology='Clinker_burning_CCS', commodity='pre-clinker',  \n",
    "                  level='secondary', value=preclinker_to_clinker)\n",
    "scenario_pc.add_par('input', clinker_burning_CCS_in)"
   ]
  },
  {
   "cell_type": "code",
   "execution_count": 37,
   "id": "123bb8b6",
   "metadata": {},
   "outputs": [],
   "source": [
    "# Clinker_burning_opt_kiln\n",
    "clinker_burning_opt_kiln_out = make_df(base_output, technology='Clinker_burning_opt_kiln', commodity='clinker', \n",
    "                   level='secondary', value=1.0)\n",
    "scenario_pc.add_par('output', clinker_burning_opt_kiln_out)\n",
    "\n",
    "clinker_burning_opt_kiln_in = make_df(base_input, technology='Clinker_burning_opt_kiln', commodity='pre-clinker',  \n",
    "                  level='secondary', value=preclinker_to_clinker)\n",
    "scenario_pc.add_par('input', clinker_burning_opt_kiln_in)"
   ]
  },
  {
   "cell_type": "markdown",
   "id": "a870363f",
   "metadata": {},
   "source": [
    "#### Electricity"
   ]
  },
  {
   "cell_type": "code",
   "execution_count": 38,
   "id": "e0522cd5",
   "metadata": {},
   "outputs": [],
   "source": [
    "def unit_convert_GWa(unit, val):\n",
    "    if unit == 'kWh':\n",
    "        return (val*10**(-6))/8760\n",
    "    if unit == 'GJ':\n",
    "        return (277.778*val*10**(-6))/8760\n",
    "    if unit == 'MJ':\n",
    "        return (277.778*val*10**(-9))/8760"
   ]
  },
  {
   "cell_type": "markdown",
   "id": "417c9bff",
   "metadata": {},
   "source": [
    "Input of electricity in GWa per tonne output"
   ]
  },
  {
   "cell_type": "code",
   "execution_count": 39,
   "id": "5cf594a9",
   "metadata": {},
   "outputs": [],
   "source": [
    "# Cement grinding electricity\n",
    "cement_grinding_in = make_df(base_input, technology='Cement_grinding', commodity='electr',  \n",
    "                  level='secondary', value=0)\n",
    "scenario_pc.add_par('input', cement_grinding_in)"
   ]
  },
  {
   "cell_type": "code",
   "execution_count": 40,
   "id": "8fd9da65",
   "metadata": {},
   "outputs": [],
   "source": [
    "# Clinker burning electricity\n",
    "clinker_burning_in = make_df(base_input, technology='Clinker_burning', commodity='electr',  \n",
    "                  level='secondary', value=unit_convert_GWa('GJ', 0.75e6)) # I assume we use 0.75e6 GJ/Mt output = 0.02378 GWa/Mt\n",
    "scenario_pc.add_par('input', clinker_burning_in)"
   ]
  },
  {
   "cell_type": "code",
   "execution_count": 41,
   "id": "a933a1e5",
   "metadata": {},
   "outputs": [
    {
     "data": {
      "text/plain": [
       "0.023782363013698633"
      ]
     },
     "execution_count": 41,
     "metadata": {},
     "output_type": "execute_result"
    }
   ],
   "source": [
    "unit_convert_GWa('GJ', 0.75e6)"
   ]
  },
  {
   "cell_type": "code",
   "execution_count": 42,
   "id": "8377bc58",
   "metadata": {},
   "outputs": [],
   "source": [
    "# Mining clinker electricity\n",
    "mining_clinker_in = make_df(base_input, technology='Mining_clinker', commodity='electr',  \n",
    "                  level='secondary', value=unit_convert_GWa('kWh',20e6)) # I assume we use 20e6 kWh/Mt output = 0.0.0022831 GWa/Mt\n",
    "scenario_pc.add_par('input', mining_clinker_in)"
   ]
  },
  {
   "cell_type": "markdown",
   "id": "92cf09f8",
   "metadata": {},
   "source": [
    "##### Substituting technologies:"
   ]
  },
  {
   "cell_type": "code",
   "execution_count": 43,
   "id": "bfa6b82a",
   "metadata": {},
   "outputs": [],
   "source": [
    "# Clinker_burning_CCS\n",
    "clinker_burning_CCS = make_df(base_input, technology='Clinker_burning_CCS', commodity='electr',  \n",
    "                  level='secondary', value=unit_convert_GWa('GJ', 0.75e6) + unit_convert_GWa('kWh', 115e6)) # I assume we use 115 kWh/t clinker or 0.0131 GWa/Mt clinker MORE than conventional clinker burning \n",
    "scenario_pc.add_par('input', clinker_burning_CCS)"
   ]
  },
  {
   "cell_type": "code",
   "execution_count": 44,
   "id": "885bf7cc",
   "metadata": {},
   "outputs": [],
   "source": [
    "# Clinker_burning_opt_kiln\n",
    "clinker_burning_opt_kiln = make_df(base_input, technology='Clinker_burning_opt_kiln', commodity='electr',  \n",
    "                  level='secondary', value=unit_convert_GWa('GJ', 0.75e6) - unit_convert_GWa('kWh', (41+54)*0.5e6)) # I assume we use 47.5 kWh/t clinker or 0.00542 GWa/Mt clinker LESS than we do in conventional clinker burning. \n",
    "scenario_pc.add_par('input', clinker_burning_opt_kiln)"
   ]
  },
  {
   "cell_type": "markdown",
   "id": "824f3bfe",
   "metadata": {},
   "source": [
    "#### Fuel\n",
    "The Clinker burning technology use fuel from 2nd level, but not any kind of fuel. A virtual technology for each fuel commodity input is made to convert a fuel to \"clinker fuel\" that can be used for clinker. Units of GWa, so energy rather than mass.\n"
   ]
  },
  {
   "cell_type": "code",
   "execution_count": 45,
   "id": "f47a03f8",
   "metadata": {},
   "outputs": [],
   "source": [
    "fuel_for_clinker = ['lightoil', 'gas', 'fueloil', 'coal'] # It is assumed that the fuels are taken from the secondary level.\n",
    "fuel_for_clinker_technologies = ['clinker_lightoil', 'clinker_gas', 'clinker_fueloil', 'clinker_coal'] # It is assumed that the fuels are taken from the secondary level."
   ]
  },
  {
   "cell_type": "code",
   "execution_count": 46,
   "id": "f1543b34",
   "metadata": {},
   "outputs": [],
   "source": [
    "# Fuel input to be converted to clinker fuel\n",
    "for fueltec, fuel in zip(fuel_for_clinker_technologies, fuel_for_clinker):\n",
    "    clinker_fuel_in = make_df(base_input, technology=fueltec, commodity=fuel,\n",
    "                               level='secondary', value=1)\n",
    "    scenario_pc.add_par('input', clinker_fuel_in)"
   ]
  },
  {
   "cell_type": "code",
   "execution_count": 47,
   "id": "224d2110",
   "metadata": {},
   "outputs": [],
   "source": [
    "# Clinker fuel output\n",
    "for fueltec in fuel_for_clinker_technologies:\n",
    "    clinker_fuel_out = make_df(base_output, technology=fueltec, commodity='clinker_fuel',  \n",
    "                  level='secondary', value=1) \n",
    "    scenario_pc.add_par('output', clinker_fuel_out)"
   ]
  },
  {
   "cell_type": "markdown",
   "id": "dc0e3f1b",
   "metadata": {},
   "source": [
    "In Africa a kiln usually use 3,750 MJ/t * 80% = 3 GJ/t clinker as heat consumption with fuel as input."
   ]
  },
  {
   "cell_type": "code",
   "execution_count": 48,
   "id": "926f3bca",
   "metadata": {},
   "outputs": [
    {
     "data": {
      "text/plain": [
       "0.09512945205479453"
      ]
     },
     "execution_count": 48,
     "metadata": {},
     "output_type": "execute_result"
    }
   ],
   "source": [
    "fuel_input = unit_convert_GWa('GJ',3e6) #GWa/t * 1e6 t/Mt = GWa/Mt\n",
    "fuel_input"
   ]
  },
  {
   "cell_type": "code",
   "execution_count": 49,
   "id": "3bcec6ad",
   "metadata": {},
   "outputs": [],
   "source": [
    "# Clinker_burning fuel\n",
    "clinker_burning_in = make_df(base_input, technology='Clinker_burning', commodity='clinker_fuel',  \n",
    "                  level='secondary', value=fuel_input) # 3e6 GJ/Mt = 0.095129\n",
    "scenario_pc.add_par('input', clinker_burning_in)"
   ]
  },
  {
   "cell_type": "markdown",
   "id": "9d7314cc",
   "metadata": {},
   "source": [
    "##### Substituting technologies:"
   ]
  },
  {
   "cell_type": "code",
   "execution_count": 50,
   "id": "8df49ba4",
   "metadata": {},
   "outputs": [],
   "source": [
    "# Clinker_burning_CCS fuel\n",
    "clinker_burning_CCS = make_df(base_input, technology='Clinker_burning_CCS', commodity='clinker_fuel',  \n",
    "                  level='secondary', value=fuel_input + unit_convert_GWa('MJ',(90+100)*0.5e6)) # 95 MJ/t clinker MORE than conventional, total: 3 GJ/t + 95 MJ/t = 0.098 GWa/Mt\n",
    "scenario_pc.add_par('input', clinker_burning_CCS)"
   ]
  },
  {
   "cell_type": "code",
   "execution_count": 51,
   "id": "48fc22cc",
   "metadata": {},
   "outputs": [],
   "source": [
    "# Clinker_burning_opt_kiln fuel\n",
    "clinker_burning_opt_kiln = make_df(base_input, technology='Clinker_burning_opt_kiln', commodity='electr',  \n",
    "                  level='secondary', value=fuel_input - unit_convert_GWa('GJ', (1.3+1.6)*0.5e6)) # 1.45 GJ/t = 0.045979 GWa/Mt LESS fuel input than conventional equalling 0.049 GWa fuel input\n",
    "scenario_pc.add_par('input', clinker_burning_opt_kiln)"
   ]
  },
  {
   "cell_type": "markdown",
   "id": "ba3272ed",
   "metadata": {},
   "source": [
    "### Emissions (process emissions from clinker burning)..."
   ]
  },
  {
   "cell_type": "markdown",
   "id": "5159b470",
   "metadata": {},
   "source": [
    "There is 0.5262 tCO2/t clinker, so for Mt clinker the CO2 emissions are in MtCO2"
   ]
  },
  {
   "cell_type": "code",
   "execution_count": 52,
   "id": "f89bed2d",
   "metadata": {},
   "outputs": [
    {
     "data": {
      "text/plain": [
       "['type_emission', 'emission']"
      ]
     },
     "execution_count": 52,
     "metadata": {},
     "output_type": "execute_result"
    }
   ],
   "source": [
    "scenario_pc.idx_names('cat_emission')"
   ]
  },
  {
   "cell_type": "code",
   "execution_count": 53,
   "id": "1b45a84d",
   "metadata": {},
   "outputs": [],
   "source": [
    "# we now add CO2 emissions to the clinker burning facility\n",
    "scenario_pc.add_set('emission', 'CO2')\n",
    "scenario_pc.add_cat('emission', 'CO2', 'CO2')\n",
    "\n",
    "base_emission_factor = {\n",
    "    'node_loc': country,\n",
    "    'year_vtg': vintage_years,\n",
    "    'year_act': act_years,\n",
    "    'mode': 'M1',\n",
    "    'unit': 'MtCO2',\n",
    "}"
   ]
  },
  {
   "cell_type": "code",
   "execution_count": 54,
   "id": "aa41ff38",
   "metadata": {},
   "outputs": [],
   "source": [
    "# Clinker_burning\n",
    "emission_clinker_burning = make_df(base_emission_factor, technology= 'Clinker_burning', emission= 'CO2', value = 0.5262) \n",
    "scenario_pc.add_par('emission_factor', emission_clinker_burning)"
   ]
  },
  {
   "cell_type": "code",
   "execution_count": 55,
   "id": "bfbca882",
   "metadata": {},
   "outputs": [],
   "source": [
    "# Clinker_burning_CCS\n",
    "emission_clinker_burning_CCS = make_df(base_emission_factor, technology= 'Clinker_burning_CCS', emission= 'CO2', value = 0.5262-0.7) # CO2 reduction of 550-870 kgCO2/t clinker = 0.7 MtCO2/Mt clinker\n",
    "scenario_pc.add_par('emission_factor', emission_clinker_burning_CCS)"
   ]
  },
  {
   "cell_type": "code",
   "execution_count": 56,
   "id": "b99f335f",
   "metadata": {},
   "outputs": [],
   "source": [
    "# Clinker_burning_opt_kiln\n",
    "emission_clinker_burning_opt_kiln = make_df(base_emission_factor, technology= 'Clinker_burning_opt_kiln', emission= 'CO2', value = 0.5262) \n",
    "scenario_pc.add_par('emission_factor', emission_clinker_burning_opt_kiln)"
   ]
  },
  {
   "cell_type": "markdown",
   "id": "eeffc03b",
   "metadata": {},
   "source": [
    "### Variable O&M Costs\n",
    "\n",
    "Variable Operation and Maintence costs are associated with the costs of actively running the plant. Thus, they are not applied if a plant is on standby (i.e., constructed, but not currently in use).\n",
    "\n",
    "$$\\sum_{\\substack{y^V \\leq y \\\\ m,h}} \\text{var_cost}_{n,t,y^V,y,m,h} \\cdot \\text{ACT}_{n,t,y^V,y,m,h} $$"
   ]
  },
  {
   "cell_type": "markdown",
   "id": "f4c1fb23",
   "metadata": {},
   "source": [
    "OBS I have a feeling that the costs are actually not given in USD, but in million USD, otherwise the baseline scenario would indicate that it costs 63k USD to sustain South Africa with electricity and fuel for 60 years (2010-2070). 63e3 * 1e6 = 63 billion USD seems more realistic for a price over 60 years."
   ]
  },
  {
   "cell_type": "code",
   "execution_count": 57,
   "id": "c56b2967",
   "metadata": {},
   "outputs": [],
   "source": [
    "mp.add_unit('USD/Mt')  "
   ]
  },
  {
   "cell_type": "code",
   "execution_count": 58,
   "id": "1382826d",
   "metadata": {},
   "outputs": [],
   "source": [
    "base_var_cost = {\n",
    "    'node_loc': country,\n",
    "    'year_vtg': vintage_years,\n",
    "    'year_act': act_years,\n",
    "    'mode': 'M1',\n",
    "    'time': 'year',\n",
    "    'unit': 'USD/Mt', \n",
    "}"
   ]
  },
  {
   "cell_type": "markdown",
   "id": "e3f52434",
   "metadata": {},
   "source": [
    "cost values given in USD/Mt output"
   ]
  },
  {
   "cell_type": "code",
   "execution_count": 59,
   "id": "768aa507",
   "metadata": {},
   "outputs": [],
   "source": [
    "costs = {\n",
    "    'Clinker_burning': 100,  # \"The total cost of a cement plant is estimated to be US$ 75 to US$ 100 per tonne.\" https://www.quora.com/How-much-does-it-cost-to-set-up-a-cement-factory\n",
    "    'Clinker_burning_opt_kiln': 100 + (72+108)/2,\n",
    "}\n",
    "\n",
    "for tec, val in costs.items():\n",
    "    df = make_df(base_var_cost, technology=tec, value=val)\n",
    "    scenario_pc.add_par('var_cost', df)"
   ]
  },
  {
   "cell_type": "markdown",
   "id": "0e04705c",
   "metadata": {},
   "source": [
    "The cost for CCS changes in the year 2050 as it is assumed that the technology becomes cheaper as we become better at it."
   ]
  },
  {
   "cell_type": "code",
   "execution_count": 60,
   "id": "c77faa64",
   "metadata": {
    "scrolled": true
   },
   "outputs": [
    {
     "name": "stderr",
     "output_type": "stream",
     "text": [
      "C:\\Users\\philipgj\\AppData\\Local\\Temp\\ipykernel_1304\\241509926.py:6: SettingWithCopyWarning: \n",
      "A value is trying to be set on a copy of a slice from a DataFrame\n",
      "\n",
      "See the caveats in the documentation: https://pandas.pydata.org/pandas-docs/stable/user_guide/indexing.html#returning-a-view-versus-a-copy\n",
      "  df['value'][i] = 100+(135+150)/2\n"
     ]
    }
   ],
   "source": [
    "# First I make the dataframe for the technology using the base and setting the value for every year to 270.\n",
    "df = make_df(base_var_cost, technology='Clinker_burning_CCS', value=100+(165+180)/2)\n",
    "\n",
    "for x,i in zip(df['year_act'],range(len(df))): # If the year is higher than 2040 (e.g. 2050-2070) then the value is changed to 140 for that active year.\n",
    "    if x>2040:\n",
    "        df['value'][i] = 100+(135+150)/2\n",
    "\n",
    "scenario_pc.add_par('var_cost', df)\n",
    "# OBS - There is an error message because I didn't do this entirely \"after the book\"... But the result is fine."
   ]
  },
  {
   "cell_type": "markdown",
   "id": "3c88a554",
   "metadata": {},
   "source": [
    "## Constraints"
   ]
  },
  {
   "cell_type": "markdown",
   "id": "2700a883",
   "metadata": {},
   "source": [
    "### Share constraint for CCS"
   ]
  },
  {
   "cell_type": "markdown",
   "id": "16e61983",
   "metadata": {},
   "source": [
    "#### Step 1: Defining a new 'share'"
   ]
  },
  {
   "cell_type": "code",
   "execution_count": 61,
   "id": "7e0fd2b6",
   "metadata": {},
   "outputs": [],
   "source": [
    "shares = 'share_clinker'\n",
    "scenario_pc.add_set('shares', shares)"
   ]
  },
  {
   "cell_type": "markdown",
   "id": "50479fdf",
   "metadata": {},
   "source": [
    "#### Step 2: Defining technologies that make up the total"
   ]
  },
  {
   "cell_type": "code",
   "execution_count": 62,
   "id": "592e5c89",
   "metadata": {},
   "outputs": [],
   "source": [
    "type_tec = 'clinker_total'\n",
    "scenario_pc.add_cat('technology', type_tec, 'Clinker_burning')\n",
    "scenario_pc.add_cat('technology', type_tec, 'Clinker_burning_CCS')\n",
    "scenario_pc.add_cat('technology', type_tec, 'Clinker_burning_opt_kiln')"
   ]
  },
  {
   "cell_type": "code",
   "execution_count": 63,
   "id": "9abda8f8",
   "metadata": {},
   "outputs": [],
   "source": [
    "# Adding data to a set using index names\n",
    "df = pd.DataFrame({'shares': [shares],\n",
    "                   'node_share': country,\n",
    "                   'node': country,\n",
    "                   'type_tec': type_tec,\n",
    "                   'mode': 'M1',\n",
    "                   'commodity': 'clinker',\n",
    "                   'level': 'secondary',\n",
    "})\n",
    "scenario_pc.add_set('map_shares_commodity_total', df)"
   ]
  },
  {
   "cell_type": "markdown",
   "id": "afd88d61",
   "metadata": {},
   "source": [
    "#### Step 3: Defining technologies of share"
   ]
  },
  {
   "cell_type": "code",
   "execution_count": 64,
   "id": "1f72efe6",
   "metadata": {},
   "outputs": [],
   "source": [
    "type_tec = 'clinker_CCS'\n",
    "scenario_pc.add_cat('technology', type_tec, 'Clinker_burning_CCS')\n",
    "\n",
    "# Reminder: use <scen.idx_names('map_shares_commodity_share')> to see the index names\n",
    "df = pd.DataFrame({'shares': [shares],\n",
    "                   'node_share': country,\n",
    "                   'node': country,\n",
    "                   'type_tec': type_tec,\n",
    "                   'mode': 'M1',\n",
    "                   'commodity': 'clinker',\n",
    "                   'level': 'secondary',\n",
    "})\n",
    "\n",
    "scenario_pc.add_set('map_shares_commodity_share', df)"
   ]
  },
  {
   "cell_type": "markdown",
   "id": "186def96",
   "metadata": {},
   "source": [
    "#### Step 4: Defining the share"
   ]
  },
  {
   "cell_type": "code",
   "execution_count": 65,
   "id": "7ec37bcb",
   "metadata": {},
   "outputs": [
    {
     "data": {
      "text/plain": [
       "['shares', 'node_share', 'year_act', 'time']"
      ]
     },
     "execution_count": 65,
     "metadata": {},
     "output_type": "execute_result"
    }
   ],
   "source": [
    "# Fetching the index names of a parameter\n",
    "scenario_pc.idx_names('share_commodity_up')"
   ]
  },
  {
   "cell_type": "code",
   "execution_count": 66,
   "id": "fe0ab817",
   "metadata": {},
   "outputs": [],
   "source": [
    "# Adding data to the parameter\n",
    "df = pd.DataFrame({'shares': shares,\n",
    "                   'node_share': country,\n",
    "                   'year_act': act_years,\n",
    "                   'time': 'year',\n",
    "                   'value': 0.7,\n",
    "                   'unit': '-'})\n",
    "scenario_pc.add_par('share_commodity_up', df)"
   ]
  },
  {
   "cell_type": "markdown",
   "id": "10cda047",
   "metadata": {},
   "source": [
    "# Scenarios for South Africa cement"
   ]
  },
  {
   "cell_type": "markdown",
   "id": "a733d549",
   "metadata": {},
   "source": [
    "Bound emissions"
   ]
  },
  {
   "cell_type": "code",
   "execution_count": 67,
   "id": "66b9e997",
   "metadata": {},
   "outputs": [],
   "source": [
    "max_emission = 211 #211 is lowest"
   ]
  },
  {
   "cell_type": "code",
   "execution_count": 68,
   "id": "b805b3d8",
   "metadata": {},
   "outputs": [
    {
     "data": {
      "text/plain": [
       "['node', 'type_emission', 'type_tec', 'type_year']"
      ]
     },
     "execution_count": 68,
     "metadata": {},
     "output_type": "execute_result"
    }
   ],
   "source": [
    "scenario_pc.idx_names('bound_emission')"
   ]
  },
  {
   "cell_type": "code",
   "execution_count": 69,
   "id": "681c95d7",
   "metadata": {},
   "outputs": [],
   "source": [
    "scenario_pc.add_par('bound_emission', [country, 'CO2', 'all', 'cumulative'],\n",
    "             value=max_emission, unit='MtCO2')"
   ]
  },
  {
   "cell_type": "markdown",
   "id": "471d5339",
   "metadata": {},
   "source": [
    "# Scenarios for South Africa baseline"
   ]
  },
  {
   "cell_type": "markdown",
   "id": "ee921dba",
   "metadata": {},
   "source": [
    "Bound emissions"
   ]
  },
  {
   "cell_type": "code",
   "execution_count": 70,
   "id": "09438304",
   "metadata": {},
   "outputs": [],
   "source": [
    "max_emission_baseline = 207 # 207 is lowest"
   ]
  },
  {
   "cell_type": "code",
   "execution_count": 71,
   "id": "e90bdde9",
   "metadata": {},
   "outputs": [
    {
     "data": {
      "text/plain": [
       "['node', 'type_emission', 'type_tec', 'type_year']"
      ]
     },
     "execution_count": 71,
     "metadata": {},
     "output_type": "execute_result"
    }
   ],
   "source": [
    "baseline.idx_names('bound_emission')"
   ]
  },
  {
   "cell_type": "code",
   "execution_count": 75,
   "id": "89ac9477",
   "metadata": {
    "scrolled": true
   },
   "outputs": [],
   "source": [
    "baseline.add_par('bound_emission', [country, 'CO2', 'all', 'cumulative'],\n",
    "             value=max_emission_baseline, unit='MtCO2')"
   ]
  },
  {
   "cell_type": "markdown",
   "id": "302b7fc2",
   "metadata": {},
   "source": [
    "# ----------------- Solve - cement -----------------"
   ]
  },
  {
   "cell_type": "code",
   "execution_count": null,
   "id": "1d4e6149",
   "metadata": {},
   "outputs": [],
   "source": [
    "scenario_pc.remove_solution()"
   ]
  },
  {
   "cell_type": "code",
   "execution_count": null,
   "id": "cdf17da3",
   "metadata": {},
   "outputs": [],
   "source": [
    "# check out scenario for editing\n",
    "scenario_pc.check_out()"
   ]
  },
  {
   "cell_type": "code",
   "execution_count": 76,
   "id": "6bd5d8d3",
   "metadata": {},
   "outputs": [],
   "source": [
    "# commit scenario to platform\n",
    "scenario_pc.commit(\"Added a technology that gives out free energy to see if everything not energy related is feasible\")"
   ]
  },
  {
   "cell_type": "code",
   "execution_count": 77,
   "id": "cf064a82",
   "metadata": {},
   "outputs": [],
   "source": [
    "# solve scenario with CO2 emission budget\n",
    "scenario_pc.solve()"
   ]
  },
  {
   "cell_type": "markdown",
   "id": "79f70749",
   "metadata": {},
   "source": [
    "# ----------------- Solve - baseline -----------------"
   ]
  },
  {
   "cell_type": "code",
   "execution_count": 73,
   "id": "d0d6a8dd",
   "metadata": {},
   "outputs": [],
   "source": [
    "baseline.remove_solution()"
   ]
  },
  {
   "cell_type": "code",
   "execution_count": 74,
   "id": "ef253d23",
   "metadata": {},
   "outputs": [],
   "source": [
    "# check out scenario for editing\n",
    "baseline.check_out()"
   ]
  },
  {
   "cell_type": "code",
   "execution_count": 78,
   "id": "db6ce45d",
   "metadata": {},
   "outputs": [],
   "source": [
    "# commit scenario to platform\n",
    "baseline.commit(\"Added a technology that gives out free energy to see if everything not energy related is feasible\")"
   ]
  },
  {
   "cell_type": "code",
   "execution_count": 79,
   "id": "8729cf1f",
   "metadata": {},
   "outputs": [],
   "source": [
    "# solve scenario with CO2 emission budget\n",
    "baseline.solve()"
   ]
  },
  {
   "cell_type": "markdown",
   "id": "2ba928e9",
   "metadata": {},
   "source": [
    "# Results"
   ]
  },
  {
   "cell_type": "markdown",
   "id": "c1f787c5",
   "metadata": {},
   "source": [
    "### Objective"
   ]
  },
  {
   "cell_type": "code",
   "execution_count": 80,
   "id": "61b35bfd",
   "metadata": {},
   "outputs": [
    {
     "name": "stdout",
     "output_type": "stream",
     "text": [
      "Cement scenario objective: 89535.1640625\n",
      "Baseline objective:        84006.03125\n"
     ]
    }
   ],
   "source": [
    "# check objective function value\n",
    "print('Cement scenario objective: ' + str(scenario_pc.var('OBJ')['lvl']))\n",
    "print('Baseline objective:        ' + str(baseline.var('OBJ')['lvl']))"
   ]
  },
  {
   "cell_type": "markdown",
   "id": "59fbd73e",
   "metadata": {},
   "source": [
    "We see that the demand for cement results in higher costs for the system."
   ]
  },
  {
   "cell_type": "code",
   "execution_count": 81,
   "id": "27b516d9",
   "metadata": {},
   "outputs": [],
   "source": [
    "#df.loc[df['technology'] == 'Clinker_burning'].loc[df['lvl']>0]"
   ]
  },
  {
   "cell_type": "code",
   "execution_count": 82,
   "id": "f4a96458",
   "metadata": {},
   "outputs": [
    {
     "data": {
      "text/plain": [
       "['emission_factor',\n",
       " 'historical_emission',\n",
       " 'emission_scaling',\n",
       " 'bound_emission',\n",
       " 'tax_emission',\n",
       " 'land_emission']"
      ]
     },
     "execution_count": 82,
     "metadata": {},
     "output_type": "execute_result"
    }
   ],
   "source": [
    "[name for name in scenario_pc.par_list() if \"emission\" in name]"
   ]
  },
  {
   "cell_type": "markdown",
   "id": "277da839",
   "metadata": {},
   "source": [
    "### Reporting"
   ]
  },
  {
   "cell_type": "code",
   "execution_count": 83,
   "id": "ce3d1862",
   "metadata": {},
   "outputs": [],
   "source": [
    "from message_ix.reporting import Reporter\n",
    "from message_ix.reporting import Key\n",
    "from ixmp import Platform\n",
    "from ixmp.reporting import configure\n",
    "\n",
    "import pyam\n",
    "import plotly\n",
    "\n",
    "from message_ix.util.tutorial import prepare_plots"
   ]
  },
  {
   "cell_type": "code",
   "execution_count": 84,
   "id": "317c5d25",
   "metadata": {},
   "outputs": [],
   "source": [
    "# Create a reporter from the existing Scenario\n",
    "rep = Reporter.from_scenario(baseline)\n",
    "rep_cement = Reporter.from_scenario(scenario_pc)\n",
    "\n",
    "# Reporter uses the Python pint to handle units. '-', used in the Westeros\n",
    "# tutorial, is not a defined SI unit. We tell the Reporter to replace it with\n",
    "# '' (unitless) everywhere it appears.\n",
    "configure(units={'replace': {'-': ''}})"
   ]
  },
  {
   "cell_type": "code",
   "execution_count": 85,
   "id": "7262e08d",
   "metadata": {
    "scrolled": true
   },
   "outputs": [
    {
     "data": {
      "text/plain": [
       "['OBJ',\n",
       " 'EXT',\n",
       " 'STOCK',\n",
       " 'CAP_NEW',\n",
       " 'CAP',\n",
       " 'ACT',\n",
       " 'EMISS',\n",
       " 'LAND',\n",
       " 'REL',\n",
       " 'DEMAND',\n",
       " 'PRICE_COMMODITY',\n",
       " 'PRICE_EMISSION',\n",
       " 'COST_NODAL',\n",
       " 'COST_NODAL_NET',\n",
       " 'GDP',\n",
       " 'I',\n",
       " 'C']"
      ]
     },
     "execution_count": 85,
     "metadata": {},
     "output_type": "execute_result"
    }
   ],
   "source": [
    "baseline.var_list() # Checking out what variables I can have a look at for analysis"
   ]
  },
  {
   "cell_type": "markdown",
   "id": "b9c88f31",
   "metadata": {},
   "source": [
    "### Activity"
   ]
  },
  {
   "cell_type": "code",
   "execution_count": 86,
   "id": "483eb210",
   "metadata": {
    "scrolled": false
   },
   "outputs": [
    {
     "data": {
      "text/plain": [
       "<AxesSubplot:title={'center':'South Africa Energy System Activity'}, xlabel='Year', ylabel='GWa'>"
      ]
     },
     "execution_count": 86,
     "metadata": {},
     "output_type": "execute_result"
    },
    {
     "data": {
      "image/png": "[encoded data removed]",
      "text/plain": [
       "<Figure size 432x288 with 1 Axes>"
      ]
     },
     "metadata": {
      "needs_background": "light"
     },
     "output_type": "display_data"
    }
   ],
   "source": [
    "# Use Message reporter plot, not tutorial\n",
    "# Trigger the calculation and plotting\n",
    "rep_cement.set_filters(t = ['Clinker_burning', 'Clinker_burning_CCS', 'Clinker_burning_opt_kiln'])\n",
    "prepare_plots(rep_cement)\n",
    "rep_cement.get(\"plot activity\")"
   ]
  },
  {
   "cell_type": "code",
   "execution_count": 87,
   "id": "77ebf035",
   "metadata": {
    "scrolled": true
   },
   "outputs": [],
   "source": [
    "# rep_cement = Reporter.from_scenario(scenario_pc)\n",
    "# prepare_plots(rep_cement)\n",
    "# #rep_cement.set_filters(t = ['syn_liq_ccs', 'ref_hil', 'loil_t_d', 'gas_t_d', 'gas_cc', 'elec_t_d', 'coal_extr', 'biomass_nc'])\n",
    "# rep_cement.get(\"plot activity\")"
   ]
  },
  {
   "cell_type": "markdown",
   "id": "1a6cf60b",
   "metadata": {},
   "source": [
    "#### Baseline scenario"
   ]
  },
  {
   "cell_type": "code",
   "execution_count": 88,
   "id": "5027bf95",
   "metadata": {},
   "outputs": [],
   "source": [
    "ACT_base = rep.full_key('ACT')\n",
    "df_ACT_base = rep.get(ACT_base)"
   ]
  },
  {
   "cell_type": "code",
   "execution_count": 89,
   "id": "95da3d68",
   "metadata": {},
   "outputs": [
    {
     "data": {
      "text/plain": [
       "'ACT:iamc'"
      ]
     },
     "execution_count": 89,
     "metadata": {},
     "output_type": "execute_result"
    }
   ],
   "source": [
    "# The IAMC format does not have 'level', 'technology', or 'commodity'\n",
    "# columns; only a catch-all 'Variable' column.\n",
    "def format_variable(df):\n",
    "    \"\"\"Callback function to fill the IAMC 'variable' column.\"\"\"\n",
    "    df['variable'] = df['t']\n",
    "    return df.drop(['t'], axis=1)\n",
    "\n",
    "# Add node(s) that convert data to pyam.IamDataFrame objects\n",
    "new_key = rep.convert_pyam(\n",
    "    # Quantity or quantities to convert\n",
    "    quantities=ACT_base.drop('h', 'hd', 'm', 'nd', 'yv'),\n",
    "    # Dimensions to use for the 'Region' and 'Year' IAMC columns\n",
    "    rename=dict(nl=\"region\", ya=\"year\"),\n",
    "    # Use this function to collapse the 'l', 't', and 'c' dimensions\n",
    "    # into the 'Variable' IAMC column\n",
    "    collapse=format_variable\n",
    ")\n",
    "\n",
    "new_key"
   ]
  },
  {
   "cell_type": "code",
   "execution_count": 90,
   "id": "ea183ba4",
   "metadata": {
    "scrolled": true
   },
   "outputs": [],
   "source": [
    "df_ACT_base = rep.get(new_key)"
   ]
  },
  {
   "cell_type": "code",
   "execution_count": 91,
   "id": "6f3d0262",
   "metadata": {
    "scrolled": false
   },
   "outputs": [
    {
     "data": {
      "text/html": [
       "<div>\n",
       "<style scoped>\n",
       "    .dataframe tbody tr th:only-of-type {\n",
       "        vertical-align: middle;\n",
       "    }\n",
       "\n",
       "    .dataframe tbody tr th {\n",
       "        vertical-align: top;\n",
       "    }\n",
       "\n",
       "    .dataframe thead th {\n",
       "        text-align: right;\n",
       "    }\n",
       "</style>\n",
       "<table border=\"1\" class=\"dataframe\">\n",
       "  <thead>\n",
       "    <tr style=\"text-align: right;\">\n",
       "      <th></th>\n",
       "      <th>model</th>\n",
       "      <th>scenario</th>\n",
       "      <th>region</th>\n",
       "      <th>variable</th>\n",
       "      <th>unit</th>\n",
       "      <th>2020</th>\n",
       "      <th>2030</th>\n",
       "      <th>2040</th>\n",
       "      <th>2050</th>\n",
       "      <th>2060</th>\n",
       "      <th>2070</th>\n",
       "    </tr>\n",
       "  </thead>\n",
       "  <tbody>\n",
       "    <tr>\n",
       "      <th>0</th>\n",
       "      <td>MESSAGEix South Africa</td>\n",
       "      <td>baseline</td>\n",
       "      <td>South Africa</td>\n",
       "      <td>bio_extr</td>\n",
       "      <td></td>\n",
       "      <td>13.775125</td>\n",
       "      <td>19.474361</td>\n",
       "      <td>20.000000</td>\n",
       "      <td>20.000000</td>\n",
       "      <td>20.000000</td>\n",
       "      <td>20.000000</td>\n",
       "    </tr>\n",
       "    <tr>\n",
       "      <th>1</th>\n",
       "      <td>MESSAGEix South Africa</td>\n",
       "      <td>baseline</td>\n",
       "      <td>South Africa</td>\n",
       "      <td>bio_istig</td>\n",
       "      <td></td>\n",
       "      <td>0.031849</td>\n",
       "      <td>0.011105</td>\n",
       "      <td>0.003872</td>\n",
       "      <td>0.001350</td>\n",
       "      <td>0.000471</td>\n",
       "      <td>0.000164</td>\n",
       "    </tr>\n",
       "    <tr>\n",
       "      <th>2</th>\n",
       "      <td>MESSAGEix South Africa</td>\n",
       "      <td>baseline</td>\n",
       "      <td>South Africa</td>\n",
       "      <td>biomass_i</td>\n",
       "      <td></td>\n",
       "      <td>1.184057</td>\n",
       "      <td>1.700000</td>\n",
       "      <td>1.600000</td>\n",
       "      <td>1.500000</td>\n",
       "      <td>0.898105</td>\n",
       "      <td>0.537729</td>\n",
       "    </tr>\n",
       "    <tr>\n",
       "      <th>3</th>\n",
       "      <td>MESSAGEix South Africa</td>\n",
       "      <td>baseline</td>\n",
       "      <td>South Africa</td>\n",
       "      <td>biomass_nc</td>\n",
       "      <td></td>\n",
       "      <td>0.000000</td>\n",
       "      <td>0.000000</td>\n",
       "      <td>0.000000</td>\n",
       "      <td>0.000000</td>\n",
       "      <td>0.000000</td>\n",
       "      <td>0.000000</td>\n",
       "    </tr>\n",
       "    <tr>\n",
       "      <th>4</th>\n",
       "      <td>MESSAGEix South Africa</td>\n",
       "      <td>baseline</td>\n",
       "      <td>South Africa</td>\n",
       "      <td>biomass_rc</td>\n",
       "      <td></td>\n",
       "      <td>3.948134</td>\n",
       "      <td>5.479913</td>\n",
       "      <td>4.960799</td>\n",
       "      <td>4.038440</td>\n",
       "      <td>2.666613</td>\n",
       "      <td>0.929790</td>\n",
       "    </tr>\n",
       "    <tr>\n",
       "      <th>...</th>\n",
       "      <td>...</td>\n",
       "      <td>...</td>\n",
       "      <td>...</td>\n",
       "      <td>...</td>\n",
       "      <td>...</td>\n",
       "      <td>...</td>\n",
       "      <td>...</td>\n",
       "      <td>...</td>\n",
       "      <td>...</td>\n",
       "      <td>...</td>\n",
       "      <td>...</td>\n",
       "    </tr>\n",
       "    <tr>\n",
       "      <th>71</th>\n",
       "      <td>MESSAGEix South Africa</td>\n",
       "      <td>baseline</td>\n",
       "      <td>South Africa</td>\n",
       "      <td>sp_el_I</td>\n",
       "      <td></td>\n",
       "      <td>13.426834</td>\n",
       "      <td>17.763708</td>\n",
       "      <td>21.359564</td>\n",
       "      <td>23.858725</td>\n",
       "      <td>26.357885</td>\n",
       "      <td>28.857046</td>\n",
       "    </tr>\n",
       "    <tr>\n",
       "      <th>72</th>\n",
       "      <td>MESSAGEix South Africa</td>\n",
       "      <td>baseline</td>\n",
       "      <td>South Africa</td>\n",
       "      <td>sp_el_RC</td>\n",
       "      <td></td>\n",
       "      <td>7.222510</td>\n",
       "      <td>12.424913</td>\n",
       "      <td>19.042704</td>\n",
       "      <td>26.599859</td>\n",
       "      <td>34.157013</td>\n",
       "      <td>41.714165</td>\n",
       "    </tr>\n",
       "    <tr>\n",
       "      <th>73</th>\n",
       "      <td>MESSAGEix South Africa</td>\n",
       "      <td>baseline</td>\n",
       "      <td>South Africa</td>\n",
       "      <td>syn_liq</td>\n",
       "      <td></td>\n",
       "      <td>4.490273</td>\n",
       "      <td>2.688492</td>\n",
       "      <td>1.609699</td>\n",
       "      <td>0.963787</td>\n",
       "      <td>0.577055</td>\n",
       "      <td>0.345504</td>\n",
       "    </tr>\n",
       "    <tr>\n",
       "      <th>74</th>\n",
       "      <td>MESSAGEix South Africa</td>\n",
       "      <td>baseline</td>\n",
       "      <td>South Africa</td>\n",
       "      <td>syn_liq_ccs</td>\n",
       "      <td></td>\n",
       "      <td>0.000000</td>\n",
       "      <td>1.257789</td>\n",
       "      <td>3.306595</td>\n",
       "      <td>6.643885</td>\n",
       "      <td>12.079978</td>\n",
       "      <td>20.934800</td>\n",
       "    </tr>\n",
       "    <tr>\n",
       "      <th>75</th>\n",
       "      <td>MESSAGEix South Africa</td>\n",
       "      <td>baseline</td>\n",
       "      <td>South Africa</td>\n",
       "      <td>wind_ppl</td>\n",
       "      <td></td>\n",
       "      <td>0.285046</td>\n",
       "      <td>3.713393</td>\n",
       "      <td>11.489908</td>\n",
       "      <td>13.962105</td>\n",
       "      <td>15.765360</td>\n",
       "      <td>9.775115</td>\n",
       "    </tr>\n",
       "  </tbody>\n",
       "</table>\n",
       "<p>76 rows × 11 columns</p>\n",
       "</div>"
      ],
      "text/plain": [
       "                     model  scenario        region     variable unit  \\\n",
       "0   MESSAGEix South Africa  baseline  South Africa     bio_extr        \n",
       "1   MESSAGEix South Africa  baseline  South Africa    bio_istig        \n",
       "2   MESSAGEix South Africa  baseline  South Africa    biomass_i        \n",
       "3   MESSAGEix South Africa  baseline  South Africa   biomass_nc        \n",
       "4   MESSAGEix South Africa  baseline  South Africa   biomass_rc        \n",
       "..                     ...       ...           ...          ...  ...   \n",
       "71  MESSAGEix South Africa  baseline  South Africa      sp_el_I        \n",
       "72  MESSAGEix South Africa  baseline  South Africa     sp_el_RC        \n",
       "73  MESSAGEix South Africa  baseline  South Africa      syn_liq        \n",
       "74  MESSAGEix South Africa  baseline  South Africa  syn_liq_ccs        \n",
       "75  MESSAGEix South Africa  baseline  South Africa     wind_ppl        \n",
       "\n",
       "         2020       2030       2040       2050       2060       2070  \n",
       "0   13.775125  19.474361  20.000000  20.000000  20.000000  20.000000  \n",
       "1    0.031849   0.011105   0.003872   0.001350   0.000471   0.000164  \n",
       "2    1.184057   1.700000   1.600000   1.500000   0.898105   0.537729  \n",
       "3    0.000000   0.000000   0.000000   0.000000   0.000000   0.000000  \n",
       "4    3.948134   5.479913   4.960799   4.038440   2.666613   0.929790  \n",
       "..        ...        ...        ...        ...        ...        ...  \n",
       "71  13.426834  17.763708  21.359564  23.858725  26.357885  28.857046  \n",
       "72   7.222510  12.424913  19.042704  26.599859  34.157013  41.714165  \n",
       "73   4.490273   2.688492   1.609699   0.963787   0.577055   0.345504  \n",
       "74   0.000000   1.257789   3.306595   6.643885  12.079978  20.934800  \n",
       "75   0.285046   3.713393  11.489908  13.962105  15.765360   9.775115  \n",
       "\n",
       "[76 rows x 11 columns]"
      ]
     },
     "execution_count": 91,
     "metadata": {},
     "output_type": "execute_result"
    }
   ],
   "source": [
    "ACT_time_base = df_ACT_base.filter(year = [2020, 2030, 2040, 2050, 2060, 2070]).timeseries().reset_index()\n",
    "ACT_time_base"
   ]
  },
  {
   "cell_type": "code",
   "execution_count": 92,
   "id": "f20e867d",
   "metadata": {},
   "outputs": [],
   "source": [
    "df_output = baseline.par('output')\n",
    "electr_techs = df_output.loc[df_output.commodity == 'electr'].loc[df_output.level == 'secondary'].technology.unique()"
   ]
  },
  {
   "cell_type": "code",
   "execution_count": 93,
   "id": "22be839a",
   "metadata": {},
   "outputs": [
    {
     "data": {
      "text/html": [
       "<div>\n",
       "<style scoped>\n",
       "    .dataframe tbody tr th:only-of-type {\n",
       "        vertical-align: middle;\n",
       "    }\n",
       "\n",
       "    .dataframe tbody tr th {\n",
       "        vertical-align: top;\n",
       "    }\n",
       "\n",
       "    .dataframe thead th {\n",
       "        text-align: right;\n",
       "    }\n",
       "</style>\n",
       "<table border=\"1\" class=\"dataframe\">\n",
       "  <thead>\n",
       "    <tr style=\"text-align: right;\">\n",
       "      <th></th>\n",
       "      <th>model</th>\n",
       "      <th>scenario</th>\n",
       "      <th>region</th>\n",
       "      <th>variable</th>\n",
       "      <th>unit</th>\n",
       "      <th>2020</th>\n",
       "      <th>2030</th>\n",
       "      <th>2040</th>\n",
       "      <th>2050</th>\n",
       "      <th>2060</th>\n",
       "      <th>2070</th>\n",
       "    </tr>\n",
       "  </thead>\n",
       "  <tbody>\n",
       "    <tr>\n",
       "      <th>1</th>\n",
       "      <td>MESSAGEix South Africa</td>\n",
       "      <td>baseline</td>\n",
       "      <td>South Africa</td>\n",
       "      <td>bio_istig</td>\n",
       "      <td></td>\n",
       "      <td>0.031849</td>\n",
       "      <td>0.011105</td>\n",
       "      <td>0.003872</td>\n",
       "      <td>0.001350</td>\n",
       "      <td>0.000471</td>\n",
       "      <td>0.000164</td>\n",
       "    </tr>\n",
       "    <tr>\n",
       "      <th>6</th>\n",
       "      <td>MESSAGEix South Africa</td>\n",
       "      <td>baseline</td>\n",
       "      <td>South Africa</td>\n",
       "      <td>coal_adv</td>\n",
       "      <td></td>\n",
       "      <td>0.000000</td>\n",
       "      <td>0.000000</td>\n",
       "      <td>0.000000</td>\n",
       "      <td>0.000000</td>\n",
       "      <td>0.000000</td>\n",
       "      <td>0.000000</td>\n",
       "    </tr>\n",
       "    <tr>\n",
       "      <th>7</th>\n",
       "      <td>MESSAGEix South Africa</td>\n",
       "      <td>baseline</td>\n",
       "      <td>South Africa</td>\n",
       "      <td>coal_adv_ccs</td>\n",
       "      <td></td>\n",
       "      <td>0.000000</td>\n",
       "      <td>0.000000</td>\n",
       "      <td>0.000000</td>\n",
       "      <td>0.000000</td>\n",
       "      <td>0.000000</td>\n",
       "      <td>0.000000</td>\n",
       "    </tr>\n",
       "    <tr>\n",
       "      <th>15</th>\n",
       "      <td>MESSAGEix South Africa</td>\n",
       "      <td>baseline</td>\n",
       "      <td>South Africa</td>\n",
       "      <td>coal_ppl</td>\n",
       "      <td></td>\n",
       "      <td>24.807579</td>\n",
       "      <td>8.649868</td>\n",
       "      <td>3.016022</td>\n",
       "      <td>1.051622</td>\n",
       "      <td>0.366678</td>\n",
       "      <td>0.127853</td>\n",
       "    </tr>\n",
       "    <tr>\n",
       "      <th>20</th>\n",
       "      <td>MESSAGEix South Africa</td>\n",
       "      <td>baseline</td>\n",
       "      <td>South Africa</td>\n",
       "      <td>elec_imp</td>\n",
       "      <td></td>\n",
       "      <td>1.491171</td>\n",
       "      <td>0.892819</td>\n",
       "      <td>0.534564</td>\n",
       "      <td>0.320063</td>\n",
       "      <td>0.191634</td>\n",
       "      <td>0.114738</td>\n",
       "    </tr>\n",
       "    <tr>\n",
       "      <th>26</th>\n",
       "      <td>MESSAGEix South Africa</td>\n",
       "      <td>baseline</td>\n",
       "      <td>South Africa</td>\n",
       "      <td>foil_ppl</td>\n",
       "      <td></td>\n",
       "      <td>0.018801</td>\n",
       "      <td>0.006556</td>\n",
       "      <td>0.002286</td>\n",
       "      <td>0.000797</td>\n",
       "      <td>0.000278</td>\n",
       "      <td>0.000097</td>\n",
       "    </tr>\n",
       "    <tr>\n",
       "      <th>32</th>\n",
       "      <td>MESSAGEix South Africa</td>\n",
       "      <td>baseline</td>\n",
       "      <td>South Africa</td>\n",
       "      <td>gas_cc</td>\n",
       "      <td></td>\n",
       "      <td>0.087786</td>\n",
       "      <td>0.030609</td>\n",
       "      <td>0.010673</td>\n",
       "      <td>0.003721</td>\n",
       "      <td>0.001298</td>\n",
       "      <td>0.000452</td>\n",
       "    </tr>\n",
       "    <tr>\n",
       "      <th>33</th>\n",
       "      <td>MESSAGEix South Africa</td>\n",
       "      <td>baseline</td>\n",
       "      <td>South Africa</td>\n",
       "      <td>gas_cc_ccs</td>\n",
       "      <td></td>\n",
       "      <td>0.000000</td>\n",
       "      <td>0.067509</td>\n",
       "      <td>0.206592</td>\n",
       "      <td>0.275857</td>\n",
       "      <td>0.096185</td>\n",
       "      <td>0.033538</td>\n",
       "    </tr>\n",
       "    <tr>\n",
       "      <th>34</th>\n",
       "      <td>MESSAGEix South Africa</td>\n",
       "      <td>baseline</td>\n",
       "      <td>South Africa</td>\n",
       "      <td>gas_ct</td>\n",
       "      <td></td>\n",
       "      <td>0.000000</td>\n",
       "      <td>0.000000</td>\n",
       "      <td>0.000000</td>\n",
       "      <td>0.000000</td>\n",
       "      <td>0.000000</td>\n",
       "      <td>0.000000</td>\n",
       "    </tr>\n",
       "    <tr>\n",
       "      <th>40</th>\n",
       "      <td>MESSAGEix South Africa</td>\n",
       "      <td>baseline</td>\n",
       "      <td>South Africa</td>\n",
       "      <td>gas_ppl</td>\n",
       "      <td></td>\n",
       "      <td>0.029514</td>\n",
       "      <td>0.010291</td>\n",
       "      <td>0.003588</td>\n",
       "      <td>0.001251</td>\n",
       "      <td>0.000436</td>\n",
       "      <td>0.000152</td>\n",
       "    </tr>\n",
       "    <tr>\n",
       "      <th>44</th>\n",
       "      <td>MESSAGEix South Africa</td>\n",
       "      <td>baseline</td>\n",
       "      <td>South Africa</td>\n",
       "      <td>hydro_ppl</td>\n",
       "      <td></td>\n",
       "      <td>0.100582</td>\n",
       "      <td>0.454388</td>\n",
       "      <td>0.465525</td>\n",
       "      <td>0.162319</td>\n",
       "      <td>0.056597</td>\n",
       "      <td>0.051933</td>\n",
       "    </tr>\n",
       "    <tr>\n",
       "      <th>45</th>\n",
       "      <td>MESSAGEix South Africa</td>\n",
       "      <td>baseline</td>\n",
       "      <td>South Africa</td>\n",
       "      <td>igcc</td>\n",
       "      <td></td>\n",
       "      <td>0.000000</td>\n",
       "      <td>0.000000</td>\n",
       "      <td>0.000000</td>\n",
       "      <td>0.000000</td>\n",
       "      <td>0.000000</td>\n",
       "      <td>0.000000</td>\n",
       "    </tr>\n",
       "    <tr>\n",
       "      <th>46</th>\n",
       "      <td>MESSAGEix South Africa</td>\n",
       "      <td>baseline</td>\n",
       "      <td>South Africa</td>\n",
       "      <td>igcc_ccs</td>\n",
       "      <td></td>\n",
       "      <td>0.000000</td>\n",
       "      <td>0.000000</td>\n",
       "      <td>0.000000</td>\n",
       "      <td>0.000000</td>\n",
       "      <td>0.000000</td>\n",
       "      <td>0.000000</td>\n",
       "    </tr>\n",
       "    <tr>\n",
       "      <th>51</th>\n",
       "      <td>MESSAGEix South Africa</td>\n",
       "      <td>baseline</td>\n",
       "      <td>South Africa</td>\n",
       "      <td>loil_ppl</td>\n",
       "      <td></td>\n",
       "      <td>0.020921</td>\n",
       "      <td>0.007295</td>\n",
       "      <td>0.002543</td>\n",
       "      <td>0.000887</td>\n",
       "      <td>0.000309</td>\n",
       "      <td>0.000108</td>\n",
       "    </tr>\n",
       "    <tr>\n",
       "      <th>55</th>\n",
       "      <td>MESSAGEix South Africa</td>\n",
       "      <td>baseline</td>\n",
       "      <td>South Africa</td>\n",
       "      <td>meth_coal</td>\n",
       "      <td></td>\n",
       "      <td>1.824025</td>\n",
       "      <td>1.092111</td>\n",
       "      <td>0.653887</td>\n",
       "      <td>0.391506</td>\n",
       "      <td>0.234409</td>\n",
       "      <td>0.140350</td>\n",
       "    </tr>\n",
       "    <tr>\n",
       "      <th>56</th>\n",
       "      <td>MESSAGEix South Africa</td>\n",
       "      <td>baseline</td>\n",
       "      <td>South Africa</td>\n",
       "      <td>meth_coal_ccs</td>\n",
       "      <td></td>\n",
       "      <td>0.000000</td>\n",
       "      <td>0.000000</td>\n",
       "      <td>0.000000</td>\n",
       "      <td>0.000000</td>\n",
       "      <td>0.000000</td>\n",
       "      <td>0.000000</td>\n",
       "    </tr>\n",
       "    <tr>\n",
       "      <th>57</th>\n",
       "      <td>MESSAGEix South Africa</td>\n",
       "      <td>baseline</td>\n",
       "      <td>South Africa</td>\n",
       "      <td>meth_ng</td>\n",
       "      <td></td>\n",
       "      <td>1.250123</td>\n",
       "      <td>0.748495</td>\n",
       "      <td>0.448151</td>\n",
       "      <td>0.268325</td>\n",
       "      <td>0.160656</td>\n",
       "      <td>0.096191</td>\n",
       "    </tr>\n",
       "    <tr>\n",
       "      <th>58</th>\n",
       "      <td>MESSAGEix South Africa</td>\n",
       "      <td>baseline</td>\n",
       "      <td>South Africa</td>\n",
       "      <td>meth_ng_ccs</td>\n",
       "      <td></td>\n",
       "      <td>0.000000</td>\n",
       "      <td>0.000000</td>\n",
       "      <td>0.000000</td>\n",
       "      <td>0.000000</td>\n",
       "      <td>0.000000</td>\n",
       "      <td>0.000000</td>\n",
       "    </tr>\n",
       "    <tr>\n",
       "      <th>59</th>\n",
       "      <td>MESSAGEix South Africa</td>\n",
       "      <td>baseline</td>\n",
       "      <td>South Africa</td>\n",
       "      <td>nuc_ppl</td>\n",
       "      <td></td>\n",
       "      <td>1.536610</td>\n",
       "      <td>6.676300</td>\n",
       "      <td>7.501791</td>\n",
       "      <td>2.615713</td>\n",
       "      <td>1.295992</td>\n",
       "      <td>0.451884</td>\n",
       "    </tr>\n",
       "    <tr>\n",
       "      <th>67</th>\n",
       "      <td>MESSAGEix South Africa</td>\n",
       "      <td>baseline</td>\n",
       "      <td>South Africa</td>\n",
       "      <td>solar_pv_ppl</td>\n",
       "      <td></td>\n",
       "      <td>0.224281</td>\n",
       "      <td>0.302366</td>\n",
       "      <td>0.329257</td>\n",
       "      <td>0.114805</td>\n",
       "      <td>0.040030</td>\n",
       "      <td>0.013958</td>\n",
       "    </tr>\n",
       "    <tr>\n",
       "      <th>69</th>\n",
       "      <td>MESSAGEix South Africa</td>\n",
       "      <td>baseline</td>\n",
       "      <td>South Africa</td>\n",
       "      <td>solar_th_ppl</td>\n",
       "      <td></td>\n",
       "      <td>3.038586</td>\n",
       "      <td>10.232024</td>\n",
       "      <td>12.990538</td>\n",
       "      <td>10.767070</td>\n",
       "      <td>5.255120</td>\n",
       "      <td>5.619947</td>\n",
       "    </tr>\n",
       "    <tr>\n",
       "      <th>70</th>\n",
       "      <td>MESSAGEix South Africa</td>\n",
       "      <td>baseline</td>\n",
       "      <td>South Africa</td>\n",
       "      <td>solar_th_ppl_base</td>\n",
       "      <td></td>\n",
       "      <td>10.710785</td>\n",
       "      <td>28.358011</td>\n",
       "      <td>39.780322</td>\n",
       "      <td>63.052664</td>\n",
       "      <td>80.846127</td>\n",
       "      <td>94.253326</td>\n",
       "    </tr>\n",
       "    <tr>\n",
       "      <th>73</th>\n",
       "      <td>MESSAGEix South Africa</td>\n",
       "      <td>baseline</td>\n",
       "      <td>South Africa</td>\n",
       "      <td>syn_liq</td>\n",
       "      <td></td>\n",
       "      <td>4.490273</td>\n",
       "      <td>2.688492</td>\n",
       "      <td>1.609699</td>\n",
       "      <td>0.963787</td>\n",
       "      <td>0.577055</td>\n",
       "      <td>0.345504</td>\n",
       "    </tr>\n",
       "    <tr>\n",
       "      <th>74</th>\n",
       "      <td>MESSAGEix South Africa</td>\n",
       "      <td>baseline</td>\n",
       "      <td>South Africa</td>\n",
       "      <td>syn_liq_ccs</td>\n",
       "      <td></td>\n",
       "      <td>0.000000</td>\n",
       "      <td>1.257789</td>\n",
       "      <td>3.306595</td>\n",
       "      <td>6.643885</td>\n",
       "      <td>12.079978</td>\n",
       "      <td>20.934800</td>\n",
       "    </tr>\n",
       "    <tr>\n",
       "      <th>75</th>\n",
       "      <td>MESSAGEix South Africa</td>\n",
       "      <td>baseline</td>\n",
       "      <td>South Africa</td>\n",
       "      <td>wind_ppl</td>\n",
       "      <td></td>\n",
       "      <td>0.285046</td>\n",
       "      <td>3.713393</td>\n",
       "      <td>11.489908</td>\n",
       "      <td>13.962105</td>\n",
       "      <td>15.765360</td>\n",
       "      <td>9.775115</td>\n",
       "    </tr>\n",
       "  </tbody>\n",
       "</table>\n",
       "</div>"
      ],
      "text/plain": [
       "                     model  scenario        region           variable unit  \\\n",
       "1   MESSAGEix South Africa  baseline  South Africa          bio_istig        \n",
       "6   MESSAGEix South Africa  baseline  South Africa           coal_adv        \n",
       "7   MESSAGEix South Africa  baseline  South Africa       coal_adv_ccs        \n",
       "15  MESSAGEix South Africa  baseline  South Africa           coal_ppl        \n",
       "20  MESSAGEix South Africa  baseline  South Africa           elec_imp        \n",
       "26  MESSAGEix South Africa  baseline  South Africa           foil_ppl        \n",
       "32  MESSAGEix South Africa  baseline  South Africa             gas_cc        \n",
       "33  MESSAGEix South Africa  baseline  South Africa         gas_cc_ccs        \n",
       "34  MESSAGEix South Africa  baseline  South Africa             gas_ct        \n",
       "40  MESSAGEix South Africa  baseline  South Africa            gas_ppl        \n",
       "44  MESSAGEix South Africa  baseline  South Africa          hydro_ppl        \n",
       "45  MESSAGEix South Africa  baseline  South Africa               igcc        \n",
       "46  MESSAGEix South Africa  baseline  South Africa           igcc_ccs        \n",
       "51  MESSAGEix South Africa  baseline  South Africa           loil_ppl        \n",
       "55  MESSAGEix South Africa  baseline  South Africa          meth_coal        \n",
       "56  MESSAGEix South Africa  baseline  South Africa      meth_coal_ccs        \n",
       "57  MESSAGEix South Africa  baseline  South Africa            meth_ng        \n",
       "58  MESSAGEix South Africa  baseline  South Africa        meth_ng_ccs        \n",
       "59  MESSAGEix South Africa  baseline  South Africa            nuc_ppl        \n",
       "67  MESSAGEix South Africa  baseline  South Africa       solar_pv_ppl        \n",
       "69  MESSAGEix South Africa  baseline  South Africa       solar_th_ppl        \n",
       "70  MESSAGEix South Africa  baseline  South Africa  solar_th_ppl_base        \n",
       "73  MESSAGEix South Africa  baseline  South Africa            syn_liq        \n",
       "74  MESSAGEix South Africa  baseline  South Africa        syn_liq_ccs        \n",
       "75  MESSAGEix South Africa  baseline  South Africa           wind_ppl        \n",
       "\n",
       "         2020       2030       2040       2050       2060       2070  \n",
       "1    0.031849   0.011105   0.003872   0.001350   0.000471   0.000164  \n",
       "6    0.000000   0.000000   0.000000   0.000000   0.000000   0.000000  \n",
       "7    0.000000   0.000000   0.000000   0.000000   0.000000   0.000000  \n",
       "15  24.807579   8.649868   3.016022   1.051622   0.366678   0.127853  \n",
       "20   1.491171   0.892819   0.534564   0.320063   0.191634   0.114738  \n",
       "26   0.018801   0.006556   0.002286   0.000797   0.000278   0.000097  \n",
       "32   0.087786   0.030609   0.010673   0.003721   0.001298   0.000452  \n",
       "33   0.000000   0.067509   0.206592   0.275857   0.096185   0.033538  \n",
       "34   0.000000   0.000000   0.000000   0.000000   0.000000   0.000000  \n",
       "40   0.029514   0.010291   0.003588   0.001251   0.000436   0.000152  \n",
       "44   0.100582   0.454388   0.465525   0.162319   0.056597   0.051933  \n",
       "45   0.000000   0.000000   0.000000   0.000000   0.000000   0.000000  \n",
       "46   0.000000   0.000000   0.000000   0.000000   0.000000   0.000000  \n",
       "51   0.020921   0.007295   0.002543   0.000887   0.000309   0.000108  \n",
       "55   1.824025   1.092111   0.653887   0.391506   0.234409   0.140350  \n",
       "56   0.000000   0.000000   0.000000   0.000000   0.000000   0.000000  \n",
       "57   1.250123   0.748495   0.448151   0.268325   0.160656   0.096191  \n",
       "58   0.000000   0.000000   0.000000   0.000000   0.000000   0.000000  \n",
       "59   1.536610   6.676300   7.501791   2.615713   1.295992   0.451884  \n",
       "67   0.224281   0.302366   0.329257   0.114805   0.040030   0.013958  \n",
       "69   3.038586  10.232024  12.990538  10.767070   5.255120   5.619947  \n",
       "70  10.710785  28.358011  39.780322  63.052664  80.846127  94.253326  \n",
       "73   4.490273   2.688492   1.609699   0.963787   0.577055   0.345504  \n",
       "74   0.000000   1.257789   3.306595   6.643885  12.079978  20.934800  \n",
       "75   0.285046   3.713393  11.489908  13.962105  15.765360   9.775115  "
      ]
     },
     "execution_count": 93,
     "metadata": {},
     "output_type": "execute_result"
    }
   ],
   "source": [
    "df = ACT_time_base.loc[ACT_time_base.variable.isin(electr_techs)]\n",
    "df"
   ]
  },
  {
   "cell_type": "code",
   "execution_count": 94,
   "id": "d957d411",
   "metadata": {
    "scrolled": true
   },
   "outputs": [],
   "source": [
    "#df.to_excel('electr_act_baseline_high_emission.xlsx')"
   ]
  },
  {
   "cell_type": "markdown",
   "id": "862b397b",
   "metadata": {},
   "source": [
    "#### Cement scenario"
   ]
  },
  {
   "cell_type": "code",
   "execution_count": 95,
   "id": "35196cbb",
   "metadata": {},
   "outputs": [],
   "source": [
    "rep_cement = Reporter.from_scenario(scenario_pc)"
   ]
  },
  {
   "cell_type": "code",
   "execution_count": 96,
   "id": "d4a698ef",
   "metadata": {},
   "outputs": [],
   "source": [
    "ACT_cement = rep_cement.full_key('ACT')\n",
    "df_ACT_cement = rep_cement.get(ACT_cement)"
   ]
  },
  {
   "cell_type": "code",
   "execution_count": 97,
   "id": "b0302c69",
   "metadata": {},
   "outputs": [
    {
     "data": {
      "text/plain": [
       "'ACT:iamc'"
      ]
     },
     "execution_count": 97,
     "metadata": {},
     "output_type": "execute_result"
    }
   ],
   "source": [
    "# The IAMC format does not have 'level', 'technology', or 'commodity'\n",
    "# columns; only a catch-all 'Variable' column.\n",
    "def format_variable(df):\n",
    "    \"\"\"Callback function to fill the IAMC 'variable' column.\"\"\"\n",
    "    df['variable'] = df['t']\n",
    "    return df.drop(['t'], axis=1)\n",
    "\n",
    "# Add node(s) that convert data to pyam.IamDataFrame objects\n",
    "new_key = rep_cement.convert_pyam(\n",
    "    # Quantity or quantities to convert\n",
    "    quantities=ACT_cement.drop('h', 'hd', 'm', 'nd', 'yv'),\n",
    "    # Dimensions to use for the 'Region' and 'Year' IAMC columns\n",
    "    rename=dict(nl=\"region\", ya=\"year\"),\n",
    "    # Use this function to collapse the 'l', 't', and 'c' dimensions\n",
    "    # into the 'Variable' IAMC column\n",
    "    collapse=format_variable\n",
    ")\n",
    "\n",
    "new_key"
   ]
  },
  {
   "cell_type": "code",
   "execution_count": 98,
   "id": "256bfbe7",
   "metadata": {
    "scrolled": true
   },
   "outputs": [],
   "source": [
    "df_ACT_cement = rep_cement.get(new_key)"
   ]
  },
  {
   "cell_type": "code",
   "execution_count": 99,
   "id": "3e21f296",
   "metadata": {
    "scrolled": false
   },
   "outputs": [
    {
     "data": {
      "text/html": [
       "<div>\n",
       "<style scoped>\n",
       "    .dataframe tbody tr th:only-of-type {\n",
       "        vertical-align: middle;\n",
       "    }\n",
       "\n",
       "    .dataframe tbody tr th {\n",
       "        vertical-align: top;\n",
       "    }\n",
       "\n",
       "    .dataframe thead th {\n",
       "        text-align: right;\n",
       "    }\n",
       "</style>\n",
       "<table border=\"1\" class=\"dataframe\">\n",
       "  <thead>\n",
       "    <tr style=\"text-align: right;\">\n",
       "      <th></th>\n",
       "      <th>model</th>\n",
       "      <th>scenario</th>\n",
       "      <th>region</th>\n",
       "      <th>variable</th>\n",
       "      <th>unit</th>\n",
       "      <th>2020</th>\n",
       "      <th>2030</th>\n",
       "      <th>2040</th>\n",
       "      <th>2050</th>\n",
       "      <th>2060</th>\n",
       "      <th>2070</th>\n",
       "    </tr>\n",
       "  </thead>\n",
       "  <tbody>\n",
       "    <tr>\n",
       "      <th>0</th>\n",
       "      <td>MESSAGEix South Africa</td>\n",
       "      <td>cement added</td>\n",
       "      <td>South Africa</td>\n",
       "      <td>Cement_grinding</td>\n",
       "      <td></td>\n",
       "      <td>20.709734</td>\n",
       "      <td>24.694648</td>\n",
       "      <td>28.391852</td>\n",
       "      <td>31.248572</td>\n",
       "      <td>33.201925</td>\n",
       "      <td>34.395332</td>\n",
       "    </tr>\n",
       "    <tr>\n",
       "      <th>1</th>\n",
       "      <td>MESSAGEix South Africa</td>\n",
       "      <td>cement added</td>\n",
       "      <td>South Africa</td>\n",
       "      <td>Clinker_burning</td>\n",
       "      <td></td>\n",
       "      <td>4.970336</td>\n",
       "      <td>0.000000</td>\n",
       "      <td>0.000000</td>\n",
       "      <td>0.000000</td>\n",
       "      <td>0.000000</td>\n",
       "      <td>0.000000</td>\n",
       "    </tr>\n",
       "    <tr>\n",
       "      <th>2</th>\n",
       "      <td>MESSAGEix South Africa</td>\n",
       "      <td>cement added</td>\n",
       "      <td>South Africa</td>\n",
       "      <td>Clinker_burning_CCS</td>\n",
       "      <td></td>\n",
       "      <td>11.597451</td>\n",
       "      <td>13.829003</td>\n",
       "      <td>15.899437</td>\n",
       "      <td>17.499200</td>\n",
       "      <td>18.593078</td>\n",
       "      <td>19.261386</td>\n",
       "    </tr>\n",
       "    <tr>\n",
       "      <th>3</th>\n",
       "      <td>MESSAGEix South Africa</td>\n",
       "      <td>cement added</td>\n",
       "      <td>South Africa</td>\n",
       "      <td>Clinker_burning_opt_kiln</td>\n",
       "      <td></td>\n",
       "      <td>0.000000</td>\n",
       "      <td>5.926715</td>\n",
       "      <td>6.814044</td>\n",
       "      <td>7.499657</td>\n",
       "      <td>7.968462</td>\n",
       "      <td>8.254880</td>\n",
       "    </tr>\n",
       "    <tr>\n",
       "      <th>4</th>\n",
       "      <td>MESSAGEix South Africa</td>\n",
       "      <td>cement added</td>\n",
       "      <td>South Africa</td>\n",
       "      <td>Mining_clinker</td>\n",
       "      <td></td>\n",
       "      <td>13.254230</td>\n",
       "      <td>15.804574</td>\n",
       "      <td>18.170785</td>\n",
       "      <td>19.999086</td>\n",
       "      <td>21.249232</td>\n",
       "      <td>22.013013</td>\n",
       "    </tr>\n",
       "    <tr>\n",
       "      <th>...</th>\n",
       "      <td>...</td>\n",
       "      <td>...</td>\n",
       "      <td>...</td>\n",
       "      <td>...</td>\n",
       "      <td>...</td>\n",
       "      <td>...</td>\n",
       "      <td>...</td>\n",
       "      <td>...</td>\n",
       "      <td>...</td>\n",
       "      <td>...</td>\n",
       "      <td>...</td>\n",
       "    </tr>\n",
       "    <tr>\n",
       "      <th>81</th>\n",
       "      <td>MESSAGEix South Africa</td>\n",
       "      <td>cement added</td>\n",
       "      <td>South Africa</td>\n",
       "      <td>sp_el_I</td>\n",
       "      <td></td>\n",
       "      <td>13.426834</td>\n",
       "      <td>17.763708</td>\n",
       "      <td>21.359564</td>\n",
       "      <td>23.858725</td>\n",
       "      <td>26.357885</td>\n",
       "      <td>28.857046</td>\n",
       "    </tr>\n",
       "    <tr>\n",
       "      <th>82</th>\n",
       "      <td>MESSAGEix South Africa</td>\n",
       "      <td>cement added</td>\n",
       "      <td>South Africa</td>\n",
       "      <td>sp_el_RC</td>\n",
       "      <td></td>\n",
       "      <td>7.222510</td>\n",
       "      <td>12.424913</td>\n",
       "      <td>19.042704</td>\n",
       "      <td>26.599859</td>\n",
       "      <td>34.157013</td>\n",
       "      <td>41.714165</td>\n",
       "    </tr>\n",
       "    <tr>\n",
       "      <th>83</th>\n",
       "      <td>MESSAGEix South Africa</td>\n",
       "      <td>cement added</td>\n",
       "      <td>South Africa</td>\n",
       "      <td>syn_liq</td>\n",
       "      <td></td>\n",
       "      <td>4.490273</td>\n",
       "      <td>2.688492</td>\n",
       "      <td>1.609699</td>\n",
       "      <td>0.963787</td>\n",
       "      <td>0.577055</td>\n",
       "      <td>0.345504</td>\n",
       "    </tr>\n",
       "    <tr>\n",
       "      <th>84</th>\n",
       "      <td>MESSAGEix South Africa</td>\n",
       "      <td>cement added</td>\n",
       "      <td>South Africa</td>\n",
       "      <td>syn_liq_ccs</td>\n",
       "      <td></td>\n",
       "      <td>0.000000</td>\n",
       "      <td>1.257789</td>\n",
       "      <td>3.306595</td>\n",
       "      <td>6.643885</td>\n",
       "      <td>12.079978</td>\n",
       "      <td>20.934800</td>\n",
       "    </tr>\n",
       "    <tr>\n",
       "      <th>85</th>\n",
       "      <td>MESSAGEix South Africa</td>\n",
       "      <td>cement added</td>\n",
       "      <td>South Africa</td>\n",
       "      <td>wind_ppl</td>\n",
       "      <td></td>\n",
       "      <td>0.285046</td>\n",
       "      <td>3.713393</td>\n",
       "      <td>11.829538</td>\n",
       "      <td>14.420156</td>\n",
       "      <td>15.934322</td>\n",
       "      <td>9.503648</td>\n",
       "    </tr>\n",
       "  </tbody>\n",
       "</table>\n",
       "<p>86 rows × 11 columns</p>\n",
       "</div>"
      ],
      "text/plain": [
       "                     model      scenario        region  \\\n",
       "0   MESSAGEix South Africa  cement added  South Africa   \n",
       "1   MESSAGEix South Africa  cement added  South Africa   \n",
       "2   MESSAGEix South Africa  cement added  South Africa   \n",
       "3   MESSAGEix South Africa  cement added  South Africa   \n",
       "4   MESSAGEix South Africa  cement added  South Africa   \n",
       "..                     ...           ...           ...   \n",
       "81  MESSAGEix South Africa  cement added  South Africa   \n",
       "82  MESSAGEix South Africa  cement added  South Africa   \n",
       "83  MESSAGEix South Africa  cement added  South Africa   \n",
       "84  MESSAGEix South Africa  cement added  South Africa   \n",
       "85  MESSAGEix South Africa  cement added  South Africa   \n",
       "\n",
       "                    variable unit       2020       2030       2040       2050  \\\n",
       "0            Cement_grinding       20.709734  24.694648  28.391852  31.248572   \n",
       "1            Clinker_burning        4.970336   0.000000   0.000000   0.000000   \n",
       "2        Clinker_burning_CCS       11.597451  13.829003  15.899437  17.499200   \n",
       "3   Clinker_burning_opt_kiln        0.000000   5.926715   6.814044   7.499657   \n",
       "4             Mining_clinker       13.254230  15.804574  18.170785  19.999086   \n",
       "..                       ...  ...        ...        ...        ...        ...   \n",
       "81                   sp_el_I       13.426834  17.763708  21.359564  23.858725   \n",
       "82                  sp_el_RC        7.222510  12.424913  19.042704  26.599859   \n",
       "83                   syn_liq        4.490273   2.688492   1.609699   0.963787   \n",
       "84               syn_liq_ccs        0.000000   1.257789   3.306595   6.643885   \n",
       "85                  wind_ppl        0.285046   3.713393  11.829538  14.420156   \n",
       "\n",
       "         2060       2070  \n",
       "0   33.201925  34.395332  \n",
       "1    0.000000   0.000000  \n",
       "2   18.593078  19.261386  \n",
       "3    7.968462   8.254880  \n",
       "4   21.249232  22.013013  \n",
       "..        ...        ...  \n",
       "81  26.357885  28.857046  \n",
       "82  34.157013  41.714165  \n",
       "83   0.577055   0.345504  \n",
       "84  12.079978  20.934800  \n",
       "85  15.934322   9.503648  \n",
       "\n",
       "[86 rows x 11 columns]"
      ]
     },
     "execution_count": 99,
     "metadata": {},
     "output_type": "execute_result"
    }
   ],
   "source": [
    "ACT_time_cement = df_ACT_cement.filter(year = [2020, 2030, 2040, 2050, 2060, 2070]).timeseries().reset_index()\n",
    "ACT_time_cement"
   ]
  },
  {
   "cell_type": "code",
   "execution_count": 100,
   "id": "1368a1ce",
   "metadata": {},
   "outputs": [
    {
     "data": {
      "text/html": [
       "<div>\n",
       "<style scoped>\n",
       "    .dataframe tbody tr th:only-of-type {\n",
       "        vertical-align: middle;\n",
       "    }\n",
       "\n",
       "    .dataframe tbody tr th {\n",
       "        vertical-align: top;\n",
       "    }\n",
       "\n",
       "    .dataframe thead th {\n",
       "        text-align: right;\n",
       "    }\n",
       "</style>\n",
       "<table border=\"1\" class=\"dataframe\">\n",
       "  <thead>\n",
       "    <tr style=\"text-align: right;\">\n",
       "      <th></th>\n",
       "      <th>model</th>\n",
       "      <th>scenario</th>\n",
       "      <th>region</th>\n",
       "      <th>variable</th>\n",
       "      <th>unit</th>\n",
       "      <th>2020</th>\n",
       "      <th>2030</th>\n",
       "      <th>2040</th>\n",
       "      <th>2050</th>\n",
       "      <th>2060</th>\n",
       "      <th>2070</th>\n",
       "    </tr>\n",
       "  </thead>\n",
       "  <tbody>\n",
       "    <tr>\n",
       "      <th>7</th>\n",
       "      <td>MESSAGEix South Africa</td>\n",
       "      <td>cement added</td>\n",
       "      <td>South Africa</td>\n",
       "      <td>bio_istig</td>\n",
       "      <td></td>\n",
       "      <td>0.038927</td>\n",
       "      <td>0.013573</td>\n",
       "      <td>0.004733</td>\n",
       "      <td>0.001650</td>\n",
       "      <td>0.000575</td>\n",
       "      <td>0.000201</td>\n",
       "    </tr>\n",
       "    <tr>\n",
       "      <th>16</th>\n",
       "      <td>MESSAGEix South Africa</td>\n",
       "      <td>cement added</td>\n",
       "      <td>South Africa</td>\n",
       "      <td>coal_adv</td>\n",
       "      <td></td>\n",
       "      <td>0.000000</td>\n",
       "      <td>0.000000</td>\n",
       "      <td>0.000000</td>\n",
       "      <td>0.000000</td>\n",
       "      <td>0.000000</td>\n",
       "      <td>0.000000</td>\n",
       "    </tr>\n",
       "    <tr>\n",
       "      <th>17</th>\n",
       "      <td>MESSAGEix South Africa</td>\n",
       "      <td>cement added</td>\n",
       "      <td>South Africa</td>\n",
       "      <td>coal_adv_ccs</td>\n",
       "      <td></td>\n",
       "      <td>0.000000</td>\n",
       "      <td>0.000000</td>\n",
       "      <td>0.000000</td>\n",
       "      <td>0.000000</td>\n",
       "      <td>0.000000</td>\n",
       "      <td>0.000000</td>\n",
       "    </tr>\n",
       "    <tr>\n",
       "      <th>25</th>\n",
       "      <td>MESSAGEix South Africa</td>\n",
       "      <td>cement added</td>\n",
       "      <td>South Africa</td>\n",
       "      <td>coal_ppl</td>\n",
       "      <td></td>\n",
       "      <td>24.807579</td>\n",
       "      <td>8.649868</td>\n",
       "      <td>3.016022</td>\n",
       "      <td>1.051622</td>\n",
       "      <td>0.366678</td>\n",
       "      <td>0.127853</td>\n",
       "    </tr>\n",
       "    <tr>\n",
       "      <th>30</th>\n",
       "      <td>MESSAGEix South Africa</td>\n",
       "      <td>cement added</td>\n",
       "      <td>South Africa</td>\n",
       "      <td>elec_imp</td>\n",
       "      <td></td>\n",
       "      <td>1.491171</td>\n",
       "      <td>0.892819</td>\n",
       "      <td>0.534564</td>\n",
       "      <td>0.320063</td>\n",
       "      <td>0.191634</td>\n",
       "      <td>0.114738</td>\n",
       "    </tr>\n",
       "    <tr>\n",
       "      <th>36</th>\n",
       "      <td>MESSAGEix South Africa</td>\n",
       "      <td>cement added</td>\n",
       "      <td>South Africa</td>\n",
       "      <td>foil_ppl</td>\n",
       "      <td></td>\n",
       "      <td>0.018801</td>\n",
       "      <td>0.006556</td>\n",
       "      <td>0.002286</td>\n",
       "      <td>0.000797</td>\n",
       "      <td>0.000278</td>\n",
       "      <td>0.000097</td>\n",
       "    </tr>\n",
       "    <tr>\n",
       "      <th>42</th>\n",
       "      <td>MESSAGEix South Africa</td>\n",
       "      <td>cement added</td>\n",
       "      <td>South Africa</td>\n",
       "      <td>gas_cc</td>\n",
       "      <td></td>\n",
       "      <td>0.504609</td>\n",
       "      <td>0.175946</td>\n",
       "      <td>0.061349</td>\n",
       "      <td>0.021391</td>\n",
       "      <td>0.007459</td>\n",
       "      <td>0.002601</td>\n",
       "    </tr>\n",
       "    <tr>\n",
       "      <th>43</th>\n",
       "      <td>MESSAGEix South Africa</td>\n",
       "      <td>cement added</td>\n",
       "      <td>South Africa</td>\n",
       "      <td>gas_cc_ccs</td>\n",
       "      <td></td>\n",
       "      <td>0.000000</td>\n",
       "      <td>0.000000</td>\n",
       "      <td>0.569079</td>\n",
       "      <td>2.017405</td>\n",
       "      <td>2.287610</td>\n",
       "      <td>0.797640</td>\n",
       "    </tr>\n",
       "    <tr>\n",
       "      <th>44</th>\n",
       "      <td>MESSAGEix South Africa</td>\n",
       "      <td>cement added</td>\n",
       "      <td>South Africa</td>\n",
       "      <td>gas_ct</td>\n",
       "      <td></td>\n",
       "      <td>0.000000</td>\n",
       "      <td>0.000000</td>\n",
       "      <td>0.000000</td>\n",
       "      <td>0.000000</td>\n",
       "      <td>0.000000</td>\n",
       "      <td>0.000000</td>\n",
       "    </tr>\n",
       "    <tr>\n",
       "      <th>50</th>\n",
       "      <td>MESSAGEix South Africa</td>\n",
       "      <td>cement added</td>\n",
       "      <td>South Africa</td>\n",
       "      <td>gas_ppl</td>\n",
       "      <td></td>\n",
       "      <td>0.083433</td>\n",
       "      <td>0.029091</td>\n",
       "      <td>0.010143</td>\n",
       "      <td>0.003537</td>\n",
       "      <td>0.001233</td>\n",
       "      <td>0.000430</td>\n",
       "    </tr>\n",
       "    <tr>\n",
       "      <th>54</th>\n",
       "      <td>MESSAGEix South Africa</td>\n",
       "      <td>cement added</td>\n",
       "      <td>South Africa</td>\n",
       "      <td>hydro_ppl</td>\n",
       "      <td></td>\n",
       "      <td>0.100582</td>\n",
       "      <td>1.592149</td>\n",
       "      <td>2.000000</td>\n",
       "      <td>1.935126</td>\n",
       "      <td>1.777628</td>\n",
       "      <td>1.789781</td>\n",
       "    </tr>\n",
       "    <tr>\n",
       "      <th>55</th>\n",
       "      <td>MESSAGEix South Africa</td>\n",
       "      <td>cement added</td>\n",
       "      <td>South Africa</td>\n",
       "      <td>igcc</td>\n",
       "      <td></td>\n",
       "      <td>0.000000</td>\n",
       "      <td>0.000000</td>\n",
       "      <td>0.000000</td>\n",
       "      <td>0.000000</td>\n",
       "      <td>0.000000</td>\n",
       "      <td>0.000000</td>\n",
       "    </tr>\n",
       "    <tr>\n",
       "      <th>56</th>\n",
       "      <td>MESSAGEix South Africa</td>\n",
       "      <td>cement added</td>\n",
       "      <td>South Africa</td>\n",
       "      <td>igcc_ccs</td>\n",
       "      <td></td>\n",
       "      <td>0.000000</td>\n",
       "      <td>0.000000</td>\n",
       "      <td>0.000000</td>\n",
       "      <td>0.000000</td>\n",
       "      <td>0.000000</td>\n",
       "      <td>0.000000</td>\n",
       "    </tr>\n",
       "    <tr>\n",
       "      <th>61</th>\n",
       "      <td>MESSAGEix South Africa</td>\n",
       "      <td>cement added</td>\n",
       "      <td>South Africa</td>\n",
       "      <td>loil_ppl</td>\n",
       "      <td></td>\n",
       "      <td>0.020921</td>\n",
       "      <td>0.007295</td>\n",
       "      <td>0.002543</td>\n",
       "      <td>0.000887</td>\n",
       "      <td>0.000309</td>\n",
       "      <td>0.000108</td>\n",
       "    </tr>\n",
       "    <tr>\n",
       "      <th>65</th>\n",
       "      <td>MESSAGEix South Africa</td>\n",
       "      <td>cement added</td>\n",
       "      <td>South Africa</td>\n",
       "      <td>meth_coal</td>\n",
       "      <td></td>\n",
       "      <td>1.824025</td>\n",
       "      <td>1.092111</td>\n",
       "      <td>0.653887</td>\n",
       "      <td>0.391506</td>\n",
       "      <td>0.234409</td>\n",
       "      <td>0.140350</td>\n",
       "    </tr>\n",
       "    <tr>\n",
       "      <th>66</th>\n",
       "      <td>MESSAGEix South Africa</td>\n",
       "      <td>cement added</td>\n",
       "      <td>South Africa</td>\n",
       "      <td>meth_coal_ccs</td>\n",
       "      <td></td>\n",
       "      <td>0.000000</td>\n",
       "      <td>0.000000</td>\n",
       "      <td>0.000000</td>\n",
       "      <td>0.000000</td>\n",
       "      <td>0.000000</td>\n",
       "      <td>0.000000</td>\n",
       "    </tr>\n",
       "    <tr>\n",
       "      <th>67</th>\n",
       "      <td>MESSAGEix South Africa</td>\n",
       "      <td>cement added</td>\n",
       "      <td>South Africa</td>\n",
       "      <td>meth_ng</td>\n",
       "      <td></td>\n",
       "      <td>1.250123</td>\n",
       "      <td>0.748495</td>\n",
       "      <td>0.448151</td>\n",
       "      <td>0.268325</td>\n",
       "      <td>0.160656</td>\n",
       "      <td>0.096191</td>\n",
       "    </tr>\n",
       "    <tr>\n",
       "      <th>68</th>\n",
       "      <td>MESSAGEix South Africa</td>\n",
       "      <td>cement added</td>\n",
       "      <td>South Africa</td>\n",
       "      <td>meth_ng_ccs</td>\n",
       "      <td></td>\n",
       "      <td>0.000000</td>\n",
       "      <td>0.000000</td>\n",
       "      <td>0.000000</td>\n",
       "      <td>0.000000</td>\n",
       "      <td>0.000000</td>\n",
       "      <td>0.000000</td>\n",
       "    </tr>\n",
       "    <tr>\n",
       "      <th>69</th>\n",
       "      <td>MESSAGEix South Africa</td>\n",
       "      <td>cement added</td>\n",
       "      <td>South Africa</td>\n",
       "      <td>nuc_ppl</td>\n",
       "      <td></td>\n",
       "      <td>1.536610</td>\n",
       "      <td>6.676300</td>\n",
       "      <td>8.204114</td>\n",
       "      <td>7.320743</td>\n",
       "      <td>9.201543</td>\n",
       "      <td>3.208380</td>\n",
       "    </tr>\n",
       "    <tr>\n",
       "      <th>77</th>\n",
       "      <td>MESSAGEix South Africa</td>\n",
       "      <td>cement added</td>\n",
       "      <td>South Africa</td>\n",
       "      <td>solar_pv_ppl</td>\n",
       "      <td></td>\n",
       "      <td>0.224281</td>\n",
       "      <td>0.938087</td>\n",
       "      <td>1.186641</td>\n",
       "      <td>1.049477</td>\n",
       "      <td>0.365930</td>\n",
       "      <td>0.127592</td>\n",
       "    </tr>\n",
       "    <tr>\n",
       "      <th>79</th>\n",
       "      <td>MESSAGEix South Africa</td>\n",
       "      <td>cement added</td>\n",
       "      <td>South Africa</td>\n",
       "      <td>solar_th_ppl</td>\n",
       "      <td></td>\n",
       "      <td>3.038586</td>\n",
       "      <td>10.232024</td>\n",
       "      <td>13.050566</td>\n",
       "      <td>10.767070</td>\n",
       "      <td>5.311441</td>\n",
       "      <td>5.678293</td>\n",
       "    </tr>\n",
       "    <tr>\n",
       "      <th>80</th>\n",
       "      <td>MESSAGEix South Africa</td>\n",
       "      <td>cement added</td>\n",
       "      <td>South Africa</td>\n",
       "      <td>solar_th_ppl_base</td>\n",
       "      <td></td>\n",
       "      <td>10.809497</td>\n",
       "      <td>27.323246</td>\n",
       "      <td>36.835479</td>\n",
       "      <td>54.480389</td>\n",
       "      <td>69.596288</td>\n",
       "      <td>90.258824</td>\n",
       "    </tr>\n",
       "    <tr>\n",
       "      <th>83</th>\n",
       "      <td>MESSAGEix South Africa</td>\n",
       "      <td>cement added</td>\n",
       "      <td>South Africa</td>\n",
       "      <td>syn_liq</td>\n",
       "      <td></td>\n",
       "      <td>4.490273</td>\n",
       "      <td>2.688492</td>\n",
       "      <td>1.609699</td>\n",
       "      <td>0.963787</td>\n",
       "      <td>0.577055</td>\n",
       "      <td>0.345504</td>\n",
       "    </tr>\n",
       "    <tr>\n",
       "      <th>84</th>\n",
       "      <td>MESSAGEix South Africa</td>\n",
       "      <td>cement added</td>\n",
       "      <td>South Africa</td>\n",
       "      <td>syn_liq_ccs</td>\n",
       "      <td></td>\n",
       "      <td>0.000000</td>\n",
       "      <td>1.257789</td>\n",
       "      <td>3.306595</td>\n",
       "      <td>6.643885</td>\n",
       "      <td>12.079978</td>\n",
       "      <td>20.934800</td>\n",
       "    </tr>\n",
       "    <tr>\n",
       "      <th>85</th>\n",
       "      <td>MESSAGEix South Africa</td>\n",
       "      <td>cement added</td>\n",
       "      <td>South Africa</td>\n",
       "      <td>wind_ppl</td>\n",
       "      <td></td>\n",
       "      <td>0.285046</td>\n",
       "      <td>3.713393</td>\n",
       "      <td>11.829538</td>\n",
       "      <td>14.420156</td>\n",
       "      <td>15.934322</td>\n",
       "      <td>9.503648</td>\n",
       "    </tr>\n",
       "  </tbody>\n",
       "</table>\n",
       "</div>"
      ],
      "text/plain": [
       "                     model      scenario        region           variable  \\\n",
       "7   MESSAGEix South Africa  cement added  South Africa          bio_istig   \n",
       "16  MESSAGEix South Africa  cement added  South Africa           coal_adv   \n",
       "17  MESSAGEix South Africa  cement added  South Africa       coal_adv_ccs   \n",
       "25  MESSAGEix South Africa  cement added  South Africa           coal_ppl   \n",
       "30  MESSAGEix South Africa  cement added  South Africa           elec_imp   \n",
       "36  MESSAGEix South Africa  cement added  South Africa           foil_ppl   \n",
       "42  MESSAGEix South Africa  cement added  South Africa             gas_cc   \n",
       "43  MESSAGEix South Africa  cement added  South Africa         gas_cc_ccs   \n",
       "44  MESSAGEix South Africa  cement added  South Africa             gas_ct   \n",
       "50  MESSAGEix South Africa  cement added  South Africa            gas_ppl   \n",
       "54  MESSAGEix South Africa  cement added  South Africa          hydro_ppl   \n",
       "55  MESSAGEix South Africa  cement added  South Africa               igcc   \n",
       "56  MESSAGEix South Africa  cement added  South Africa           igcc_ccs   \n",
       "61  MESSAGEix South Africa  cement added  South Africa           loil_ppl   \n",
       "65  MESSAGEix South Africa  cement added  South Africa          meth_coal   \n",
       "66  MESSAGEix South Africa  cement added  South Africa      meth_coal_ccs   \n",
       "67  MESSAGEix South Africa  cement added  South Africa            meth_ng   \n",
       "68  MESSAGEix South Africa  cement added  South Africa        meth_ng_ccs   \n",
       "69  MESSAGEix South Africa  cement added  South Africa            nuc_ppl   \n",
       "77  MESSAGEix South Africa  cement added  South Africa       solar_pv_ppl   \n",
       "79  MESSAGEix South Africa  cement added  South Africa       solar_th_ppl   \n",
       "80  MESSAGEix South Africa  cement added  South Africa  solar_th_ppl_base   \n",
       "83  MESSAGEix South Africa  cement added  South Africa            syn_liq   \n",
       "84  MESSAGEix South Africa  cement added  South Africa        syn_liq_ccs   \n",
       "85  MESSAGEix South Africa  cement added  South Africa           wind_ppl   \n",
       "\n",
       "   unit       2020       2030       2040       2050       2060       2070  \n",
       "7         0.038927   0.013573   0.004733   0.001650   0.000575   0.000201  \n",
       "16        0.000000   0.000000   0.000000   0.000000   0.000000   0.000000  \n",
       "17        0.000000   0.000000   0.000000   0.000000   0.000000   0.000000  \n",
       "25       24.807579   8.649868   3.016022   1.051622   0.366678   0.127853  \n",
       "30        1.491171   0.892819   0.534564   0.320063   0.191634   0.114738  \n",
       "36        0.018801   0.006556   0.002286   0.000797   0.000278   0.000097  \n",
       "42        0.504609   0.175946   0.061349   0.021391   0.007459   0.002601  \n",
       "43        0.000000   0.000000   0.569079   2.017405   2.287610   0.797640  \n",
       "44        0.000000   0.000000   0.000000   0.000000   0.000000   0.000000  \n",
       "50        0.083433   0.029091   0.010143   0.003537   0.001233   0.000430  \n",
       "54        0.100582   1.592149   2.000000   1.935126   1.777628   1.789781  \n",
       "55        0.000000   0.000000   0.000000   0.000000   0.000000   0.000000  \n",
       "56        0.000000   0.000000   0.000000   0.000000   0.000000   0.000000  \n",
       "61        0.020921   0.007295   0.002543   0.000887   0.000309   0.000108  \n",
       "65        1.824025   1.092111   0.653887   0.391506   0.234409   0.140350  \n",
       "66        0.000000   0.000000   0.000000   0.000000   0.000000   0.000000  \n",
       "67        1.250123   0.748495   0.448151   0.268325   0.160656   0.096191  \n",
       "68        0.000000   0.000000   0.000000   0.000000   0.000000   0.000000  \n",
       "69        1.536610   6.676300   8.204114   7.320743   9.201543   3.208380  \n",
       "77        0.224281   0.938087   1.186641   1.049477   0.365930   0.127592  \n",
       "79        3.038586  10.232024  13.050566  10.767070   5.311441   5.678293  \n",
       "80       10.809497  27.323246  36.835479  54.480389  69.596288  90.258824  \n",
       "83        4.490273   2.688492   1.609699   0.963787   0.577055   0.345504  \n",
       "84        0.000000   1.257789   3.306595   6.643885  12.079978  20.934800  \n",
       "85        0.285046   3.713393  11.829538  14.420156  15.934322   9.503648  "
      ]
     },
     "execution_count": 100,
     "metadata": {},
     "output_type": "execute_result"
    }
   ],
   "source": [
    "df = ACT_time_cement.loc[ACT_time_cement.variable.isin(electr_techs)]\n",
    "df"
   ]
  },
  {
   "cell_type": "code",
   "execution_count": 101,
   "id": "16d49ad3",
   "metadata": {},
   "outputs": [],
   "source": [
    "#df.to_excel('electr_act_cement_high_emission.xlsx')"
   ]
  },
  {
   "cell_type": "code",
   "execution_count": null,
   "id": "758a2a05",
   "metadata": {},
   "outputs": [],
   "source": []
  },
  {
   "cell_type": "code",
   "execution_count": 102,
   "id": "035b0f85",
   "metadata": {},
   "outputs": [
    {
     "data": {
      "text/html": [
       "<div>\n",
       "<style scoped>\n",
       "    .dataframe tbody tr th:only-of-type {\n",
       "        vertical-align: middle;\n",
       "    }\n",
       "\n",
       "    .dataframe tbody tr th {\n",
       "        vertical-align: top;\n",
       "    }\n",
       "\n",
       "    .dataframe thead th {\n",
       "        text-align: right;\n",
       "    }\n",
       "</style>\n",
       "<table border=\"1\" class=\"dataframe\">\n",
       "  <thead>\n",
       "    <tr style=\"text-align: right;\">\n",
       "      <th></th>\n",
       "      <th>model</th>\n",
       "      <th>scenario</th>\n",
       "      <th>region</th>\n",
       "      <th>variable</th>\n",
       "      <th>unit</th>\n",
       "      <th>2020</th>\n",
       "      <th>2030</th>\n",
       "      <th>2040</th>\n",
       "      <th>2050</th>\n",
       "      <th>2060</th>\n",
       "      <th>2070</th>\n",
       "    </tr>\n",
       "  </thead>\n",
       "  <tbody>\n",
       "    <tr>\n",
       "      <th>12</th>\n",
       "      <td>MESSAGEix South Africa</td>\n",
       "      <td>cement added</td>\n",
       "      <td>South Africa</td>\n",
       "      <td>clinker_coal</td>\n",
       "      <td></td>\n",
       "      <td>0.000000</td>\n",
       "      <td>0.000000</td>\n",
       "      <td>0.000000</td>\n",
       "      <td>0.000000</td>\n",
       "      <td>0.00000</td>\n",
       "      <td>0.000000</td>\n",
       "    </tr>\n",
       "    <tr>\n",
       "      <th>13</th>\n",
       "      <td>MESSAGEix South Africa</td>\n",
       "      <td>cement added</td>\n",
       "      <td>South Africa</td>\n",
       "      <td>clinker_fueloil</td>\n",
       "      <td></td>\n",
       "      <td>0.000000</td>\n",
       "      <td>0.000000</td>\n",
       "      <td>0.000000</td>\n",
       "      <td>0.000000</td>\n",
       "      <td>0.00000</td>\n",
       "      <td>0.000000</td>\n",
       "    </tr>\n",
       "    <tr>\n",
       "      <th>14</th>\n",
       "      <td>MESSAGEix South Africa</td>\n",
       "      <td>cement added</td>\n",
       "      <td>South Africa</td>\n",
       "      <td>clinker_gas</td>\n",
       "      <td></td>\n",
       "      <td>0.154749</td>\n",
       "      <td>1.357204</td>\n",
       "      <td>1.560401</td>\n",
       "      <td>1.717404</td>\n",
       "      <td>1.82476</td>\n",
       "      <td>1.890349</td>\n",
       "    </tr>\n",
       "    <tr>\n",
       "      <th>15</th>\n",
       "      <td>MESSAGEix South Africa</td>\n",
       "      <td>cement added</td>\n",
       "      <td>South Africa</td>\n",
       "      <td>clinker_lightoil</td>\n",
       "      <td></td>\n",
       "      <td>1.793105</td>\n",
       "      <td>0.000000</td>\n",
       "      <td>0.000000</td>\n",
       "      <td>0.000000</td>\n",
       "      <td>0.00000</td>\n",
       "      <td>0.000000</td>\n",
       "    </tr>\n",
       "  </tbody>\n",
       "</table>\n",
       "</div>"
      ],
      "text/plain": [
       "                     model      scenario        region          variable unit  \\\n",
       "12  MESSAGEix South Africa  cement added  South Africa      clinker_coal        \n",
       "13  MESSAGEix South Africa  cement added  South Africa   clinker_fueloil        \n",
       "14  MESSAGEix South Africa  cement added  South Africa       clinker_gas        \n",
       "15  MESSAGEix South Africa  cement added  South Africa  clinker_lightoil        \n",
       "\n",
       "        2020      2030      2040      2050     2060      2070  \n",
       "12  0.000000  0.000000  0.000000  0.000000  0.00000  0.000000  \n",
       "13  0.000000  0.000000  0.000000  0.000000  0.00000  0.000000  \n",
       "14  0.154749  1.357204  1.560401  1.717404  1.82476  1.890349  \n",
       "15  1.793105  0.000000  0.000000  0.000000  0.00000  0.000000  "
      ]
     },
     "execution_count": 102,
     "metadata": {},
     "output_type": "execute_result"
    }
   ],
   "source": [
    "df_fuel = ACT_time_cement.loc[ACT_time_cement.variable.isin(fuel_for_clinker_technologies)]\n",
    "df_fuel"
   ]
  },
  {
   "cell_type": "code",
   "execution_count": 103,
   "id": "843eaf2d",
   "metadata": {},
   "outputs": [],
   "source": [
    "#df_fuel.to_excel('fuel_activity_high_emission.xlsx')"
   ]
  },
  {
   "cell_type": "markdown",
   "id": "ce37698f",
   "metadata": {},
   "source": [
    "### Plotting both"
   ]
  },
  {
   "cell_type": "code",
   "execution_count": 104,
   "id": "43e5c982",
   "metadata": {
    "scrolled": true
   },
   "outputs": [
    {
     "data": {
      "image/png": "[encoded data removed]",
      "text/plain": [
       "<Figure size 432x288 with 1 Axes>"
      ]
     },
     "metadata": {
      "needs_background": "light"
     },
     "output_type": "display_data"
    }
   ],
   "source": [
    "# Making an array with the years from the dataframe columns\n",
    "YEARS = np.array(ACT_time_base.columns)[5:]\n",
    "\n",
    "fig = plt.subplots()\n",
    "ax = plt.subplot(111)\n",
    "\n",
    "for act in range(len(ACT_time_base.values)):\n",
    "    ax.plot(YEARS, ACT_time_base.values[:,5:][act], label = str('baseline: ' + df_ACT_base.variable[act]))\n",
    "    \n",
    "for act in range(len(ACT_time_cement.values)):\n",
    "    ax.plot(YEARS, ACT_time_cement.values[:,5:][act], label = str('cement: ' + df_ACT_cement.variable[act]))\n",
    "\n",
    "# Shrink current axis's height by 10% on the bottom\n",
    "box = ax.get_position()\n",
    "ax.set_position([box.x0, box.y0 + box.height * 0.1,\n",
    "                 box.width, box.height * 0.9])\n",
    "\n",
    "# Put a legend below current axis\n",
    "ax.legend(loc='upper center', bbox_to_anchor=(0.5, -0.09),\n",
    "          fancybox=True, shadow=True, ncol=5)\n",
    "\n",
    "plt.show()"
   ]
  },
  {
   "cell_type": "markdown",
   "id": "cf72e0c9",
   "metadata": {},
   "source": [
    "### EXT (Resource extraction)"
   ]
  },
  {
   "cell_type": "markdown",
   "id": "73e236dd",
   "metadata": {},
   "source": [
    "#### Baseline scenario"
   ]
  },
  {
   "cell_type": "code",
   "execution_count": 105,
   "id": "534ab7da",
   "metadata": {},
   "outputs": [],
   "source": [
    "# DEMAND_cement = rep_cement.full_key('DEMAND')\n",
    "# df_DEMAND_cement = rep_cement.get(DEMAND_cement)\n",
    "# df_DEMAND_cement"
   ]
  },
  {
   "cell_type": "code",
   "execution_count": 106,
   "id": "5bd9af5f",
   "metadata": {},
   "outputs": [],
   "source": [
    "EXT_base = rep.full_key('EXT')\n",
    "df_EXT_base = rep.get(EXT_base)"
   ]
  },
  {
   "cell_type": "code",
   "execution_count": 107,
   "id": "44126766",
   "metadata": {},
   "outputs": [
    {
     "data": {
      "text/plain": [
       "'EXT:iamc'"
      ]
     },
     "execution_count": 107,
     "metadata": {},
     "output_type": "execute_result"
    }
   ],
   "source": [
    "# The IAMC format does not have 'level', 'technology', or 'commodity'\n",
    "# columns; only a catch-all 'Variable' column.\n",
    "def format_variable(df):\n",
    "    \"\"\"Callback function to fill the IAMC 'variable' column.\"\"\"\n",
    "    df['variable'] = df['c']\n",
    "    return df.drop(['c'], axis=1)\n",
    "\n",
    "# Add node(s) that convert data to pyam.IamDataFrame objects\n",
    "new_key = rep.convert_pyam(\n",
    "    # Quantity or quantities to convert\n",
    "    quantities=EXT_base.drop('g'),\n",
    "    # Dimensions to use for the 'Region' and 'Year' IAMC columns\n",
    "    rename=dict(n=\"region\", y=\"year\"),\n",
    "    # Use this function to collapse the 'l', 't', and 'c' dimensions\n",
    "    # into the 'Variable' IAMC column\n",
    "    collapse=format_variable\n",
    ")\n",
    "\n",
    "new_key"
   ]
  },
  {
   "cell_type": "code",
   "execution_count": 108,
   "id": "deac40b2",
   "metadata": {
    "scrolled": true
   },
   "outputs": [],
   "source": [
    "df_EXT_base = rep.get(new_key)"
   ]
  },
  {
   "cell_type": "code",
   "execution_count": 109,
   "id": "0413a27c",
   "metadata": {
    "scrolled": false
   },
   "outputs": [
    {
     "data": {
      "text/html": [
       "<div>\n",
       "<style scoped>\n",
       "    .dataframe tbody tr th:only-of-type {\n",
       "        vertical-align: middle;\n",
       "    }\n",
       "\n",
       "    .dataframe tbody tr th {\n",
       "        vertical-align: top;\n",
       "    }\n",
       "\n",
       "    .dataframe thead th {\n",
       "        text-align: right;\n",
       "    }\n",
       "</style>\n",
       "<table border=\"1\" class=\"dataframe\">\n",
       "  <thead>\n",
       "    <tr style=\"text-align: right;\">\n",
       "      <th></th>\n",
       "      <th>model</th>\n",
       "      <th>scenario</th>\n",
       "      <th>region</th>\n",
       "      <th>variable</th>\n",
       "      <th>unit</th>\n",
       "      <th>2020</th>\n",
       "      <th>2030</th>\n",
       "      <th>2040</th>\n",
       "      <th>2050</th>\n",
       "      <th>2060</th>\n",
       "      <th>2070</th>\n",
       "    </tr>\n",
       "  </thead>\n",
       "  <tbody>\n",
       "    <tr>\n",
       "      <th>0</th>\n",
       "      <td>MESSAGEix South Africa</td>\n",
       "      <td>baseline</td>\n",
       "      <td>South Africa</td>\n",
       "      <td>coal</td>\n",
       "      <td></td>\n",
       "      <td>178.218915</td>\n",
       "      <td>63.597873</td>\n",
       "      <td>40.290854</td>\n",
       "      <td>35.582809</td>\n",
       "      <td>41.452840</td>\n",
       "      <td>57.794379</td>\n",
       "    </tr>\n",
       "    <tr>\n",
       "      <th>1</th>\n",
       "      <td>MESSAGEix South Africa</td>\n",
       "      <td>baseline</td>\n",
       "      <td>South Africa</td>\n",
       "      <td>crudeoil</td>\n",
       "      <td></td>\n",
       "      <td>0.000000</td>\n",
       "      <td>0.000000</td>\n",
       "      <td>0.138130</td>\n",
       "      <td>0.082704</td>\n",
       "      <td>0.049518</td>\n",
       "      <td>0.029648</td>\n",
       "    </tr>\n",
       "    <tr>\n",
       "      <th>2</th>\n",
       "      <td>MESSAGEix South Africa</td>\n",
       "      <td>baseline</td>\n",
       "      <td>South Africa</td>\n",
       "      <td>gas</td>\n",
       "      <td></td>\n",
       "      <td>0.000700</td>\n",
       "      <td>0.000419</td>\n",
       "      <td>0.028586</td>\n",
       "      <td>0.000150</td>\n",
       "      <td>0.000090</td>\n",
       "      <td>0.000054</td>\n",
       "    </tr>\n",
       "    <tr>\n",
       "      <th>3</th>\n",
       "      <td>MESSAGEix South Africa</td>\n",
       "      <td>baseline</td>\n",
       "      <td>South Africa</td>\n",
       "      <td>shalegas</td>\n",
       "      <td></td>\n",
       "      <td>0.000000</td>\n",
       "      <td>0.000000</td>\n",
       "      <td>0.000000</td>\n",
       "      <td>0.000000</td>\n",
       "      <td>0.000000</td>\n",
       "      <td>0.000000</td>\n",
       "    </tr>\n",
       "  </tbody>\n",
       "</table>\n",
       "</div>"
      ],
      "text/plain": [
       "                    model  scenario        region  variable unit        2020  \\\n",
       "0  MESSAGEix South Africa  baseline  South Africa      coal       178.218915   \n",
       "1  MESSAGEix South Africa  baseline  South Africa  crudeoil         0.000000   \n",
       "2  MESSAGEix South Africa  baseline  South Africa       gas         0.000700   \n",
       "3  MESSAGEix South Africa  baseline  South Africa  shalegas         0.000000   \n",
       "\n",
       "        2030       2040       2050       2060       2070  \n",
       "0  63.597873  40.290854  35.582809  41.452840  57.794379  \n",
       "1   0.000000   0.138130   0.082704   0.049518   0.029648  \n",
       "2   0.000419   0.028586   0.000150   0.000090   0.000054  \n",
       "3   0.000000   0.000000   0.000000   0.000000   0.000000  "
      ]
     },
     "execution_count": 109,
     "metadata": {},
     "output_type": "execute_result"
    }
   ],
   "source": [
    "EXT_time_base = df_EXT_base.filter(year = [2020, 2030, 2040, 2050, 2060, 2070]).timeseries().reset_index()\n",
    "EXT_time_base"
   ]
  },
  {
   "cell_type": "markdown",
   "id": "052cbdca",
   "metadata": {},
   "source": [
    "#### Cement scenario"
   ]
  },
  {
   "cell_type": "code",
   "execution_count": 110,
   "id": "6cc85974",
   "metadata": {
    "scrolled": false
   },
   "outputs": [],
   "source": [
    "EXT_cement = rep_cement.full_key('EXT')\n",
    "df_EXT_cement = rep_cement.get(EXT_cement)"
   ]
  },
  {
   "cell_type": "code",
   "execution_count": 111,
   "id": "e6f4d65b",
   "metadata": {},
   "outputs": [
    {
     "data": {
      "text/plain": [
       "'EXT:iamc'"
      ]
     },
     "execution_count": 111,
     "metadata": {},
     "output_type": "execute_result"
    }
   ],
   "source": [
    "# The IAMC format does not have 'level', 'technology', or 'commodity'\n",
    "# columns; only a catch-all 'Variable' column.\n",
    "def format_variable(df):\n",
    "    \"\"\"Callback function to fill the IAMC 'variable' column.\"\"\"\n",
    "    df['variable'] = df['c']\n",
    "    return df.drop(['c'], axis=1)\n",
    "\n",
    "# Add node(s) that convert data to pyam.IamDataFrame objects\n",
    "new_key = rep_cement.convert_pyam(\n",
    "    # Quantity or quantities to convert\n",
    "    quantities=EXT_cement.drop('g'),\n",
    "    # Dimensions to use for the 'Region' and 'Year' IAMC columns\n",
    "    rename=dict(n=\"region\", y=\"year\"),\n",
    "    # Use this function to collapse the 'l', 't', and 'c' dimensions\n",
    "    # into the 'Variable' IAMC column\n",
    "    collapse=format_variable\n",
    ")\n",
    "\n",
    "new_key"
   ]
  },
  {
   "cell_type": "code",
   "execution_count": 112,
   "id": "8a50bb87",
   "metadata": {
    "scrolled": true
   },
   "outputs": [],
   "source": [
    "df_EXT_cement = rep_cement.get(new_key)"
   ]
  },
  {
   "cell_type": "code",
   "execution_count": 113,
   "id": "4298a483",
   "metadata": {
    "scrolled": false
   },
   "outputs": [
    {
     "data": {
      "text/html": [
       "<div>\n",
       "<style scoped>\n",
       "    .dataframe tbody tr th:only-of-type {\n",
       "        vertical-align: middle;\n",
       "    }\n",
       "\n",
       "    .dataframe tbody tr th {\n",
       "        vertical-align: top;\n",
       "    }\n",
       "\n",
       "    .dataframe thead th {\n",
       "        text-align: right;\n",
       "    }\n",
       "</style>\n",
       "<table border=\"1\" class=\"dataframe\">\n",
       "  <thead>\n",
       "    <tr style=\"text-align: right;\">\n",
       "      <th></th>\n",
       "      <th>model</th>\n",
       "      <th>scenario</th>\n",
       "      <th>region</th>\n",
       "      <th>variable</th>\n",
       "      <th>unit</th>\n",
       "      <th>2020</th>\n",
       "      <th>2030</th>\n",
       "      <th>2040</th>\n",
       "      <th>2050</th>\n",
       "      <th>2060</th>\n",
       "      <th>2070</th>\n",
       "    </tr>\n",
       "  </thead>\n",
       "  <tbody>\n",
       "    <tr>\n",
       "      <th>0</th>\n",
       "      <td>MESSAGEix South Africa</td>\n",
       "      <td>cement added</td>\n",
       "      <td>South Africa</td>\n",
       "      <td>coal</td>\n",
       "      <td></td>\n",
       "      <td>178.314281</td>\n",
       "      <td>63.597873</td>\n",
       "      <td>40.290854</td>\n",
       "      <td>35.582809</td>\n",
       "      <td>41.45321</td>\n",
       "      <td>57.794379</td>\n",
       "    </tr>\n",
       "    <tr>\n",
       "      <th>1</th>\n",
       "      <td>MESSAGEix South Africa</td>\n",
       "      <td>cement added</td>\n",
       "      <td>South Africa</td>\n",
       "      <td>crudeoil</td>\n",
       "      <td></td>\n",
       "      <td>0.000000</td>\n",
       "      <td>0.000000</td>\n",
       "      <td>0.000000</td>\n",
       "      <td>0.300000</td>\n",
       "      <td>0.00000</td>\n",
       "      <td>0.000000</td>\n",
       "    </tr>\n",
       "    <tr>\n",
       "      <th>2</th>\n",
       "      <td>MESSAGEix South Africa</td>\n",
       "      <td>cement added</td>\n",
       "      <td>South Africa</td>\n",
       "      <td>gas</td>\n",
       "      <td></td>\n",
       "      <td>0.000700</td>\n",
       "      <td>0.000419</td>\n",
       "      <td>0.028586</td>\n",
       "      <td>0.000150</td>\n",
       "      <td>0.00009</td>\n",
       "      <td>0.000054</td>\n",
       "    </tr>\n",
       "    <tr>\n",
       "      <th>3</th>\n",
       "      <td>MESSAGEix South Africa</td>\n",
       "      <td>cement added</td>\n",
       "      <td>South Africa</td>\n",
       "      <td>shalegas</td>\n",
       "      <td></td>\n",
       "      <td>0.000000</td>\n",
       "      <td>0.000000</td>\n",
       "      <td>0.000000</td>\n",
       "      <td>0.000000</td>\n",
       "      <td>0.00000</td>\n",
       "      <td>0.000000</td>\n",
       "    </tr>\n",
       "  </tbody>\n",
       "</table>\n",
       "</div>"
      ],
      "text/plain": [
       "                    model      scenario        region  variable unit  \\\n",
       "0  MESSAGEix South Africa  cement added  South Africa      coal        \n",
       "1  MESSAGEix South Africa  cement added  South Africa  crudeoil        \n",
       "2  MESSAGEix South Africa  cement added  South Africa       gas        \n",
       "3  MESSAGEix South Africa  cement added  South Africa  shalegas        \n",
       "\n",
       "         2020       2030       2040       2050      2060       2070  \n",
       "0  178.314281  63.597873  40.290854  35.582809  41.45321  57.794379  \n",
       "1    0.000000   0.000000   0.000000   0.300000   0.00000   0.000000  \n",
       "2    0.000700   0.000419   0.028586   0.000150   0.00009   0.000054  \n",
       "3    0.000000   0.000000   0.000000   0.000000   0.00000   0.000000  "
      ]
     },
     "execution_count": 113,
     "metadata": {},
     "output_type": "execute_result"
    }
   ],
   "source": [
    "EXT_time_cement = df_EXT_cement.filter(year = [2020, 2030, 2040, 2050, 2060, 2070]).timeseries().reset_index()\n",
    "EXT_time_cement"
   ]
  },
  {
   "cell_type": "markdown",
   "id": "02f5cc02",
   "metadata": {},
   "source": [
    "### Price emissions"
   ]
  },
  {
   "cell_type": "markdown",
   "id": "e7139848",
   "metadata": {},
   "source": [
    "#### Baseline scenario"
   ]
  },
  {
   "cell_type": "code",
   "execution_count": 114,
   "id": "e7704131",
   "metadata": {
    "scrolled": true
   },
   "outputs": [
    {
     "data": {
      "text/plain": [
       "n             type_emission  type_tec  y   \n",
       "South Africa  CO2            all       2020     748.276590\n",
       "                                       2030    1218.863726\n",
       "                                       2040    1985.400588\n",
       "                                       2050    3234.008372\n",
       "                                       2060    5267.858897\n",
       "                                       2070    8580.787114\n",
       "Name: PRICE_EMISSION, dtype: float64"
      ]
     },
     "execution_count": 114,
     "metadata": {},
     "output_type": "execute_result"
    }
   ],
   "source": [
    "rep.get(rep.full_key('PRICE_EMISSION'))"
   ]
  },
  {
   "cell_type": "code",
   "execution_count": 115,
   "id": "6d57f6a3",
   "metadata": {},
   "outputs": [
    {
     "data": {
      "text/plain": [
       "n             type_emission  type_tec  y   \n",
       "South Africa  CO2            all       2020     748.276590\n",
       "                                       2030    1218.863726\n",
       "                                       2040    1985.400588\n",
       "                                       2050    3234.008372\n",
       "                                       2060    5267.858897\n",
       "                                       2070    8580.787114\n",
       "Name: PRICE_EMISSION, dtype: float64"
      ]
     },
     "execution_count": 115,
     "metadata": {},
     "output_type": "execute_result"
    }
   ],
   "source": [
    "PRICE_EMISSION_base = rep.full_key('PRICE_EMISSION')\n",
    "df_PRICE_EMISSION_base = rep.get(PRICE_EMISSION_base)\n",
    "df_PRICE_EMISSION_base"
   ]
  },
  {
   "cell_type": "code",
   "execution_count": 116,
   "id": "6aa210b7",
   "metadata": {},
   "outputs": [
    {
     "data": {
      "text/plain": [
       "'PRICE_EMISSION:iamc'"
      ]
     },
     "execution_count": 116,
     "metadata": {},
     "output_type": "execute_result"
    }
   ],
   "source": [
    "# The IAMC format does not have 'level', 'technology', or 'commodity'\n",
    "# columns; only a catch-all 'Variable' column.\n",
    "def format_variable(df):\n",
    "    \"\"\"Callback function to fill the IAMC 'variable' column.\"\"\"\n",
    "    df['variable'] = df['type_emission']\n",
    "    return df.drop(['type_emission'], axis=1)\n",
    "\n",
    "# Add node(s) that convert data to pyam.IamDataFrame objects\n",
    "new_key = rep.convert_pyam(\n",
    "    # Quantity or quantities to convert\n",
    "    quantities=PRICE_EMISSION_base.drop('type_tec'),\n",
    "    # Dimensions to use for the 'Region' and 'Year' IAMC columns\n",
    "    rename=dict(n=\"region\", y=\"year\"),\n",
    "    # Use this function to collapse the 'l', 't', and 'c' dimensions\n",
    "    # into the 'Variable' IAMC column\n",
    "    collapse=format_variable\n",
    ")\n",
    "\n",
    "new_key"
   ]
  },
  {
   "cell_type": "code",
   "execution_count": 117,
   "id": "f935be14",
   "metadata": {
    "scrolled": true
   },
   "outputs": [],
   "source": [
    "df_PRICE_EMISSION_base = rep.get(new_key)"
   ]
  },
  {
   "cell_type": "code",
   "execution_count": 118,
   "id": "b57a6a56",
   "metadata": {},
   "outputs": [
    {
     "data": {
      "text/plain": [
       "<class 'pyam.core.IamDataFrame'>\n",
       "Index:\n",
       " * model    : MESSAGEix South Africa (1)\n",
       " * scenario : baseline (1)\n",
       "Timeseries data coordinates:\n",
       "   region   : South Africa (1)\n",
       "   variable : CO2 (1)\n",
       "   unit     : '' (1)\n",
       "   year     : 2020, 2030, 2040, 2050, 2060, 2070 (6)\n",
       "Meta indicators:\n",
       "   exclude (bool) False (1)"
      ]
     },
     "execution_count": 118,
     "metadata": {},
     "output_type": "execute_result"
    }
   ],
   "source": [
    "df_PRICE_EMISSION_base"
   ]
  },
  {
   "cell_type": "code",
   "execution_count": 119,
   "id": "e7cfd933",
   "metadata": {
    "scrolled": true
   },
   "outputs": [
    {
     "data": {
      "text/html": [
       "<div>\n",
       "<style scoped>\n",
       "    .dataframe tbody tr th:only-of-type {\n",
       "        vertical-align: middle;\n",
       "    }\n",
       "\n",
       "    .dataframe tbody tr th {\n",
       "        vertical-align: top;\n",
       "    }\n",
       "\n",
       "    .dataframe thead th {\n",
       "        text-align: right;\n",
       "    }\n",
       "</style>\n",
       "<table border=\"1\" class=\"dataframe\">\n",
       "  <thead>\n",
       "    <tr style=\"text-align: right;\">\n",
       "      <th></th>\n",
       "      <th>model</th>\n",
       "      <th>scenario</th>\n",
       "      <th>region</th>\n",
       "      <th>variable</th>\n",
       "      <th>unit</th>\n",
       "      <th>2020</th>\n",
       "      <th>2030</th>\n",
       "      <th>2040</th>\n",
       "      <th>2050</th>\n",
       "      <th>2060</th>\n",
       "      <th>2070</th>\n",
       "    </tr>\n",
       "  </thead>\n",
       "  <tbody>\n",
       "    <tr>\n",
       "      <th>0</th>\n",
       "      <td>MESSAGEix South Africa</td>\n",
       "      <td>baseline</td>\n",
       "      <td>South Africa</td>\n",
       "      <td>CO2</td>\n",
       "      <td></td>\n",
       "      <td>748.27659</td>\n",
       "      <td>1218.863726</td>\n",
       "      <td>1985.400588</td>\n",
       "      <td>3234.008372</td>\n",
       "      <td>5267.858897</td>\n",
       "      <td>8580.787114</td>\n",
       "    </tr>\n",
       "  </tbody>\n",
       "</table>\n",
       "</div>"
      ],
      "text/plain": [
       "                    model  scenario        region variable unit       2020  \\\n",
       "0  MESSAGEix South Africa  baseline  South Africa      CO2       748.27659   \n",
       "\n",
       "          2030         2040         2050         2060         2070  \n",
       "0  1218.863726  1985.400588  3234.008372  5267.858897  8580.787114  "
      ]
     },
     "execution_count": 119,
     "metadata": {},
     "output_type": "execute_result"
    }
   ],
   "source": [
    "PRICE_EMISSION_time_base = df_PRICE_EMISSION_base.filter(year = [2020, 2030, 2040, 2050, 2060, 2070]).timeseries().reset_index()\n",
    "PRICE_EMISSION_time_base"
   ]
  },
  {
   "cell_type": "markdown",
   "id": "fbed7ca5",
   "metadata": {},
   "source": [
    "#### Cement scenario"
   ]
  },
  {
   "cell_type": "code",
   "execution_count": 120,
   "id": "20085899",
   "metadata": {
    "scrolled": true
   },
   "outputs": [],
   "source": [
    "PRICE_EMISSION_cement = rep_cement.full_key('PRICE_EMISSION')\n",
    "df_PRICE_EMISSION_cement = rep_cement.get(PRICE_EMISSION_cement)"
   ]
  },
  {
   "cell_type": "code",
   "execution_count": 121,
   "id": "aa46e334",
   "metadata": {},
   "outputs": [
    {
     "data": {
      "text/plain": [
       "'PRICE_EMISSION:iamc'"
      ]
     },
     "execution_count": 121,
     "metadata": {},
     "output_type": "execute_result"
    }
   ],
   "source": [
    "# The IAMC format does not have 'level', 'technology', or 'commodity'\n",
    "# columns; only a catch-all 'Variable' column.\n",
    "def format_variable(df):\n",
    "    \"\"\"Callback function to fill the IAMC 'variable' column.\"\"\"\n",
    "    df['variable'] = df['type_emission']\n",
    "    return df.drop(['type_emission'], axis=1)\n",
    "\n",
    "# Add node(s) that convert data to pyam.IamDataFrame objects\n",
    "new_key = rep_cement.convert_pyam(\n",
    "    # Quantity or quantities to convert\n",
    "    quantities=PRICE_EMISSION_cement.drop('type_tec'),\n",
    "    # Dimensions to use for the 'Region' and 'Year' IAMC columns\n",
    "    rename=dict(n=\"region\", y=\"year\"),\n",
    "    # Use this function to collapse the 'l', 't', and 'c' dimensions\n",
    "    # into the 'Variable' IAMC column\n",
    "    collapse=format_variable\n",
    ")\n",
    "\n",
    "new_key"
   ]
  },
  {
   "cell_type": "code",
   "execution_count": 122,
   "id": "4756e59c",
   "metadata": {
    "scrolled": true
   },
   "outputs": [],
   "source": [
    "df_PRICE_EMISSION_cement = rep_cement.get(new_key)"
   ]
  },
  {
   "cell_type": "code",
   "execution_count": 123,
   "id": "9993b6bc",
   "metadata": {
    "scrolled": true
   },
   "outputs": [
    {
     "data": {
      "text/html": [
       "<div>\n",
       "<style scoped>\n",
       "    .dataframe tbody tr th:only-of-type {\n",
       "        vertical-align: middle;\n",
       "    }\n",
       "\n",
       "    .dataframe tbody tr th {\n",
       "        vertical-align: top;\n",
       "    }\n",
       "\n",
       "    .dataframe thead th {\n",
       "        text-align: right;\n",
       "    }\n",
       "</style>\n",
       "<table border=\"1\" class=\"dataframe\">\n",
       "  <thead>\n",
       "    <tr style=\"text-align: right;\">\n",
       "      <th></th>\n",
       "      <th>model</th>\n",
       "      <th>scenario</th>\n",
       "      <th>region</th>\n",
       "      <th>variable</th>\n",
       "      <th>unit</th>\n",
       "      <th>2020</th>\n",
       "      <th>2030</th>\n",
       "      <th>2040</th>\n",
       "      <th>2050</th>\n",
       "      <th>2060</th>\n",
       "      <th>2070</th>\n",
       "    </tr>\n",
       "  </thead>\n",
       "  <tbody>\n",
       "    <tr>\n",
       "      <th>0</th>\n",
       "      <td>MESSAGEix South Africa</td>\n",
       "      <td>cement added</td>\n",
       "      <td>South Africa</td>\n",
       "      <td>CO2</td>\n",
       "      <td></td>\n",
       "      <td>559.212429</td>\n",
       "      <td>910.898127</td>\n",
       "      <td>1483.757075</td>\n",
       "      <td>2416.883944</td>\n",
       "      <td>3936.849297</td>\n",
       "      <td>6412.712712</td>\n",
       "    </tr>\n",
       "  </tbody>\n",
       "</table>\n",
       "</div>"
      ],
      "text/plain": [
       "                    model      scenario        region variable unit  \\\n",
       "0  MESSAGEix South Africa  cement added  South Africa      CO2        \n",
       "\n",
       "         2020        2030         2040         2050         2060         2070  \n",
       "0  559.212429  910.898127  1483.757075  2416.883944  3936.849297  6412.712712  "
      ]
     },
     "execution_count": 123,
     "metadata": {},
     "output_type": "execute_result"
    }
   ],
   "source": [
    "PRICE_EMISSION_time_cement = df_PRICE_EMISSION_cement.filter(year = [2020, 2030, 2040, 2050, 2060, 2070]).timeseries().reset_index()\n",
    "PRICE_EMISSION_time_cement"
   ]
  },
  {
   "cell_type": "markdown",
   "id": "363c221c",
   "metadata": {},
   "source": [
    "### Emissions"
   ]
  },
  {
   "cell_type": "markdown",
   "id": "77677e40",
   "metadata": {},
   "source": [
    "#### Base scenario"
   ]
  },
  {
   "cell_type": "code",
   "execution_count": 124,
   "id": "c352c46b",
   "metadata": {},
   "outputs": [],
   "source": [
    "EMISS_base = rep.full_key('EMISS')\n",
    "df_EMISS_base = rep.get(EMISS_base)"
   ]
  },
  {
   "cell_type": "code",
   "execution_count": 125,
   "id": "8221b8cf",
   "metadata": {},
   "outputs": [
    {
     "data": {
      "text/plain": [
       "'EMISS:iamc'"
      ]
     },
     "execution_count": 125,
     "metadata": {},
     "output_type": "execute_result"
    }
   ],
   "source": [
    "# The IAMC format does not have 'level', 'technology', or 'commodity'\n",
    "# columns; only a catch-all 'Variable' column.\n",
    "def format_variable(df):\n",
    "    \"\"\"Callback function to fill the IAMC 'variable' column.\"\"\"\n",
    "    df['variable'] = df['e']\n",
    "    return df.drop(['e'], axis=1)\n",
    "\n",
    "# Add node(s) that convert data to pyam.IamDataFrame objects\n",
    "new_key = rep.convert_pyam(\n",
    "    # Quantity or quantities to convert\n",
    "    quantities=EMISS_base.drop('type_tec'),\n",
    "    # Dimensions to use for the 'Region' and 'Year' IAMC columns\n",
    "    rename=dict(n=\"region\", y=\"year\"),\n",
    "    # Use this function to collapse the 'l', 't', and 'c' dimensions\n",
    "    # into the 'Variable' IAMC column\n",
    "    collapse=format_variable\n",
    ")\n",
    "\n",
    "new_key"
   ]
  },
  {
   "cell_type": "code",
   "execution_count": 126,
   "id": "3121236f",
   "metadata": {
    "scrolled": true
   },
   "outputs": [],
   "source": [
    "df_EMISS_base = rep.get(new_key)"
   ]
  },
  {
   "cell_type": "code",
   "execution_count": 127,
   "id": "ac787a21",
   "metadata": {
    "scrolled": true
   },
   "outputs": [
    {
     "data": {
      "text/html": [
       "<div>\n",
       "<style scoped>\n",
       "    .dataframe tbody tr th:only-of-type {\n",
       "        vertical-align: middle;\n",
       "    }\n",
       "\n",
       "    .dataframe tbody tr th {\n",
       "        vertical-align: top;\n",
       "    }\n",
       "\n",
       "    .dataframe thead th {\n",
       "        text-align: right;\n",
       "    }\n",
       "</style>\n",
       "<table border=\"1\" class=\"dataframe\">\n",
       "  <thead>\n",
       "    <tr style=\"text-align: right;\">\n",
       "      <th></th>\n",
       "      <th>model</th>\n",
       "      <th>scenario</th>\n",
       "      <th>region</th>\n",
       "      <th>variable</th>\n",
       "      <th>unit</th>\n",
       "      <th>2020</th>\n",
       "      <th>2030</th>\n",
       "      <th>2040</th>\n",
       "      <th>2050</th>\n",
       "      <th>2060</th>\n",
       "      <th>2070</th>\n",
       "    </tr>\n",
       "  </thead>\n",
       "  <tbody>\n",
       "    <tr>\n",
       "      <th>0</th>\n",
       "      <td>MESSAGEix South Africa</td>\n",
       "      <td>baseline</td>\n",
       "      <td>South Africa</td>\n",
       "      <td>CH4</td>\n",
       "      <td></td>\n",
       "      <td>12.354796</td>\n",
       "      <td>4.522104</td>\n",
       "      <td>3.312308</td>\n",
       "      <td>2.460830</td>\n",
       "      <td>2.856014</td>\n",
       "      <td>3.972848</td>\n",
       "    </tr>\n",
       "    <tr>\n",
       "      <th>1</th>\n",
       "      <td>MESSAGEix South Africa</td>\n",
       "      <td>baseline</td>\n",
       "      <td>South Africa</td>\n",
       "      <td>CO2</td>\n",
       "      <td></td>\n",
       "      <td>460.399920</td>\n",
       "      <td>236.940708</td>\n",
       "      <td>175.789617</td>\n",
       "      <td>146.582274</td>\n",
       "      <td>124.686736</td>\n",
       "      <td>97.600746</td>\n",
       "    </tr>\n",
       "    <tr>\n",
       "      <th>2</th>\n",
       "      <td>MESSAGEix South Africa</td>\n",
       "      <td>baseline</td>\n",
       "      <td>World</td>\n",
       "      <td>CH4</td>\n",
       "      <td></td>\n",
       "      <td>12.354796</td>\n",
       "      <td>4.522104</td>\n",
       "      <td>3.312308</td>\n",
       "      <td>2.460830</td>\n",
       "      <td>2.856014</td>\n",
       "      <td>3.972848</td>\n",
       "    </tr>\n",
       "    <tr>\n",
       "      <th>3</th>\n",
       "      <td>MESSAGEix South Africa</td>\n",
       "      <td>baseline</td>\n",
       "      <td>World</td>\n",
       "      <td>CO2</td>\n",
       "      <td></td>\n",
       "      <td>460.399920</td>\n",
       "      <td>236.940708</td>\n",
       "      <td>175.789617</td>\n",
       "      <td>146.582274</td>\n",
       "      <td>124.686736</td>\n",
       "      <td>97.600746</td>\n",
       "    </tr>\n",
       "  </tbody>\n",
       "</table>\n",
       "</div>"
      ],
      "text/plain": [
       "                    model  scenario        region variable unit        2020  \\\n",
       "0  MESSAGEix South Africa  baseline  South Africa      CH4        12.354796   \n",
       "1  MESSAGEix South Africa  baseline  South Africa      CO2       460.399920   \n",
       "2  MESSAGEix South Africa  baseline         World      CH4        12.354796   \n",
       "3  MESSAGEix South Africa  baseline         World      CO2       460.399920   \n",
       "\n",
       "         2030        2040        2050        2060       2070  \n",
       "0    4.522104    3.312308    2.460830    2.856014   3.972848  \n",
       "1  236.940708  175.789617  146.582274  124.686736  97.600746  \n",
       "2    4.522104    3.312308    2.460830    2.856014   3.972848  \n",
       "3  236.940708  175.789617  146.582274  124.686736  97.600746  "
      ]
     },
     "execution_count": 127,
     "metadata": {},
     "output_type": "execute_result"
    }
   ],
   "source": [
    "EMISS_time_base = df_EMISS_base.filter(year = [2020, 2030, 2040, 2050, 2060, 2070]).timeseries().reset_index()\n",
    "EMISS_time_base"
   ]
  },
  {
   "cell_type": "markdown",
   "id": "8eecaaf6",
   "metadata": {},
   "source": [
    "#### Cement scenario"
   ]
  },
  {
   "cell_type": "code",
   "execution_count": 128,
   "id": "f05831e8",
   "metadata": {},
   "outputs": [],
   "source": [
    "EMISS_cement = rep_cement.full_key('EMISS')\n",
    "df_EMISS_cement = rep_cement.get(EMISS_cement)"
   ]
  },
  {
   "cell_type": "code",
   "execution_count": 129,
   "id": "25de4243",
   "metadata": {},
   "outputs": [
    {
     "data": {
      "text/plain": [
       "'EMISS:iamc'"
      ]
     },
     "execution_count": 129,
     "metadata": {},
     "output_type": "execute_result"
    }
   ],
   "source": [
    "# The IAMC format does not have 'level', 'technology', or 'commodity'\n",
    "# columns; only a catch-all 'Variable' column.\n",
    "def format_variable(df):\n",
    "    \"\"\"Callback function to fill the IAMC 'variable' column.\"\"\"\n",
    "    df['variable'] = df['e']\n",
    "    return df.drop(['e'], axis=1)\n",
    "\n",
    "# Add node(s) that convert data to pyam.IamDataFrame objects\n",
    "new_key = rep_cement.convert_pyam(\n",
    "    # Quantity or quantities to convert\n",
    "    quantities=EMISS_cement.drop('type_tec'),\n",
    "    # Dimensions to use for the 'Region' and 'Year' IAMC columns\n",
    "    rename=dict(n=\"region\", y=\"year\"),\n",
    "    # Use this function to collapse the 'l', 't', and 'c' dimensions\n",
    "    # into the 'Variable' IAMC column\n",
    "    collapse=format_variable\n",
    ")\n",
    "\n",
    "new_key"
   ]
  },
  {
   "cell_type": "code",
   "execution_count": 130,
   "id": "e12e8885",
   "metadata": {
    "scrolled": true
   },
   "outputs": [],
   "source": [
    "df_EMISS_cement = rep_cement.get(new_key)"
   ]
  },
  {
   "cell_type": "code",
   "execution_count": 131,
   "id": "a503b469",
   "metadata": {
    "scrolled": true
   },
   "outputs": [
    {
     "data": {
      "text/html": [
       "<div>\n",
       "<style scoped>\n",
       "    .dataframe tbody tr th:only-of-type {\n",
       "        vertical-align: middle;\n",
       "    }\n",
       "\n",
       "    .dataframe tbody tr th {\n",
       "        vertical-align: top;\n",
       "    }\n",
       "\n",
       "    .dataframe thead th {\n",
       "        text-align: right;\n",
       "    }\n",
       "</style>\n",
       "<table border=\"1\" class=\"dataframe\">\n",
       "  <thead>\n",
       "    <tr style=\"text-align: right;\">\n",
       "      <th></th>\n",
       "      <th>model</th>\n",
       "      <th>scenario</th>\n",
       "      <th>region</th>\n",
       "      <th>variable</th>\n",
       "      <th>unit</th>\n",
       "      <th>2020</th>\n",
       "      <th>2030</th>\n",
       "      <th>2040</th>\n",
       "      <th>2050</th>\n",
       "      <th>2060</th>\n",
       "      <th>2070</th>\n",
       "    </tr>\n",
       "  </thead>\n",
       "  <tbody>\n",
       "    <tr>\n",
       "      <th>0</th>\n",
       "      <td>MESSAGEix South Africa</td>\n",
       "      <td>cement added</td>\n",
       "      <td>South Africa</td>\n",
       "      <td>CH4</td>\n",
       "      <td></td>\n",
       "      <td>12.350410</td>\n",
       "      <td>4.515230</td>\n",
       "      <td>3.251552</td>\n",
       "      <td>2.510786</td>\n",
       "      <td>2.844655</td>\n",
       "      <td>3.966032</td>\n",
       "    </tr>\n",
       "    <tr>\n",
       "      <th>1</th>\n",
       "      <td>MESSAGEix South Africa</td>\n",
       "      <td>cement added</td>\n",
       "      <td>South Africa</td>\n",
       "      <td>CO2</td>\n",
       "      <td></td>\n",
       "      <td>459.879322</td>\n",
       "      <td>238.864318</td>\n",
       "      <td>177.856910</td>\n",
       "      <td>149.530115</td>\n",
       "      <td>127.891107</td>\n",
       "      <td>100.175035</td>\n",
       "    </tr>\n",
       "    <tr>\n",
       "      <th>2</th>\n",
       "      <td>MESSAGEix South Africa</td>\n",
       "      <td>cement added</td>\n",
       "      <td>World</td>\n",
       "      <td>CH4</td>\n",
       "      <td></td>\n",
       "      <td>12.350410</td>\n",
       "      <td>4.515230</td>\n",
       "      <td>3.251552</td>\n",
       "      <td>2.510786</td>\n",
       "      <td>2.844655</td>\n",
       "      <td>3.966032</td>\n",
       "    </tr>\n",
       "    <tr>\n",
       "      <th>3</th>\n",
       "      <td>MESSAGEix South Africa</td>\n",
       "      <td>cement added</td>\n",
       "      <td>World</td>\n",
       "      <td>CO2</td>\n",
       "      <td></td>\n",
       "      <td>459.879322</td>\n",
       "      <td>238.864318</td>\n",
       "      <td>177.856910</td>\n",
       "      <td>149.530115</td>\n",
       "      <td>127.891107</td>\n",
       "      <td>100.175035</td>\n",
       "    </tr>\n",
       "  </tbody>\n",
       "</table>\n",
       "</div>"
      ],
      "text/plain": [
       "                    model      scenario        region variable unit  \\\n",
       "0  MESSAGEix South Africa  cement added  South Africa      CH4        \n",
       "1  MESSAGEix South Africa  cement added  South Africa      CO2        \n",
       "2  MESSAGEix South Africa  cement added         World      CH4        \n",
       "3  MESSAGEix South Africa  cement added         World      CO2        \n",
       "\n",
       "         2020        2030        2040        2050        2060        2070  \n",
       "0   12.350410    4.515230    3.251552    2.510786    2.844655    3.966032  \n",
       "1  459.879322  238.864318  177.856910  149.530115  127.891107  100.175035  \n",
       "2   12.350410    4.515230    3.251552    2.510786    2.844655    3.966032  \n",
       "3  459.879322  238.864318  177.856910  149.530115  127.891107  100.175035  "
      ]
     },
     "execution_count": 131,
     "metadata": {},
     "output_type": "execute_result"
    }
   ],
   "source": [
    "EMISS_time_cement = df_EMISS_cement.filter(year = [2020, 2030, 2040, 2050, 2060, 2070]).timeseries().reset_index()\n",
    "EMISS_time_cement"
   ]
  },
  {
   "cell_type": "markdown",
   "id": "1cb2fa07",
   "metadata": {},
   "source": [
    "### Plotting both"
   ]
  },
  {
   "cell_type": "code",
   "execution_count": 132,
   "id": "ae25ddf9",
   "metadata": {},
   "outputs": [
    {
     "data": {
      "text/plain": [
       "array([[459.87932151, 238.86431844, 177.85690979, 149.53011539,\n",
       "        127.89110696, 100.17503537]])"
      ]
     },
     "execution_count": 132,
     "metadata": {},
     "output_type": "execute_result"
    }
   ],
   "source": [
    "np.array(EMISS_time_cement.loc[EMISS_time_cement['region'] == 'South Africa'].loc[EMISS_time_cement['variable'] == 'CO2'].iloc[:,5:])"
   ]
  },
  {
   "cell_type": "code",
   "execution_count": 133,
   "id": "29b0b73c",
   "metadata": {},
   "outputs": [
    {
     "data": {
      "image/png": "[encoded data removed]",
      "text/plain": [
       "<Figure size 432x288 with 1 Axes>"
      ]
     },
     "metadata": {
      "needs_background": "light"
     },
     "output_type": "display_data"
    }
   ],
   "source": [
    "# Making an array with the years from the dataframe columns\n",
    "YEARS = np.array(EMISS_time_cement.columns[5:])\n",
    "\n",
    "x_base = np.array(EMISS_time_base.loc[EMISS_time_base['region'] == 'South Africa'].loc[EMISS_time_base['variable'] == 'CO2'].iloc[:,5:])\n",
    "x_cement = np.array(EMISS_time_cement.loc[EMISS_time_cement['region'] == 'South Africa'].loc[EMISS_time_cement['variable'] == 'CO2'].iloc[:,5:])\n",
    "\n",
    "fig = plt.subplots()\n",
    "ax = plt.subplot(111)\n",
    "# Divide by 2 to avoid also plotting \"World\"\n",
    "\n",
    "for act in range(len(x_base)):\n",
    "    plt.plot(YEARS, x_base[act], label = str('baseline: CO2'))\n",
    "    # Divide by 2 to avoid also plotting \"World\"\n",
    "for act in range(len(x_cement)):\n",
    "    plt.plot(YEARS, x_cement[act], label = str('cement: CO2'))\n",
    "\n",
    "# Shrink current axis's height by 10% on the bottom\n",
    "box = ax.get_position()\n",
    "ax.set_position([box.x0, box.y0 + box.height * 0.1,\n",
    "                 box.width, box.height * 0.9])\n",
    "\n",
    "# Put a legend below current axis\n",
    "ax.legend(loc='upper center', bbox_to_anchor=(0.5, -0.09),\n",
    "          fancybox=True, shadow=True, ncol=5)\n",
    "\n",
    "plt.show()"
   ]
  },
  {
   "cell_type": "markdown",
   "id": "5fcb225a",
   "metadata": {},
   "source": [
    "### Commodity price"
   ]
  },
  {
   "cell_type": "markdown",
   "id": "448cd0d7",
   "metadata": {},
   "source": [
    "### Baseline"
   ]
  },
  {
   "cell_type": "code",
   "execution_count": 134,
   "id": "cb6fabea",
   "metadata": {},
   "outputs": [],
   "source": [
    "PRICE_COMMODITY_base = rep.full_key('PRICE_COMMODITY')\n",
    "df_PRICE_COMMODITY_base = rep.get(PRICE_COMMODITY_base)"
   ]
  },
  {
   "cell_type": "code",
   "execution_count": 135,
   "id": "8962b4e3",
   "metadata": {},
   "outputs": [
    {
     "data": {
      "text/plain": [
       "'PRICE_COMMODITY:iamc'"
      ]
     },
     "execution_count": 135,
     "metadata": {},
     "output_type": "execute_result"
    }
   ],
   "source": [
    "# The IAMC format does not have 'level', 'technology', or 'commodity'\n",
    "# columns; only a catch-all 'Variable' column.\n",
    "def format_variable(df):\n",
    "    \"\"\"Callback function to fill the IAMC 'variable' column.\"\"\"\n",
    "    df['variable'] = df['c'] + '|' + df['l'] \n",
    "    return df.drop(['c','l'], axis=1)\n",
    "\n",
    "# Add node(s) that convert data to pyam.IamDataFrame objects\n",
    "new_key = rep.convert_pyam(\n",
    "    # Quantity or quantities to convert\n",
    "    quantities=PRICE_COMMODITY_base.drop('h'),\n",
    "    # Dimensions to use for the 'Region' and 'Year' IAMC columns\n",
    "    rename=dict(n=\"region\", y=\"year\"),\n",
    "    # Use this function to collapse the 'l', 't', and 'c' dimensions\n",
    "    # into the 'Variable' IAMC column\n",
    "    collapse=format_variable\n",
    ")\n",
    "\n",
    "new_key"
   ]
  },
  {
   "cell_type": "code",
   "execution_count": 136,
   "id": "5c45569f",
   "metadata": {
    "scrolled": true
   },
   "outputs": [],
   "source": [
    "df_PRICE_COMMODITY_base = rep.get(new_key)"
   ]
  },
  {
   "cell_type": "code",
   "execution_count": 137,
   "id": "70f0b451",
   "metadata": {
    "scrolled": true
   },
   "outputs": [
    {
     "data": {
      "text/html": [
       "<div>\n",
       "<style scoped>\n",
       "    .dataframe tbody tr th:only-of-type {\n",
       "        vertical-align: middle;\n",
       "    }\n",
       "\n",
       "    .dataframe tbody tr th {\n",
       "        vertical-align: top;\n",
       "    }\n",
       "\n",
       "    .dataframe thead th {\n",
       "        text-align: right;\n",
       "    }\n",
       "</style>\n",
       "<table border=\"1\" class=\"dataframe\">\n",
       "  <thead>\n",
       "    <tr style=\"text-align: right;\">\n",
       "      <th></th>\n",
       "      <th>model</th>\n",
       "      <th>scenario</th>\n",
       "      <th>region</th>\n",
       "      <th>variable</th>\n",
       "      <th>unit</th>\n",
       "      <th>2020</th>\n",
       "      <th>2030</th>\n",
       "      <th>2040</th>\n",
       "      <th>2050</th>\n",
       "      <th>2060</th>\n",
       "      <th>2070</th>\n",
       "    </tr>\n",
       "  </thead>\n",
       "  <tbody>\n",
       "    <tr>\n",
       "      <th>0</th>\n",
       "      <td>MESSAGEix South Africa</td>\n",
       "      <td>baseline</td>\n",
       "      <td>South Africa</td>\n",
       "      <td>biomass|final</td>\n",
       "      <td></td>\n",
       "      <td>55.000000</td>\n",
       "      <td>60.000000</td>\n",
       "      <td>2915.394323</td>\n",
       "      <td>4502.856961</td>\n",
       "      <td>7272.655277</td>\n",
       "      <td>11903.837149</td>\n",
       "    </tr>\n",
       "    <tr>\n",
       "      <th>1</th>\n",
       "      <td>MESSAGEix South Africa</td>\n",
       "      <td>baseline</td>\n",
       "      <td>South Africa</td>\n",
       "      <td>biomass|primary</td>\n",
       "      <td></td>\n",
       "      <td>50.000000</td>\n",
       "      <td>50.000000</td>\n",
       "      <td>2900.394323</td>\n",
       "      <td>4482.856961</td>\n",
       "      <td>7247.655277</td>\n",
       "      <td>11873.837149</td>\n",
       "    </tr>\n",
       "    <tr>\n",
       "      <th>2</th>\n",
       "      <td>MESSAGEix South Africa</td>\n",
       "      <td>baseline</td>\n",
       "      <td>South Africa</td>\n",
       "      <td>coal|final</td>\n",
       "      <td></td>\n",
       "      <td>2791.341495</td>\n",
       "      <td>4257.610411</td>\n",
       "      <td>5624.876112</td>\n",
       "      <td>10078.989857</td>\n",
       "      <td>16382.098876</td>\n",
       "      <td>26648.989731</td>\n",
       "    </tr>\n",
       "    <tr>\n",
       "      <th>3</th>\n",
       "      <td>MESSAGEix South Africa</td>\n",
       "      <td>baseline</td>\n",
       "      <td>South Africa</td>\n",
       "      <td>coal|primary</td>\n",
       "      <td></td>\n",
       "      <td>2355.640172</td>\n",
       "      <td>3813.849188</td>\n",
       "      <td>6189.299023</td>\n",
       "      <td>10058.989857</td>\n",
       "      <td>16362.098876</td>\n",
       "      <td>26628.989731</td>\n",
       "    </tr>\n",
       "    <tr>\n",
       "      <th>4</th>\n",
       "      <td>MESSAGEix South Africa</td>\n",
       "      <td>baseline</td>\n",
       "      <td>South Africa</td>\n",
       "      <td>coal|secondary</td>\n",
       "      <td></td>\n",
       "      <td>2771.341495</td>\n",
       "      <td>4237.610411</td>\n",
       "      <td>5604.876112</td>\n",
       "      <td>10058.989857</td>\n",
       "      <td>16362.098876</td>\n",
       "      <td>26628.989731</td>\n",
       "    </tr>\n",
       "  </tbody>\n",
       "</table>\n",
       "</div>"
      ],
      "text/plain": [
       "                    model  scenario        region         variable unit  \\\n",
       "0  MESSAGEix South Africa  baseline  South Africa    biomass|final        \n",
       "1  MESSAGEix South Africa  baseline  South Africa  biomass|primary        \n",
       "2  MESSAGEix South Africa  baseline  South Africa       coal|final        \n",
       "3  MESSAGEix South Africa  baseline  South Africa     coal|primary        \n",
       "4  MESSAGEix South Africa  baseline  South Africa   coal|secondary        \n",
       "\n",
       "          2020         2030         2040          2050          2060  \\\n",
       "0    55.000000    60.000000  2915.394323   4502.856961   7272.655277   \n",
       "1    50.000000    50.000000  2900.394323   4482.856961   7247.655277   \n",
       "2  2791.341495  4257.610411  5624.876112  10078.989857  16382.098876   \n",
       "3  2355.640172  3813.849188  6189.299023  10058.989857  16362.098876   \n",
       "4  2771.341495  4237.610411  5604.876112  10058.989857  16362.098876   \n",
       "\n",
       "           2070  \n",
       "0  11903.837149  \n",
       "1  11873.837149  \n",
       "2  26648.989731  \n",
       "3  26628.989731  \n",
       "4  26628.989731  "
      ]
     },
     "execution_count": 137,
     "metadata": {},
     "output_type": "execute_result"
    }
   ],
   "source": [
    "PRICE_COMMODITY_time_base = df_PRICE_COMMODITY_base.filter(year = [2020, 2030, 2040, 2050, 2060, 2070]).timeseries().reset_index()\n",
    "PRICE_COMMODITY_time_base.head()"
   ]
  },
  {
   "cell_type": "markdown",
   "id": "c243b632",
   "metadata": {},
   "source": [
    "### Cement"
   ]
  },
  {
   "cell_type": "code",
   "execution_count": 138,
   "id": "024b1f10",
   "metadata": {},
   "outputs": [],
   "source": [
    "PRICE_COMMODITY_cement = rep_cement.full_key('PRICE_COMMODITY')\n",
    "df_PRICE_COMMODITY_cement = rep_cement.get(PRICE_COMMODITY_cement)"
   ]
  },
  {
   "cell_type": "code",
   "execution_count": 139,
   "id": "72d6288a",
   "metadata": {},
   "outputs": [
    {
     "data": {
      "text/plain": [
       "'PRICE_COMMODITY:iamc'"
      ]
     },
     "execution_count": 139,
     "metadata": {},
     "output_type": "execute_result"
    }
   ],
   "source": [
    "# The IAMC format does not have 'level', 'technology', or 'commodity'\n",
    "# columns; only a catch-all 'Variable' column.\n",
    "def format_variable(df):\n",
    "    \"\"\"Callback function to fill the IAMC 'variable' column.\"\"\"\n",
    "    df['variable'] = df['c'] + '|' + df['l'] \n",
    "    return df.drop(['c','l'], axis=1)\n",
    "\n",
    "# Add node(s) that convert data to pyam.IamDataFrame objects\n",
    "new_key = rep_cement.convert_pyam(\n",
    "    # Quantity or quantities to convert\n",
    "    quantities=PRICE_COMMODITY_cement.drop('h'),\n",
    "    # Dimensions to use for the 'Region' and 'Year' IAMC columns\n",
    "    rename=dict(n=\"region\", y=\"year\"),\n",
    "    # Use this function to collapse the 'l', 't', and 'c' dimensions\n",
    "    # into the 'Variable' IAMC column\n",
    "    collapse=format_variable\n",
    ")\n",
    "\n",
    "new_key"
   ]
  },
  {
   "cell_type": "code",
   "execution_count": 140,
   "id": "48f9d349",
   "metadata": {
    "scrolled": true
   },
   "outputs": [],
   "source": [
    "df_PRICE_COMMODITY_cement = rep_cement.get(new_key)"
   ]
  },
  {
   "cell_type": "code",
   "execution_count": 141,
   "id": "f0279edb",
   "metadata": {
    "scrolled": false
   },
   "outputs": [
    {
     "data": {
      "text/html": [
       "<div>\n",
       "<style scoped>\n",
       "    .dataframe tbody tr th:only-of-type {\n",
       "        vertical-align: middle;\n",
       "    }\n",
       "\n",
       "    .dataframe tbody tr th {\n",
       "        vertical-align: top;\n",
       "    }\n",
       "\n",
       "    .dataframe thead th {\n",
       "        text-align: right;\n",
       "    }\n",
       "</style>\n",
       "<table border=\"1\" class=\"dataframe\">\n",
       "  <thead>\n",
       "    <tr style=\"text-align: right;\">\n",
       "      <th></th>\n",
       "      <th>model</th>\n",
       "      <th>scenario</th>\n",
       "      <th>region</th>\n",
       "      <th>variable</th>\n",
       "      <th>unit</th>\n",
       "      <th>2020</th>\n",
       "      <th>2030</th>\n",
       "      <th>2040</th>\n",
       "      <th>2050</th>\n",
       "      <th>2060</th>\n",
       "      <th>2070</th>\n",
       "    </tr>\n",
       "  </thead>\n",
       "  <tbody>\n",
       "    <tr>\n",
       "      <th>0</th>\n",
       "      <td>MESSAGEix South Africa</td>\n",
       "      <td>cement added</td>\n",
       "      <td>South Africa</td>\n",
       "      <td>biomass|final</td>\n",
       "      <td></td>\n",
       "      <td>55.000000</td>\n",
       "      <td>60.000000</td>\n",
       "      <td>2128.492305</td>\n",
       "      <td>3390.206225</td>\n",
       "      <td>5459.594011</td>\n",
       "      <td>8950.354855</td>\n",
       "    </tr>\n",
       "    <tr>\n",
       "      <th>1</th>\n",
       "      <td>MESSAGEix South Africa</td>\n",
       "      <td>cement added</td>\n",
       "      <td>South Africa</td>\n",
       "      <td>biomass|primary</td>\n",
       "      <td></td>\n",
       "      <td>50.000000</td>\n",
       "      <td>50.000000</td>\n",
       "      <td>2113.492305</td>\n",
       "      <td>3370.206225</td>\n",
       "      <td>5434.594011</td>\n",
       "      <td>8920.354855</td>\n",
       "    </tr>\n",
       "    <tr>\n",
       "      <th>2</th>\n",
       "      <td>MESSAGEix South Africa</td>\n",
       "      <td>cement added</td>\n",
       "      <td>South Africa</td>\n",
       "      <td>cement|useful</td>\n",
       "      <td></td>\n",
       "      <td>211.222111</td>\n",
       "      <td>341.410758</td>\n",
       "      <td>416.050039</td>\n",
       "      <td>516.284603</td>\n",
       "      <td>713.204553</td>\n",
       "      <td>1019.474535</td>\n",
       "    </tr>\n",
       "    <tr>\n",
       "      <th>3</th>\n",
       "      <td>MESSAGEix South Africa</td>\n",
       "      <td>cement added</td>\n",
       "      <td>South Africa</td>\n",
       "      <td>clinker_fuel|secondary</td>\n",
       "      <td></td>\n",
       "      <td>NaN</td>\n",
       "      <td>1757.963100</td>\n",
       "      <td>2905.505163</td>\n",
       "      <td>4532.062828</td>\n",
       "      <td>7260.410090</td>\n",
       "      <td>11679.903114</td>\n",
       "    </tr>\n",
       "    <tr>\n",
       "      <th>4</th>\n",
       "      <td>MESSAGEix South Africa</td>\n",
       "      <td>cement added</td>\n",
       "      <td>South Africa</td>\n",
       "      <td>clinker|secondary</td>\n",
       "      <td></td>\n",
       "      <td>264.027639</td>\n",
       "      <td>426.763448</td>\n",
       "      <td>520.062549</td>\n",
       "      <td>645.355754</td>\n",
       "      <td>891.505691</td>\n",
       "      <td>1274.343169</td>\n",
       "    </tr>\n",
       "  </tbody>\n",
       "</table>\n",
       "</div>"
      ],
      "text/plain": [
       "                    model      scenario        region                variable  \\\n",
       "0  MESSAGEix South Africa  cement added  South Africa           biomass|final   \n",
       "1  MESSAGEix South Africa  cement added  South Africa         biomass|primary   \n",
       "2  MESSAGEix South Africa  cement added  South Africa           cement|useful   \n",
       "3  MESSAGEix South Africa  cement added  South Africa  clinker_fuel|secondary   \n",
       "4  MESSAGEix South Africa  cement added  South Africa       clinker|secondary   \n",
       "\n",
       "  unit        2020         2030         2040         2050         2060  \\\n",
       "0        55.000000    60.000000  2128.492305  3390.206225  5459.594011   \n",
       "1        50.000000    50.000000  2113.492305  3370.206225  5434.594011   \n",
       "2       211.222111   341.410758   416.050039   516.284603   713.204553   \n",
       "3              NaN  1757.963100  2905.505163  4532.062828  7260.410090   \n",
       "4       264.027639   426.763448   520.062549   645.355754   891.505691   \n",
       "\n",
       "           2070  \n",
       "0   8950.354855  \n",
       "1   8920.354855  \n",
       "2   1019.474535  \n",
       "3  11679.903114  \n",
       "4   1274.343169  "
      ]
     },
     "execution_count": 141,
     "metadata": {},
     "output_type": "execute_result"
    }
   ],
   "source": [
    "PRICE_COMMODITY_time_cement = df_PRICE_COMMODITY_cement.filter(year = [2020, 2030, 2040, 2050, 2060, 2070]).timeseries().reset_index()\n",
    "PRICE_COMMODITY_time_cement.head()"
   ]
  },
  {
   "cell_type": "markdown",
   "id": "025de72c",
   "metadata": {},
   "source": [
    "### Plotting both"
   ]
  },
  {
   "cell_type": "code",
   "execution_count": 142,
   "id": "7f009b30",
   "metadata": {
    "scrolled": false
   },
   "outputs": [
    {
     "data": {
      "image/png": "[encoded data removed]",
      "text/plain": [
       "<Figure size 432x288 with 1 Axes>"
      ]
     },
     "metadata": {
      "needs_background": "light"
     },
     "output_type": "display_data"
    }
   ],
   "source": [
    "# Making an array with the years from the dataframe columns\n",
    "YEARS = np.array(PRICE_COMMODITY_time_base.columns)[5:]\n",
    "\n",
    "fig = plt.subplots()\n",
    "ax = plt.subplot(111)\n",
    "\n",
    "for act in range(len(PRICE_COMMODITY_time_base.values)):\n",
    "    ax.plot(YEARS, PRICE_COMMODITY_time_base.values[:,5:][act], label = str('baseline: ' + df_PRICE_COMMODITY_base.variable[act]))\n",
    "    \n",
    "for act in range(len(PRICE_COMMODITY_time_cement.values)):\n",
    "    ax.plot(YEARS, PRICE_COMMODITY_time_cement.values[:,5:][act], label = str('cement: ' + df_PRICE_COMMODITY_cement.variable[act]))\n",
    "\n",
    "# Shrink current axis's height by 10% on the bottom\n",
    "box = ax.get_position()\n",
    "ax.set_position([box.x0, box.y0 + box.height * 0.1,\n",
    "                 box.width, box.height * 0.9])\n",
    "\n",
    "# Put a legend below current axis\n",
    "ax.legend(loc='upper center', bbox_to_anchor=(0.5, -0.09),\n",
    "          fancybox=True, shadow=True, ncol=5)\n",
    "\n",
    "plt.show()"
   ]
  },
  {
   "cell_type": "markdown",
   "id": "25656bee",
   "metadata": {},
   "source": [
    "# Exporting to excel"
   ]
  },
  {
   "cell_type": "markdown",
   "id": "7b02930a",
   "metadata": {},
   "source": [
    "#### Collecting all to one dataframe"
   ]
  },
  {
   "cell_type": "code",
   "execution_count": null,
   "id": "3ee0e5f5",
   "metadata": {},
   "outputs": [],
   "source": [
    "#baseline.var_list()"
   ]
  },
  {
   "cell_type": "code",
   "execution_count": null,
   "id": "37cd18e1",
   "metadata": {},
   "outputs": [],
   "source": [
    "def df_append_first(df1, df2, VAR):\n",
    "    DF = df1.append(df2, ignore_index = True)\n",
    "    DF.insert(0, 'VAR', VAR)\n",
    "    return DF"
   ]
  },
  {
   "cell_type": "code",
   "execution_count": null,
   "id": "0282b0df",
   "metadata": {},
   "outputs": [],
   "source": [
    "variables_list = ['EXT', 'ACT', 'EMISS', 'PRICE_COMMODITY']#, 'PRICE_EMISSION']"
   ]
  },
  {
   "cell_type": "code",
   "execution_count": null,
   "id": "acd3a651",
   "metadata": {},
   "outputs": [],
   "source": [
    "df_base_list = [EXT_time_base, ACT_time_base, EMISS_time_base,\n",
    "          PRICE_COMMODITY_time_base]#, PRICE_EMISSION_base]"
   ]
  },
  {
   "cell_type": "code",
   "execution_count": null,
   "id": "573df00b",
   "metadata": {},
   "outputs": [],
   "source": [
    "df_cement_list = [EXT_time_cement, ACT_time_cement, EMISS_time_cement,\n",
    "          PRICE_COMMODITY_time_cement]#, PRICE_EMISSION_cement]"
   ]
  },
  {
   "cell_type": "code",
   "execution_count": null,
   "id": "33bc729f",
   "metadata": {},
   "outputs": [],
   "source": [
    "final_dataframe = pd.DataFrame()\n",
    "df_var = 0\n",
    "for d1, d2, string in zip(df_base_list, df_cement_list, variables_list):\n",
    "    df_var = df_append_first(d1, d2, string)\n",
    "    final_dataframe = final_dataframe.append(df_var, ignore_index=True)\n",
    "final_dataframe.tail()"
   ]
  },
  {
   "cell_type": "code",
   "execution_count": null,
   "id": "542a538c",
   "metadata": {
    "scrolled": true
   },
   "outputs": [],
   "source": [
    "df_PRICE_EMISSION = PRICE_EMISSION_time_base #change between base or cement here\n",
    "df_PRICE_EMISSION.insert(0, 'VAR', 'PRICE_EMISSION')\n",
    "final_dataframe = final_dataframe.append(df_PRICE_EMISSION, ignore_index=True)"
   ]
  },
  {
   "cell_type": "code",
   "execution_count": null,
   "id": "d721c582",
   "metadata": {},
   "outputs": [],
   "source": [
    "final_dataframe.tail()"
   ]
  },
  {
   "cell_type": "markdown",
   "id": "ecad7eca",
   "metadata": {},
   "source": [
    "### Export of results to excel file"
   ]
  },
  {
   "cell_type": "code",
   "execution_count": null,
   "id": "80528e38",
   "metadata": {},
   "outputs": [],
   "source": [
    "#final_dataframe.to_excel('message results - baseline and cement - lowest emission bounds.xlsx')"
   ]
  },
  {
   "cell_type": "markdown",
   "id": "16e74090",
   "metadata": {},
   "source": [
    "## Other commands"
   ]
  },
  {
   "cell_type": "code",
   "execution_count": 143,
   "id": "27d6718c",
   "metadata": {},
   "outputs": [],
   "source": [
    "# close platform connection\n",
    "mp.close_db()"
   ]
  },
  {
   "cell_type": "code",
   "execution_count": null,
   "id": "fe784e23",
   "metadata": {},
   "outputs": [],
   "source": [
    "#scenario_pc.to_excel(\"scenario_test_01-04.xlsx\")"
   ]
  },
  {
   "cell_type": "code",
   "execution_count": null,
   "id": "8116a4b4",
   "metadata": {},
   "outputs": [],
   "source": [
    "# list units defined on platform\n",
    "#mp.units()"
   ]
  },
  {
   "cell_type": "code",
   "execution_count": null,
   "id": "7e002c1d",
   "metadata": {},
   "outputs": [],
   "source": [
    "# mp.add_unit('USD/kW')  "
   ]
  },
  {
   "cell_type": "code",
   "execution_count": null,
   "id": "6588ca6c",
   "metadata": {
    "scrolled": true
   },
   "outputs": [],
   "source": [
    "#scenario_pc.remove_solution()"
   ]
  },
  {
   "cell_type": "code",
   "execution_count": null,
   "id": "77bd5e42",
   "metadata": {},
   "outputs": [],
   "source": [
    "#scenario.par('emission')"
   ]
  },
  {
   "cell_type": "code",
   "execution_count": null,
   "id": "26197745",
   "metadata": {},
   "outputs": [],
   "source": [
    "#mp.scenario_list()"
   ]
  },
  {
   "cell_type": "code",
   "execution_count": null,
   "id": "f432d4ee",
   "metadata": {},
   "outputs": [],
   "source": [
    "# # Print the names of all parameters that contain \"emission\"\n",
    "# [name for name in base_scen.par_list() if \"emission\" in name]"
   ]
  }
 ],
 "metadata": {
  "kernelspec": {
   "display_name": "Python 3 (ipykernel)",
   "language": "python",
   "name": "python3"
  },
  "language_info": {
   "codemirror_mode": {
    "name": "ipython",
    "version": 3
   },
   "file_extension": ".py",
   "mimetype": "text/x-python",
   "name": "python",
   "nbconvert_exporter": "python",
   "pygments_lexer": "ipython3",
   "version": "3.10.2"
  }
 },
 "nbformat": 4,
 "nbformat_minor": 5
}
