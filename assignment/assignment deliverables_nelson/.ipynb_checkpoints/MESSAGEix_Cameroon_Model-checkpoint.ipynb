{
 "cells": [
  {
   "cell_type": "markdown",
   "id": "6e296563",
   "metadata": {},
   "source": [
    "# Messageix Cameroon Model\n",
    "\n",
    "In this Model,we recalibrate the South Africa Model to form a representation of the Cameroon Model. The data for recalibration is found in the excel titled \"Inputs for recalibration\". This data is changed directly in the excel input file. This forms the baseline scenario of the Cameroon Model. I have a given set of Scenarios to be investigated\n",
    "\n",
    "* Scenario 1: Baseline + Emission Constraints\n",
    "* Scenario 2: Low Biomass Demand in residential +(Emission Constraints)\n",
    "* Scenario 3: (Low biomass demand in residential + high electrification access in residential/commercial)+ Emission Constraints\n",
    "* Scenario 4: Scenario 3 + high share of renewable energy\n",
    "* Scenario 5: Scenario 4 + strong learning curve for PV and Wind\n",
    "* Scenario 6: Scenario 5 + biodiesel production"
   ]
  },
  {
   "cell_type": "code",
   "execution_count": 1,
   "id": "9361b64b",
   "metadata": {},
   "outputs": [
    {
     "data": {
      "application/javascript": [
       "if (typeof IPython !== 'undefined') { IPython.OutputArea.prototype._should_scroll = function(lines){ return false; }}"
      ],
      "text/plain": [
       "<IPython.core.display.Javascript object>"
      ]
     },
     "metadata": {},
     "output_type": "display_data"
    }
   ],
   "source": [
    "# load packages\n",
    "import pandas as pd\n",
    "import numpy as np\n",
    "import ixmp                    # package for ix modeling platform\n",
    "import message_ix              # package for MESSAGEix model\n",
    "from message_ix.utils import make_df"
   ]
  },
  {
   "cell_type": "code",
   "execution_count": 2,
   "id": "c3cd5e19",
   "metadata": {},
   "outputs": [],
   "source": [
    "# Loading the platform (and getting conected to a local database)\n",
    "mp = ixmp.Platform()"
   ]
  },
  {
   "cell_type": "code",
   "execution_count": 3,
   "id": "0a58fc9e",
   "metadata": {},
   "outputs": [],
   "source": [
    "# create empty scenario\n",
    "baseline = message_ix.Scenario(mp, model='Cameroon', \n",
    "                               scenario='baseline', version='new')"
   ]
  },
  {
   "cell_type": "code",
   "execution_count": 6,
   "id": "9e519a7c",
   "metadata": {
    "scrolled": true
   },
   "outputs": [],
   "source": [
    " #read Cameroon model from Excel (init_items = True is important as this scenario also includes MACRO)\n",
    "baseline.read_excel(\"../assignment deliverables_nelson/MESSAGEix_Cameroon.xlsx\", add_units=True, commit_steps=False, init_items=True)"
   ]
  },
  {
   "cell_type": "code",
   "execution_count": 7,
   "id": "cc1f691e",
   "metadata": {
    "scrolled": true
   },
   "outputs": [],
   "source": [
    "# solve baseline scenario\n",
    "baseline.solve()"
   ]
  },
  {
   "cell_type": "code",
   "execution_count": 8,
   "id": "ef896008",
   "metadata": {},
   "outputs": [
    {
     "data": {
      "text/plain": [
       "{'lvl': 4124.81884765625, 'mrg': 0.0}"
      ]
     },
     "execution_count": 8,
     "metadata": {},
     "output_type": "execute_result"
    }
   ],
   "source": [
    "# check objective function value\n",
    "baseline.var('OBJ')"
   ]
  },
  {
   "cell_type": "markdown",
   "id": "3ad26a23",
   "metadata": {},
   "source": [
    "# Scenario1: Baseline + Emission Constraints"
   ]
  },
  {
   "cell_type": "code",
   "execution_count": null,
   "id": "e64bb55e",
   "metadata": {},
   "outputs": [],
   "source": [
    "#cloning Cameroon Scenario andd adding constraint for Emission and carbon pricing\n",
    "scenario1 = baseline.clone('Cameroon', 'emission budget','baseline scenario with added emission constraint',\n",
    "                  keep_solution=False)"
   ]
  },
  {
   "cell_type": "code",
   "execution_count": null,
   "id": "06212fb8",
   "metadata": {},
   "outputs": [],
   "source": [
    "scenario1.check_out()"
   ]
  },
  {
   "cell_type": "code",
   "execution_count": null,
   "id": "84a366e2",
   "metadata": {},
   "outputs": [],
   "source": [
    "scenario1.add_par('bound_emission', ['Cameroon', 'CO2', 'all', 'cumulative'],\n",
    "             value=8, unit='MtCO2')"
   ]
  },
  {
   "cell_type": "code",
   "execution_count": null,
   "id": "3b1c8c1b",
   "metadata": {},
   "outputs": [],
   "source": [
    "taxes = pd.DataFrame({\n",
    "    \"node\": \"Cameroon\",\n",
    "    \"type_emission\": \"CO2\",\n",
    "    \"type_year\": [2020,2030,2040,2050,2060,2070],\n",
    "    \"type_tec\": \"all\",\n",
    "    \"value\": np.array([30.,30.,30., 30.,30.,40.]),\n",
    "    \"unit\": 'USD/tCO2', \n",
    "})\n",
    "\n",
    "scenario1.add_par('tax_emission', taxes)"
   ]
  },
  {
   "cell_type": "code",
   "execution_count": null,
   "id": "31c934ef",
   "metadata": {},
   "outputs": [],
   "source": [
    "scenario1.commit(\"added cumulative CO2 emission constraint\")\n",
    "scenario1.solve()"
   ]
  },
  {
   "cell_type": "code",
   "execution_count": null,
   "id": "aa5e8877",
   "metadata": {},
   "outputs": [],
   "source": [
    "scenario1.var('OBJ')"
   ]
  },
  {
   "cell_type": "markdown",
   "id": "3c9abe99",
   "metadata": {},
   "source": [
    "# Scenario 2: Low Biomass Demand in residential +(Emission Constraints)"
   ]
  },
  {
   "cell_type": "code",
   "execution_count": null,
   "id": "e08dff37",
   "metadata": {},
   "outputs": [],
   "source": [
    "scenario2 = scenario1.clone('Cameroon', 'Low biomass demand',\n",
    "                            'scenario 1 with change in biomass demand and modifed upper bounds',\n",
    "                            keep_solution=False)\n",
    "scenario2.check_out()"
   ]
  },
  {
   "cell_type": "markdown",
   "id": "25cf8754",
   "metadata": {},
   "source": [
    "We first Calculate the energy demand for each segment of the economy"
   ]
  },
  {
   "cell_type": "markdown",
   "id": "167243e8",
   "metadata": {},
   "source": [
    "In this scenario, I assume that the population using primary biofuels will decrease over the years, from 17 million in 2020 to half a million by 2070. This means that, the population needing clean cooking fuels will increase significantly over the years. I assume that the demand for clean cooking fuels will be  met by electricity or LNG in 50:50 proportion. However, compared to primary biomass fuels, electricity is more efficient and there the demand for electricity for cooking will be 3 times lower than biomass and in the case of LNG, the demand will be 2.5 times lower than primary biofuels. The use of biomass is progressively reduced in this scenario which is compensated by the increase in demand for electricity and LNG"
   ]
  },
  {
   "cell_type": "code",
   "execution_count": null,
   "id": "67bcd6b9",
   "metadata": {},
   "outputs": [],
   "source": [
    "#Assumption on the population using primary biomass fuels for cooking\n",
    "pop=np.array([23,24,27.32,30.62,33.16,34.97,36.07])\n",
    "population_bio=np.array([17,17,14,10.4,7,4,0.5]) #population using biomass for cooking decreases over the years\n",
    "bio_cooking=(238470*0.27778)/(8760*23.5) #present day per capita consumption of biomass for cooking\n",
    "bio_cooking_demand=bio_cooking*population_bio #GWa/a of biomass use for cooking\n",
    "pop_clean_cooking=(17/24)*(pop-population_bio) #population needing clean cooking due to the switch from biomass\n",
    "elec_cooking=0.5*pop_clean_cooking*bio_cooking/3 # electricity constitute half of the cooking needs and it is thrice\n",
    "#efficient\n",
    "gas_cooking=0.5*pop_clean_cooking*bio_cooking/2.5 # population using LNG for cooking is half and gas-cooking is 2.5 times \n",
    "#efficient\n",
    "other_thermal=(12438*0.27778)/(8760*23.65)*pop\n",
    "thermal_rc_cooking=bio_cooking_demand+gas_cooking+other_thermal\n",
    "elec_rc_cooking=6803*0.27778/(8760*23.65)*pop+elec_cooking"
   ]
  },
  {
   "cell_type": "code",
   "execution_count": null,
   "id": "9b23289b",
   "metadata": {},
   "outputs": [],
   "source": [
    "data_elec = scenario2.par(\"demand\", filters=dict(commodity=\"rc_spec\"))\n",
    "data_therm =scenario2.par(\"demand\", filters=dict(commodity=\"rc_therm\"))"
   ]
  },
  {
   "cell_type": "code",
   "execution_count": null,
   "id": "2816e83b",
   "metadata": {},
   "outputs": [],
   "source": [
    "data_elec[\"value\"]=elec_rc_cooking\n",
    "data_therm[\"value\"]=thermal_rc_cooking\n",
    "#scenario2.check_out()\n",
    "scenario2.add_par(\"demand\", data_elec)\n",
    "scenario2.add_par(\"demand\", data_therm)"
   ]
  },
  {
   "cell_type": "code",
   "execution_count": null,
   "id": "10cf81ac",
   "metadata": {},
   "outputs": [],
   "source": [
    "bio_cooking_demand"
   ]
  },
  {
   "cell_type": "markdown",
   "id": "c7b80d97",
   "metadata": {},
   "source": [
    "Then we set the limits for biomass_rc in the activity bound low and up. The bound up will be the biomass for bio_cooking_demand"
   ]
  },
  {
   "cell_type": "code",
   "execution_count": null,
   "id": "6beb13a8",
   "metadata": {},
   "outputs": [],
   "source": [
    "bio_up=scenario2.par(\"bound_activity_up\", filters=dict(technology=\"biomass_rc\"))\n",
    "bio_lo=scenario2.par(\"bound_activity_lo\", filters=dict(technology=\"biomass_rc\"))"
   ]
  },
  {
   "cell_type": "code",
   "execution_count": null,
   "id": "e2d10c29",
   "metadata": {},
   "outputs": [],
   "source": [
    "bio_cooking_demand_up=np.delete(bio_cooking_demand,0)"
   ]
  },
  {
   "cell_type": "code",
   "execution_count": null,
   "id": "78b6ce98",
   "metadata": {},
   "outputs": [],
   "source": [
    "bio_up[\"value\"]=bio_cooking_demand_up"
   ]
  },
  {
   "cell_type": "code",
   "execution_count": null,
   "id": "87612fa0",
   "metadata": {},
   "outputs": [],
   "source": [
    "bio_lo[\"value\"]=np.array([0,0,0,0,0,0])"
   ]
  },
  {
   "cell_type": "code",
   "execution_count": null,
   "id": "11132e24",
   "metadata": {},
   "outputs": [],
   "source": [
    "scenario2.add_par(\"bound_activity_up\", bio_up)\n",
    "scenario2.add_par(\"bound_activity_lo\", bio_lo)"
   ]
  },
  {
   "cell_type": "code",
   "execution_count": null,
   "id": "b18dcb3b",
   "metadata": {},
   "outputs": [],
   "source": [
    "scenario2.commit(\"low biomass scenario\")\n",
    "scenario2.solve()"
   ]
  },
  {
   "cell_type": "code",
   "execution_count": null,
   "id": "85b5e0e8",
   "metadata": {},
   "outputs": [],
   "source": [
    "scenario2.var('OBJ')"
   ]
  },
  {
   "cell_type": "markdown",
   "id": "3573cb7e",
   "metadata": {},
   "source": [
    "# Scenario 3: (Low biomass demand in residential + high electrification access in residential/commercial)+ Emission Constraints"
   ]
  },
  {
   "cell_type": "code",
   "execution_count": null,
   "id": "d49eb713",
   "metadata": {},
   "outputs": [],
   "source": [
    "scenario3 = scenario2.clone('Cameroon', 'Low biomass demand + high electrification rates',\n",
    "                            'scenario 2 with high electrification rates',\n",
    "                            keep_solution=False)\n",
    "scenario3.check_out()"
   ]
  },
  {
   "cell_type": "markdown",
   "id": "05e387c7",
   "metadata": {},
   "source": [
    "The assumption in this scenario is that, the electricity demand for residential/commercial is quite low and therefore needs re-adjustment. With a low electricity per capita, I increase this present day by a cumulative growth rate of 5.7% for every 10 years until 2070. The thinking is that, as more people get access to electricity and need for energy services, the consumption per capita will increase significantly."
   ]
  },
  {
   "cell_type": "code",
   "execution_count": null,
   "id": "12854d8c",
   "metadata": {},
   "outputs": [],
   "source": [
    "# Assumption is that, the electricity use per capita increases in this scenario for residential consumption and the access\n",
    "# We assume a 5.7% cumulative annual growth rate in the per capita electricity consumption compared to 2020 values\n",
    "horizon=np.array([2015,2020,2030,2040,2050,2060,2070])\n",
    "elec_per_capita=2.88e-4 #TJ per capita\n",
    "cumul_growth=0.057\n",
    "elec_per_cap_pro=((1+cumul_growth)**(horizon-2015))*elec_per_capita\n",
    "elec_rc=pop*1e6*elec_per_cap_pro*0.27778/8760\n",
    "elec_rc_demand=elec_rc+elec_rc_cooking"
   ]
  },
  {
   "cell_type": "code",
   "execution_count": null,
   "id": "e80d2d3f",
   "metadata": {},
   "outputs": [],
   "source": [
    "data_elec_high_access = scenario3.par(\"demand\", filters=dict(commodity=\"rc_spec\"))\n",
    "data_elec_high_access[\"value\"]=elec_rc_demand"
   ]
  },
  {
   "cell_type": "code",
   "execution_count": null,
   "id": "2e11b1f6",
   "metadata": {},
   "outputs": [],
   "source": [
    "scenario3.add_par(\"demand\", data_elec_high_access)"
   ]
  },
  {
   "cell_type": "code",
   "execution_count": null,
   "id": "49b242f8",
   "metadata": {},
   "outputs": [],
   "source": [
    "scenario3.commit('Low biomass demand + high electrification rates')\n",
    "scenario3.solve()"
   ]
  },
  {
   "cell_type": "code",
   "execution_count": null,
   "id": "407dc0ac",
   "metadata": {},
   "outputs": [],
   "source": [
    "scenario3.var('OBJ')"
   ]
  },
  {
   "cell_type": "markdown",
   "id": "05fddb1f",
   "metadata": {},
   "source": [
    "# Scenario 4: Scenario 3 + high share Renewable Generation"
   ]
  },
  {
   "cell_type": "markdown",
   "id": "2a308fe8",
   "metadata": {},
   "source": [
    "In this scenario, we test the effect of renewable generation on the system. This answers the question of what is the cost of going all renewable.\n",
    "* We limit the bounds for fossil new capacity and increase the bounds for renewable capacity "
   ]
  },
  {
   "cell_type": "code",
   "execution_count": null,
   "id": "b32e140b",
   "metadata": {},
   "outputs": [],
   "source": [
    "scenario4 = scenario3.clone('Cameroon', 'High electri_rates no fossil power plants',\n",
    "                            'scenario 3 with no fossil power plants',\n",
    "                            keep_solution=False)\n",
    "scenario4.check_out()"
   ]
  },
  {
   "cell_type": "code",
   "execution_count": null,
   "id": "60668f98",
   "metadata": {},
   "outputs": [],
   "source": [
    "#limit the bound for new capacity for fossil plants\n",
    "gas_cc_new_cap=np.array([3,2,1.5,0.5,0.1,0.05])\n",
    "foil_pp_new_cap=np.array([3,2,1.5,0.5,0.1,0.05])\n",
    "loil_ppl_new_cap=np.array([3,2,1.5,0.5,0.1,0.05])\n",
    "gas_ct_new_cap=np.array([3,2,1.5,0.5,0.1,0.05])\n",
    "gas_cc_ccs_new_cap=np.array([3,2,1.5,0.5,0.1,0.05])\n",
    "gas_ppl_new_cap=np.array([3,2,1.5,0.5,0.1,0.05])\n",
    "fossil_plant_new=np.concatenate([foil_pp_new_cap,gas_cc_ccs_new_cap,gas_cc_new_cap,\n",
    "                                 gas_ct_new_cap,gas_ppl_new_cap,loil_ppl_new_cap])\n",
    "#increase the bounds for renewable generation\n",
    "hydro_new_cap=np.array([6,6,6,6,6,6])\n",
    "solarpv_new_cap=np.array([6,6,6,6,6,6])\n",
    "solarth_new_cap=np.array([6,6,6,6,6,6])\n",
    "wind_new_cap=np.array([6,6,6,6,6,6])\n",
    "renewable_plant_new=np.concatenate([hydro_new_cap,solarpv_new_cap,solarth_new_cap,wind_new_cap])"
   ]
  },
  {
   "cell_type": "code",
   "execution_count": null,
   "id": "c12bc6bf",
   "metadata": {},
   "outputs": [],
   "source": [
    "fossil_plants = scenario4.par(\"bound_new_capacity_up\", filters=dict(technology=[\"foil_ppl\",\"gas_cc\",\"gas_cc_ccs\",\n",
    "                                                                                \"gas_ct\",\"gas_ppl\",\"loil_ppl\"]))\n",
    "renewable_plants = scenario4.par(\"bound_new_capacity_up\", filters=dict(technology=[\"hydro_ppl\",\"solar_pv_ppl\",\n",
    "                                                                                   \"solar_th_ppl\",\"wind_ppl\"]))"
   ]
  },
  {
   "cell_type": "code",
   "execution_count": null,
   "id": "69f11a39",
   "metadata": {},
   "outputs": [],
   "source": [
    "fossil_plants[\"value\"]=fossil_plant_new\n",
    "renewable_plants[\"value\"]=renewable_plant_new"
   ]
  },
  {
   "cell_type": "code",
   "execution_count": null,
   "id": "79d34f02",
   "metadata": {},
   "outputs": [],
   "source": [
    "scenario4.add_par(\"bound_new_capacity_up\", fossil_plants)\n",
    "scenario4.add_par(\"bound_new_capacity_up\", renewable_plants)"
   ]
  },
  {
   "cell_type": "code",
   "execution_count": null,
   "id": "05f1bba0",
   "metadata": {},
   "outputs": [],
   "source": [
    "scenario4.commit('No fossil power plants')\n",
    "scenario4.solve()"
   ]
  },
  {
   "cell_type": "code",
   "execution_count": null,
   "id": "61239e3a",
   "metadata": {},
   "outputs": [],
   "source": [
    "scenario4.var('OBJ')"
   ]
  },
  {
   "cell_type": "markdown",
   "id": "b673190c",
   "metadata": {},
   "source": [
    "# Scenario 5: Scenario 4 + Strong Learning Curve for Solar PV & Wind"
   ]
  },
  {
   "cell_type": "code",
   "execution_count": null,
   "id": "9432cefa",
   "metadata": {},
   "outputs": [],
   "source": [
    "scenario5 = scenario4.clone('Cameroon', 'Strong learning curve for solar PV and wind',\n",
    "                            'scenario 4 with strong learning curves',\n",
    "                            keep_solution=False)\n",
    "scenario5.check_out()"
   ]
  },
  {
   "cell_type": "code",
   "execution_count": null,
   "id": "5ef9afe8",
   "metadata": {},
   "outputs": [],
   "source": [
    "renewable_cost_inv=scenario5.par(\"inv_cost\", filters=dict(technology=[\"solar_pv_ppl\",\"wind_ppl\"]))"
   ]
  },
  {
   "cell_type": "code",
   "execution_count": null,
   "id": "711d1758",
   "metadata": {},
   "outputs": [],
   "source": [
    "new_cost_pv=np.array([1000,518,334,226,181,181,181]) #see table in raw data for reference\n",
    "new_cost_wind=np.array([1500,1254,1090,1025,981,981,981])# see table in raw data for reference"
   ]
  },
  {
   "cell_type": "code",
   "execution_count": null,
   "id": "e4350f47",
   "metadata": {},
   "outputs": [],
   "source": [
    "renewable_cost_inv[\"value\"]=np.concatenate([new_cost_pv,new_cost_wind])"
   ]
  },
  {
   "cell_type": "code",
   "execution_count": null,
   "id": "7bef3dd6",
   "metadata": {},
   "outputs": [],
   "source": [
    "scenario5.add_par(\"inv_cost\", renewable_cost_inv)"
   ]
  },
  {
   "cell_type": "code",
   "execution_count": null,
   "id": "045d3dd1",
   "metadata": {},
   "outputs": [],
   "source": [
    "scenario5.commit('strong learning curves')\n",
    "scenario5.solve()"
   ]
  },
  {
   "cell_type": "code",
   "execution_count": null,
   "id": "a8762856",
   "metadata": {},
   "outputs": [],
   "source": [
    "scenario5.var('OBJ')"
   ]
  },
  {
   "cell_type": "markdown",
   "id": "a0db5312",
   "metadata": {},
   "source": [
    "# Scenario 6: Scenario 5 + Biodiesel Production"
   ]
  },
  {
   "cell_type": "markdown",
   "id": "92236c77",
   "metadata": {},
   "source": [
    " In this scenario, we include a new technology biodiesel production from primary biomass feedstock. The biodiesel will supply transportation demands"
   ]
  },
  {
   "cell_type": "code",
   "execution_count": null,
   "id": "21fc2060",
   "metadata": {},
   "outputs": [],
   "source": [
    "scenario6 = scenario5.clone('Cameroon', 'Production of biodiesel for transport sector',\n",
    "                            'scenario 5 with biodiesel production',\n",
    "                            keep_solution=False)\n",
    "scenario6.check_out()"
   ]
  },
  {
   "cell_type": "code",
   "execution_count": null,
   "id": "9b2be457",
   "metadata": {},
   "outputs": [],
   "source": [
    "year_df = scenario6.vintage_and_active_years()\n",
    "vintage_years, act_years = year_df['year_vtg'], year_df['year_act']"
   ]
  },
  {
   "cell_type": "code",
   "execution_count": null,
   "id": "e1036169",
   "metadata": {},
   "outputs": [],
   "source": [
    "country=\"Cameroon\"\n",
    "model_horizon = scenario6.set('year')\n",
    "biodiesel_input = {\n",
    "    'node_loc': country,\n",
    "    'year_vtg': vintage_years,\n",
    "    'year_act': act_years,\n",
    "    'mode': 'M1',\n",
    "    'node_origin': country,\n",
    "    'time': 'year',\n",
    "    'time_origin': 'year',\n",
    "}\n",
    "biodiesel_output = {\n",
    "    'node_loc': country,\n",
    "    'year_vtg': vintage_years,\n",
    "    'year_act': act_years,\n",
    "    'mode': 'M1',\n",
    "    'node_dest': country,\n",
    "    'time': 'year',\n",
    "    'time_dest': 'year', \n",
    "    'unit': '-',\n",
    "}\n",
    "biodiesel_capacity_factor = {\n",
    "    'node_loc': country,\n",
    "    'year_vtg': vintage_years,\n",
    "    'year_act': act_years,\n",
    "    'time': 'year',\n",
    "    'unit': '-',\n",
    "}\n",
    "biodiesel_technical_lifetime = {\n",
    "    'node_loc': country,\n",
    "    'year_vtg': model_horizon,\n",
    "    'unit': 'year',\n",
    "}\n",
    "biodiesel_inv_cost = {\n",
    "    'node_loc': country,\n",
    "    'year_vtg': model_horizon,\n",
    "    'unit': 'USD/kW',\n",
    "}\n",
    "biodiesel_fix_cost = {\n",
    "    'node_loc': country,\n",
    "    'year_vtg': vintage_years,\n",
    "    'year_act': act_years,\n",
    "    'unit': 'USD/kW/a',\n",
    "}\n",
    "biodiesel_var_cost = {\n",
    "    'node_loc': country,\n",
    "    'year_vtg': vintage_years,\n",
    "    'year_act': act_years,\n",
    "    'mode': 'M1',\n",
    "    'time': 'year',\n",
    "    'unit': 'USD/kWa',\n",
    "}"
   ]
  },
  {
   "cell_type": "code",
   "execution_count": null,
   "id": "30973533",
   "metadata": {},
   "outputs": [],
   "source": [
    "new_tec=\"biodiesel\"\n",
    "scenario6.add_set(\"technology\",new_tec)\n",
    "diesel_in=make_df(biodiesel_input, technology=new_tec, commodity='biomass',  \n",
    "                  level='final', value=1/0.60, unit='-') # assuming a 13% conversion from biomass to biodiesel\n",
    "scenario6.add_par(\"input\",diesel_in)\n",
    "diesel_out = make_df(biodiesel_output, technology=new_tec, commodity='transport', \n",
    "                   level='useful', value=1.0)\n",
    "scenario6.add_par('output', diesel_out)"
   ]
  },
  {
   "cell_type": "code",
   "execution_count": null,
   "id": "5746f7e3",
   "metadata": {},
   "outputs": [],
   "source": [
    "biodiesel_life = make_df(biodiesel_technical_lifetime, technology=new_tec, value=30)\n",
    "scenario6.add_par('technical_lifetime', biodiesel_life)\n",
    "biodiesel_cap_fac = make_df(biodiesel_capacity_factor, technology=new_tec, value=1)\n",
    "scenario6.add_par('capacity_factor', biodiesel_cap_fac)\n",
    "biodiesel_inv=make_df(biodiesel_inv_cost, technology=new_tec, value=3650)\n",
    "scenario6.add_par('inv_cost', biodiesel_inv)\n",
    "biodiesel_fix=make_df(biodiesel_fix_cost, technology=new_tec, value=43)\n",
    "scenario6.add_par('fix_cost', biodiesel_fix)\n",
    "biodiesel_var=make_df(biodiesel_var_cost, technology=new_tec, value=2)\n",
    "scenario6.add_par('var_cost', biodiesel_var)"
   ]
  },
  {
   "cell_type": "code",
   "execution_count": null,
   "id": "cff76275",
   "metadata": {},
   "outputs": [],
   "source": [
    "scenario6.commit('biodiesel production')\n",
    "scenario6.solve()"
   ]
  },
  {
   "cell_type": "code",
   "execution_count": null,
   "id": "9f4437c2",
   "metadata": {},
   "outputs": [],
   "source": [
    "scenario6.var('OBJ')"
   ]
  },
  {
   "cell_type": "markdown",
   "id": "acfe3554",
   "metadata": {},
   "source": [
    "# Plotting the results"
   ]
  },
  {
   "cell_type": "code",
   "execution_count": null,
   "id": "fd67fc94",
   "metadata": {},
   "outputs": [],
   "source": [
    "#In this sections, the results from the six scenarios are plotted together for comparative analysis."
   ]
  },
  {
   "cell_type": "markdown",
   "id": "f3fb0f3b",
   "metadata": {},
   "source": [
    "# 1. Demand"
   ]
  },
  {
   "cell_type": "code",
   "execution_count": null,
   "id": "a594ef0c",
   "metadata": {},
   "outputs": [],
   "source": [
    "df1=scenario1.par('demand')\n",
    "df1[\"Scenario\"]=\"baseline \"\n",
    "df2=scenario2.par('demand')\n",
    "df2[\"Scenario\"]=\"Low biomass in rc_therm\"\n",
    "df3=scenario3.par('demand')\n",
    "df3[\"Scenario\"]=\"Scenario2 + high electrification\""
   ]
  },
  {
   "cell_type": "code",
   "execution_count": null,
   "id": "00ede0d7",
   "metadata": {},
   "outputs": [],
   "source": [
    "df=pd.concat([df1,df2,df3])"
   ]
  },
  {
   "cell_type": "code",
   "execution_count": null,
   "id": "85130ba0",
   "metadata": {},
   "outputs": [],
   "source": [
    "df=df[df.year!=2015]"
   ]
  },
  {
   "cell_type": "code",
   "execution_count": null,
   "id": "70b0507b",
   "metadata": {
    "scrolled": true
   },
   "outputs": [],
   "source": [
    "import plotly.express as px\n",
    "fig = px.bar(df, x='year', y='value', color='commodity',facet_col=\"Scenario\")\n",
    "fig.update_layout(\n",
    "    title_text='Energy Demand Across Scenarios',title_x=0.5,\n",
    "    yaxis_title='GWa/a',\n",
    "    font=dict(\n",
    "        size=12,\n",
    "        color=\"black\"\n",
    "    ))\n",
    "fig.update_xaxes( gridcolor='gray',mirror=True)\n",
    "fig.update_yaxes( gridcolor='gray',mirror=True)\n",
    "fig.show()"
   ]
  },
  {
   "cell_type": "markdown",
   "id": "46a3df3d",
   "metadata": {},
   "source": [
    "In Figure above, scenario 3,4,5 and 6 all have constant energy demand, so the last figure applies to both these scenarios"
   ]
  },
  {
   "cell_type": "markdown",
   "id": "52b0471e",
   "metadata": {},
   "source": [
    "# 2. Cost_Nodal"
   ]
  },
  {
   "cell_type": "code",
   "execution_count": null,
   "id": "53bf56ce",
   "metadata": {},
   "outputs": [],
   "source": [
    "df1_cost=pd.DataFrame([scenario1.var('OBJ')])\n",
    "df1_cost[\"Scenario\"]=\"baseline\"\n",
    "df2_cost= pd.DataFrame([scenario2.var('OBJ')])\n",
    "df2_cost[\"Scenario\"]=\"Low biomass in rc\"\n",
    "df3_cost=pd.DataFrame([scenario3.var('OBJ')])\n",
    "df3_cost[\"Scenario\"]=\"Sc.3=Sc.2 + high elect.\"\n",
    "df4_cost=pd.DataFrame([scenario4.var('OBJ')])\n",
    "df4_cost[\"Scenario\"]=\"Sc.4=Sc.3 + HRES\"\n",
    "df5_cost=pd.DataFrame([scenario5.var('OBJ')])\n",
    "df5_cost[\"Scenario\"]=\"Sc5=Sc.4 + str. rates PV/wind\"\n",
    "df6_cost=pd.DataFrame([scenario6.var('OBJ')])\n",
    "df6_cost[\"Scenario\"]=\"Sc6=Sc.5 + biodiesel 4 trans.\""
   ]
  },
  {
   "cell_type": "code",
   "execution_count": null,
   "id": "158202db",
   "metadata": {},
   "outputs": [],
   "source": [
    "df_cost=pd.concat([df1_cost,df2_cost,df3_cost,df4_cost,df5_cost,df6_cost])\n",
    "df_cost.to_excel(\"cost.xlsx\")"
   ]
  },
  {
   "cell_type": "code",
   "execution_count": null,
   "id": "539f5cce",
   "metadata": {},
   "outputs": [],
   "source": [
    "fig1 = px.bar(df_cost, x='Scenario', y='lvl',color_discrete_sequence=[\"grey\"])\n",
    "fig1.update_layout(\n",
    "    title_text='Total System Cost in million $',title_x=0.5,\n",
    "    font=dict(\n",
    "        size=12,\n",
    "        color=\"black\"\n",
    "    ),yaxis_title=\"Cost in MUSD\")\n",
    "fig1.update_xaxes( gridcolor='gray',mirror=False)\n",
    "fig1.update_yaxes( gridcolor='gray',mirror=False, )\n",
    "fig1.show()"
   ]
  },
  {
   "cell_type": "markdown",
   "id": "98d5724e",
   "metadata": {},
   "source": [
    "# 3. PRICE COMMODITY"
   ]
  },
  {
   "cell_type": "code",
   "execution_count": null,
   "id": "c57d9a1c",
   "metadata": {},
   "outputs": [],
   "source": [
    "df1_price=scenario1.var(\"PRICE_COMMODITY\")\n",
    "df1_price[\"Scenario\"]=\"baseline (sc1)\"\n",
    "df2_price=scenario2.var(\"PRICE_COMMODITY\")\n",
    "df2_price[\"Scenario\"]=\"Low biomass in rc (sc2)\"\n",
    "df3_price=scenario3.var(\"PRICE_COMMODITY\")\n",
    "df3_price[\"Scenario\"]=\"sc2 + high elect(sc3)\"\n",
    "df4_price=scenario4.var(\"PRICE_COMMODITY\")\n",
    "df4_price[\"Scenario\"]=\"sc3+HRES(sc4)\"\n",
    "df5_price=scenario5.var(\"PRICE_COMMODITY\")\n",
    "df5_price[\"Scenario\"]=\"sc4+str.rates PV/wind (sc5)\"\n",
    "df6_price=scenario6.var(\"PRICE_COMMODITY\")\n",
    "df6_price[\"Scenario\"]=\"sc5+biodiesel trans\"\n",
    "df_price=pd.concat([df1_price,df2_price,df3_price,df4_price,df5_price,df6_price])"
   ]
  },
  {
   "cell_type": "code",
   "execution_count": null,
   "id": "9284bf79",
   "metadata": {},
   "outputs": [],
   "source": [
    "df_price[\"lvl\"]=df_price[\"lvl\"].apply(lambda x:x/100)"
   ]
  },
  {
   "cell_type": "code",
   "execution_count": null,
   "id": "c58089b2",
   "metadata": {
    "scrolled": true
   },
   "outputs": [],
   "source": [
    "fig_price = px.bar(df_price, x='year', y='lvl',barmode=\"group\",color=\"commodity\",facet_col=\"Scenario\",facet_col_wrap=3)\n",
    "fig_price.update_layout(\n",
    "    title_text='Price in $ cents/kWh',title_x=0.5,\n",
    "    font=dict(\n",
    "        size=12,\n",
    "        color=\"black\"\n",
    "    ))\n",
    "fig_price.update_xaxes( gridcolor='gray',mirror=False)\n",
    "fig_price.update_yaxes( gridcolor='gray',mirror=False)\n",
    "fig_price.show()"
   ]
  },
  {
   "cell_type": "markdown",
   "id": "bb0b900b",
   "metadata": {},
   "source": [
    "# 4. EMISSIONS"
   ]
  },
  {
   "cell_type": "code",
   "execution_count": null,
   "id": "23b95eb8",
   "metadata": {
    "scrolled": true
   },
   "outputs": [],
   "source": [
    "df1_emiss=scenario1.var(\"EMISS\")\n",
    "df1_emiss[\"scenario\"]=\"baseline (sc1)\"\n",
    "df2_emiss=scenario2.var(\"EMISS\")\n",
    "df2_emiss[\"scenario\"]=\"Low biomass in rc (sc2)\"\n",
    "df3_emiss=scenario3.var(\"EMISS\")\n",
    "df3_emiss[\"scenario\"]=\"sc2 + high elect(sc3)\"\n",
    "df4_emiss=scenario4.var(\"EMISS\")\n",
    "df4_emiss[\"scenario\"]=\"sc3+HRES(sc4)\"\n",
    "df5_emiss=scenario5.var(\"EMISS\")\n",
    "df5_emiss[\"scenario\"]=\"sc4+str.rates PV/wind (sc5)\"\n",
    "df6_emiss=scenario6.var(\"EMISS\")\n",
    "df6_emiss[\"scenario\"]=\"sc5+biodiesel trans\"\n",
    "df_emiss_total=pd.concat([df1_emiss,df2_emiss,df3_emiss,df4_emiss,df5_emiss,df6_emiss])"
   ]
  },
  {
   "cell_type": "code",
   "execution_count": null,
   "id": "5a81064d",
   "metadata": {},
   "outputs": [],
   "source": [
    "df_emiss_total=df_emiss_total[df_emiss_total.node!=\"World\"]"
   ]
  },
  {
   "cell_type": "code",
   "execution_count": null,
   "id": "e1a794ab",
   "metadata": {
    "scrolled": true
   },
   "outputs": [],
   "source": [
    "fig_emiss_total = px.line(df_emiss_total, x='year', y='lvl',color=\"emission\",facet_col=\"scenario\",facet_col_wrap=3)\n",
    "fig_emiss_total.update_layout(\n",
    "    title_text='CO2 and CH4 Emissions Mt',title_x=0.5,\n",
    "    font=dict(\n",
    "        size=12,\n",
    "        color=\"black\"\n",
    "    ))\n",
    "fig_emiss_total.show()"
   ]
  },
  {
   "cell_type": "markdown",
   "id": "ee7f97df",
   "metadata": {},
   "source": [
    "# 5. ACTIVITY"
   ]
  },
  {
   "cell_type": "code",
   "execution_count": null,
   "id": "92bdf198",
   "metadata": {},
   "outputs": [],
   "source": [
    "df1_act=scenario1.var(\"ACT\")\n",
    "df1_act[\"scenario\"]=\"baseline (sc1)\"\n",
    "df2_act=scenario2.var(\"ACT\")\n",
    "df2_act[\"scenario\"]=\"Low biomass in rc (sc2)\"\n",
    "df3_act=scenario3.var(\"ACT\")\n",
    "df3_act[\"scenario\"]=\"sc2 + high elect(sc3)\"\n",
    "df4_act=scenario4.var(\"ACT\")\n",
    "df4_act[\"scenario\"]=\"sc3+HRES(sc4)\"\n",
    "df5_act=scenario5.var(\"ACT\")\n",
    "df5_act[\"scenario\"]=\"sc4+str.rates PV/wind (sc5)\"\n",
    "df6_act=scenario6.var(\"ACT\")\n",
    "df6_act[\"scenario\"]=\"sc5+biodiesel trans\"\n",
    "df_act_total=pd.concat([df1_act,df2_act,df3_act,df4_act,df5_act,df6_act])"
   ]
  },
  {
   "cell_type": "code",
   "execution_count": null,
   "id": "427a3ac5",
   "metadata": {},
   "outputs": [],
   "source": [
    "df_act_total=df_act_total[df_act_total.lvl!=0]\n",
    "df_act_total_sorted=(df_act_total.groupby([\"year_act\",\"technology\",\"scenario\"], sort=False)['lvl'].sum()).to_frame().reset_index()"
   ]
  },
  {
   "cell_type": "code",
   "execution_count": null,
   "id": "cfacd825",
   "metadata": {},
   "outputs": [],
   "source": [
    "df_act_total_sorted\n",
    "df_act_total_sorted.to_excel(\"activity.xlsx\")"
   ]
  },
  {
   "cell_type": "code",
   "execution_count": null,
   "id": "a6cc3a91",
   "metadata": {
    "scrolled": false
   },
   "outputs": [],
   "source": [
    "fig_act = px.bar(df_act_total_sorted, x='year_act', y='lvl', color='technology',facet_col=\"scenario\",facet_col_wrap=3)\n",
    "fig_act.update_layout(\n",
    "    title_text='Cameroon Energy System Activity GWa/a',title_x=0.5,\n",
    "    font=dict(\n",
    "        size=12,\n",
    "        color=\"black\"\n",
    "    ))\n",
    "fig_act.show()"
   ]
  },
  {
   "cell_type": "markdown",
   "id": "acd0d1f7",
   "metadata": {},
   "source": [
    "Figure above not very comprehensive due to many technologies, for presentation purposes, a few technologies will be selected"
   ]
  },
  {
   "cell_type": "code",
   "execution_count": null,
   "id": "9280cb1b",
   "metadata": {},
   "outputs": [],
   "source": [
    "df_act_selected=df_act_total.loc[df_act_total['technology'].isin([\"foil_ppl\", \"gas_cc\", \"gas_cc_ccs\",\"gas_ct\",\n",
    "                                                                 \"gas_ppl\",\"hydro_ppl\",\"loil_ppl\",\"solar_pv_ppl\",\n",
    "                                                                 \"solar_th_ppl\",\"wind_ppl\",\"biodiesel\",\"bio_istig\"])]"
   ]
  },
  {
   "cell_type": "code",
   "execution_count": null,
   "id": "94f486bf",
   "metadata": {},
   "outputs": [],
   "source": [
    "df_act_selected_sorted=(df_act_selected.groupby([\"year_act\",\"technology\",\"scenario\"], sort=False)['lvl'].sum()).to_frame().reset_index()"
   ]
  },
  {
   "cell_type": "code",
   "execution_count": null,
   "id": "db1b36bd",
   "metadata": {
    "scrolled": true
   },
   "outputs": [],
   "source": [
    "fig_act_selected_sorted = px.bar(df_act_selected_sorted, x='year_act', y='lvl', color='technology',\n",
    "                                 facet_col=\"scenario\",facet_col_wrap=3, \n",
    "                                 color_discrete_sequence=[\"grey\", \"black\", \"palegreen\", \n",
    "                                                          \"yellow\", \"blue\",\"brown\",\"cyan\",\"magenta\",\"purple\",\"red\",\"green\"])\n",
    "fig_act_selected_sorted.update_layout(\n",
    "    title_text='Cameroon Power Sector Activity (includes biodiesel for transport) GWa/a',title_x=0.5,\n",
    "    font=dict(\n",
    "        size=12,\n",
    "        color=\"black\"\n",
    "    ))\n",
    "fig_act_selected_sorted.show()"
   ]
  },
  {
   "cell_type": "markdown",
   "id": "3fa026c5",
   "metadata": {},
   "source": [
    "                                           Activity of power generating plants in GWa/a"
   ]
  },
  {
   "cell_type": "markdown",
   "id": "96a38a6c",
   "metadata": {},
   "source": [
    "# 6. CAPACITY"
   ]
  },
  {
   "cell_type": "code",
   "execution_count": null,
   "id": "abb371a3",
   "metadata": {},
   "outputs": [],
   "source": [
    "df1_cap=scenario1.var(\"CAP\")\n",
    "df1_cap[\"scenario\"]=\"baseline (sc1)\"\n",
    "df2_cap=scenario2.var(\"CAP\")\n",
    "df2_cap[\"scenario\"]=\"Low biomass in rc (sc2)\"\n",
    "df3_cap=scenario3.var(\"CAP\")\n",
    "df3_cap[\"scenario\"]=\"sc2 + high elect(sc3)\"\n",
    "df4_cap=scenario4.var(\"CAP\")\n",
    "df4_cap[\"scenario\"]=\"sc3+HRES(sc4)\"\n",
    "df5_cap=scenario5.var(\"CAP\")\n",
    "df5_cap[\"scenario\"]=\"sc4+str.rates PV/wind (sc5)\"\n",
    "df6_cap=scenario6.var(\"CAP\")\n",
    "df6_cap[\"scenario\"]=\"sc5+biodiesel trans\"\n",
    "df_cap_total=pd.concat([df1_cap,df2_cap,df3_cap,df4_cap,df5_cap,df6_cap])"
   ]
  },
  {
   "cell_type": "code",
   "execution_count": null,
   "id": "388710a2",
   "metadata": {},
   "outputs": [],
   "source": [
    "df_cap_total=df_cap_total[df_cap_total.lvl!=0]\n",
    "df_cap_total_sorted=(df_cap_total.groupby([\"year_act\",\"technology\",\"scenario\"], sort=False)['lvl'].sum()).to_frame().reset_index()\n",
    "fig_cap = px.bar(df_cap_total_sorted, x='year_act', y='lvl', color='technology',facet_col=\"scenario\",facet_col_wrap=3)\n",
    "fig_cap.show()"
   ]
  },
  {
   "cell_type": "code",
   "execution_count": null,
   "id": "67d98e93",
   "metadata": {},
   "outputs": [],
   "source": [
    "df_cap_selected=df_cap_total.loc[df_cap_total['technology'].isin([\"foil_ppl\", \"gas_cc\", \"gas_cc_ccs\",\"gas_ct\",\n",
    "                                                                 \"gas_ppl\",\"hydro_ppl\",\"loil_ppl\",\"solar_pv_ppl\",\n",
    "                                                                 \"solar_th_ppl\",\"wind_ppl\",\"biodiesel\",\"bio_istig\"])]"
   ]
  },
  {
   "cell_type": "code",
   "execution_count": null,
   "id": "19fe9785",
   "metadata": {},
   "outputs": [],
   "source": [
    "df_cap_selected_sorted=(df_cap_selected.groupby([\"year_act\",\"technology\",\"scenario\"], sort=False)['lvl'].sum()).to_frame().reset_index()"
   ]
  },
  {
   "cell_type": "code",
   "execution_count": null,
   "id": "6e8a316e",
   "metadata": {},
   "outputs": [],
   "source": [
    "fig_cap_selected_sorted = px.bar(df_cap_selected_sorted, x='year_act', y='lvl', color='technology',facet_col=\"scenario\",\n",
    "                                 facet_col_wrap=3, color_discrete_sequence=[\"grey\", \"black\", \"palegreen\", \n",
    "                                                          \"yellow\", \"blue\",\"brown\",\"cyan\",\"magenta\",\"purple\",\"red\",\"green\"])\n",
    "fig_cap_selected_sorted.update_layout(\n",
    "    title_text='Cameroon Power Sector Capacity GW',title_x=0.5,\n",
    "    font=dict(\n",
    "        size=12,\n",
    "        color=\"black\"\n",
    "    ))\n",
    "\n",
    "fig_cap_selected_sorted.show()"
   ]
  },
  {
   "cell_type": "code",
   "execution_count": null,
   "id": "3942a40f",
   "metadata": {},
   "outputs": [],
   "source": [
    "#mp.close_db()"
   ]
  },
  {
   "cell_type": "code",
   "execution_count": null,
   "id": "a66ac54a",
   "metadata": {},
   "outputs": [],
   "source": []
  }
 ],
 "metadata": {
  "kernelspec": {
   "display_name": "Python [conda env:downgrade] *",
   "language": "python",
   "name": "conda-env-downgrade-py"
  },
  "language_info": {
   "codemirror_mode": {
    "name": "ipython",
    "version": 3
   },
   "file_extension": ".py",
   "mimetype": "text/x-python",
   "name": "python",
   "nbconvert_exporter": "python",
   "pygments_lexer": "ipython3",
   "version": "3.7.12"
  }
 },
 "nbformat": 4,
 "nbformat_minor": 5
}
