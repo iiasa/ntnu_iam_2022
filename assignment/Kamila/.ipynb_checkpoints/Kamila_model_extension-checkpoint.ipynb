{
 "cells": [
  {
   "cell_type": "markdown",
   "id": "73d094d4",
   "metadata": {},
   "source": [
    "# South African model extension - transport sector and behavioral realism\n",
    "\n",
    "This work is an extension of the model MESSAGEix-South Africa; the extension is focused on the transport sector and elements of behavioral realism introduced by McCollum et al (2017). The development of the model is divided into a few stages, which are reflected in the methods and results section of the report. Scenario 1a and 1b modify of the transport sector from one based on energy to one based on passenger-kilometers. Scenario 2 introduces vehicles providing transport capacity, characterized by investment costs and lifetimes. Scenario 3 introduces elements of behavioral realism, by disaggregating the transport demand and adding disutility costs for different types of vehicles. "
   ]
  },
  {
   "cell_type": "markdown",
   "id": "88822eaf",
   "metadata": {},
   "source": [
    "## Model initialization"
   ]
  },
  {
   "cell_type": "code",
   "execution_count": 1,
   "id": "94757f54",
   "metadata": {},
   "outputs": [
    {
     "data": {
      "application/javascript": [
       "if (typeof IPython !== 'undefined') { IPython.OutputArea.prototype._should_scroll = function(lines){ return false; }}"
      ],
      "text/plain": [
       "<IPython.core.display.Javascript object>"
      ]
     },
     "metadata": {},
     "output_type": "display_data"
    }
   ],
   "source": [
    "# load packages\n",
    "import ixmp                    # package for ix modeling platform\n",
    "import message_ix              # package for MESSAGEix model\n",
    "from message_ix.utils import make_df\n",
    "import pandas as pd\n",
    "pd.options.mode.chained_assignment = None"
   ]
  },
  {
   "cell_type": "code",
   "execution_count": 2,
   "id": "d3d92330",
   "metadata": {},
   "outputs": [],
   "source": [
    "# Loading the platform (and getting conected to a local database)\n",
    "mp = ixmp.Platform()"
   ]
  },
  {
   "cell_type": "code",
   "execution_count": 3,
   "id": "1382c82c",
   "metadata": {},
   "outputs": [],
   "source": [
    "# create empty scenario\n",
    "baseline = message_ix.Scenario(mp, model='MESSAGEix South Africa', \n",
    "                               scenario='baseline', version='new')\n",
    "# read South Africa model from Excel (init_items = True is important as this scenario also includes MACRO)\n",
    "baseline.read_excel(\"../../resources/MESSAGEix_South_Africa.xlsx\", add_units=True, commit_steps=False, init_items=True)\n",
    "# solve baseline scenario\n",
    "baseline.solve()"
   ]
  },
  {
   "cell_type": "markdown",
   "id": "9b587216",
   "metadata": {},
   "source": [
    "## Scenario 1a"
   ]
  },
  {
   "cell_type": "code",
   "execution_count": 4,
   "id": "26d209d4",
   "metadata": {},
   "outputs": [],
   "source": [
    "# clone baseline scenario for modification\n",
    "scenario1a = baseline.clone('MESSAGEix South Africa', 'transport demand in Gpkm/a','baseline scenario with different transport demand units',\n",
    "                  keep_solution=False)\n",
    "# check out scenario for editing\n",
    "scenario1a.check_out()"
   ]
  },
  {
   "cell_type": "code",
   "execution_count": 5,
   "id": "43877f25",
   "metadata": {},
   "outputs": [],
   "source": [
    "technologies = ['elec_trp', 'gas_trp', 'foil_trp', 'loil_trp']"
   ]
  },
  {
   "cell_type": "markdown",
   "id": "dd16c32c",
   "metadata": {},
   "source": [
    "### Adjust demand (from GWa/a to Gpkm/a)"
   ]
  },
  {
   "cell_type": "code",
   "execution_count": 6,
   "id": "f38f20d0",
   "metadata": {},
   "outputs": [],
   "source": [
    "# delete transport demand\n",
    "dmn = scenario1a.par(\"demand\")\n",
    "dmn_trp = dmn[dmn[\"commodity\"] == \"transport\"]\n",
    "scenario1a.remove_par(\"demand\",dmn_trp)"
   ]
  },
  {
   "cell_type": "code",
   "execution_count": 7,
   "id": "56e1101a",
   "metadata": {},
   "outputs": [],
   "source": [
    "# add a unit to platform\n",
    "mp.add_unit(\"Gpkm/a\")\n",
    "mp.add_unit(\"Gpkm\")"
   ]
  },
  {
   "cell_type": "code",
   "execution_count": 8,
   "id": "a9f7c13c",
   "metadata": {},
   "outputs": [],
   "source": [
    "# add new demand\n",
    "\n",
    "# read data from another excel file\n",
    "supl_data = pd.read_excel('exog_data.xlsx', sheet_name='Data')\n",
    "supl_data = supl_data.set_index('Year')\n",
    "trp_dmd_exo = supl_data['Passenger transport demand (Gpkm/a)']\n",
    "# add data into a dataframe\n",
    "dmn_trp_new = pd.merge(dmn_trp, trp_dmd_exo, left_on=['year'], right_on=['Year'])\n",
    "dmn_trp_new['value'] = dmn_trp_new['Passenger transport demand (Gpkm/a)']*0.365\n",
    "dmn_trp_new = dmn_trp_new.drop(['Passenger transport demand (Gpkm/a)'], axis=1)\n",
    "dmn_trp_new['unit'] = 'Gpkm/a'\n",
    "# add transport demand into the model\n",
    "scenario1a.add_par(\"demand\",dmn_trp_new)"
   ]
  },
  {
   "cell_type": "markdown",
   "id": "bda3b9f1",
   "metadata": {},
   "source": [
    "### Adjust inputs"
   ]
  },
  {
   "cell_type": "code",
   "execution_count": 9,
   "id": "cec809b7",
   "metadata": {},
   "outputs": [],
   "source": [
    "inputs = scenario1a.par(\"input\")\n",
    "inputs_trp = inputs[inputs[\"technology\"].str.contains(\"trp\") == True]\n",
    "inputs_trp_new = inputs_trp.copy(deep=True)"
   ]
  },
  {
   "cell_type": "code",
   "execution_count": 10,
   "id": "8aeea29e",
   "metadata": {},
   "outputs": [],
   "source": [
    "inputs_trp_new.loc[inputs_trp_new['technology'] == 'elec_trp', 'value'] = 0.0154924983692107 # 0.054998369210698/3\n",
    "inputs_trp_new.loc[inputs_trp_new['technology'] == 'loil_trp', 'value'] = 0.054998369210698 # value for petrol\n",
    "inputs_trp_new.loc[inputs_trp_new['technology'] == 'foil_trp', 'value'] = 0.054998369210698 # value for petrol\n",
    "inputs_trp_new.loc[inputs_trp_new['technology'] == 'gas_trp', 'value'] = 0.054998369210698 # value for petrol"
   ]
  },
  {
   "cell_type": "code",
   "execution_count": 11,
   "id": "a25848a7",
   "metadata": {},
   "outputs": [],
   "source": [
    "scenario1a.remove_par(\"input\",inputs_trp)\n",
    "scenario1a.add_par(\"input\",inputs_trp_new)"
   ]
  },
  {
   "cell_type": "markdown",
   "id": "9cf7745c",
   "metadata": {},
   "source": [
    "### Adjust historical activity"
   ]
  },
  {
   "cell_type": "code",
   "execution_count": 12,
   "id": "7d235c41",
   "metadata": {},
   "outputs": [
    {
     "data": {
      "text/html": [
       "<div>\n",
       "<style scoped>\n",
       "    .dataframe tbody tr th:only-of-type {\n",
       "        vertical-align: middle;\n",
       "    }\n",
       "\n",
       "    .dataframe tbody tr th {\n",
       "        vertical-align: top;\n",
       "    }\n",
       "\n",
       "    .dataframe thead th {\n",
       "        text-align: right;\n",
       "    }\n",
       "</style>\n",
       "<table border=\"1\" class=\"dataframe\">\n",
       "  <thead>\n",
       "    <tr style=\"text-align: right;\">\n",
       "      <th></th>\n",
       "      <th>node_loc</th>\n",
       "      <th>technology</th>\n",
       "      <th>year_act</th>\n",
       "      <th>mode</th>\n",
       "      <th>time</th>\n",
       "      <th>value</th>\n",
       "      <th>unit</th>\n",
       "    </tr>\n",
       "  </thead>\n",
       "  <tbody>\n",
       "    <tr>\n",
       "      <th>52</th>\n",
       "      <td>South Africa</td>\n",
       "      <td>elec_trp</td>\n",
       "      <td>2000</td>\n",
       "      <td>M1</td>\n",
       "      <td>year</td>\n",
       "      <td>31.864158</td>\n",
       "      <td>Gpkm</td>\n",
       "    </tr>\n",
       "    <tr>\n",
       "      <th>53</th>\n",
       "      <td>South Africa</td>\n",
       "      <td>elec_trp</td>\n",
       "      <td>2005</td>\n",
       "      <td>M1</td>\n",
       "      <td>year</td>\n",
       "      <td>32.127981</td>\n",
       "      <td>Gpkm</td>\n",
       "    </tr>\n",
       "    <tr>\n",
       "      <th>54</th>\n",
       "      <td>South Africa</td>\n",
       "      <td>elec_trp</td>\n",
       "      <td>2010</td>\n",
       "      <td>M1</td>\n",
       "      <td>year</td>\n",
       "      <td>6.112123</td>\n",
       "      <td>Gpkm</td>\n",
       "    </tr>\n",
       "    <tr>\n",
       "      <th>76</th>\n",
       "      <td>South Africa</td>\n",
       "      <td>foil_trp</td>\n",
       "      <td>2000</td>\n",
       "      <td>M1</td>\n",
       "      <td>year</td>\n",
       "      <td>204.163137</td>\n",
       "      <td>Gpkm</td>\n",
       "    </tr>\n",
       "    <tr>\n",
       "      <th>77</th>\n",
       "      <td>South Africa</td>\n",
       "      <td>foil_trp</td>\n",
       "      <td>2005</td>\n",
       "      <td>M1</td>\n",
       "      <td>year</td>\n",
       "      <td>248.747082</td>\n",
       "      <td>Gpkm</td>\n",
       "    </tr>\n",
       "    <tr>\n",
       "      <th>78</th>\n",
       "      <td>South Africa</td>\n",
       "      <td>foil_trp</td>\n",
       "      <td>2010</td>\n",
       "      <td>M1</td>\n",
       "      <td>year</td>\n",
       "      <td>317.532251</td>\n",
       "      <td>Gpkm</td>\n",
       "    </tr>\n",
       "    <tr>\n",
       "      <th>111</th>\n",
       "      <td>South Africa</td>\n",
       "      <td>gas_trp</td>\n",
       "      <td>2000</td>\n",
       "      <td>M1</td>\n",
       "      <td>year</td>\n",
       "      <td>0.000000</td>\n",
       "      <td>Gpkm</td>\n",
       "    </tr>\n",
       "    <tr>\n",
       "      <th>112</th>\n",
       "      <td>South Africa</td>\n",
       "      <td>gas_trp</td>\n",
       "      <td>2005</td>\n",
       "      <td>M1</td>\n",
       "      <td>year</td>\n",
       "      <td>0.000000</td>\n",
       "      <td>Gpkm</td>\n",
       "    </tr>\n",
       "    <tr>\n",
       "      <th>113</th>\n",
       "      <td>South Africa</td>\n",
       "      <td>gas_trp</td>\n",
       "      <td>2010</td>\n",
       "      <td>M1</td>\n",
       "      <td>year</td>\n",
       "      <td>0.298152</td>\n",
       "      <td>Gpkm</td>\n",
       "    </tr>\n",
       "    <tr>\n",
       "      <th>139</th>\n",
       "      <td>South Africa</td>\n",
       "      <td>loil_trp</td>\n",
       "      <td>2000</td>\n",
       "      <td>M1</td>\n",
       "      <td>year</td>\n",
       "      <td>0.000000</td>\n",
       "      <td>Gpkm</td>\n",
       "    </tr>\n",
       "    <tr>\n",
       "      <th>140</th>\n",
       "      <td>South Africa</td>\n",
       "      <td>loil_trp</td>\n",
       "      <td>2005</td>\n",
       "      <td>M1</td>\n",
       "      <td>year</td>\n",
       "      <td>0.000000</td>\n",
       "      <td>Gpkm</td>\n",
       "    </tr>\n",
       "    <tr>\n",
       "      <th>141</th>\n",
       "      <td>South Africa</td>\n",
       "      <td>loil_trp</td>\n",
       "      <td>2010</td>\n",
       "      <td>M1</td>\n",
       "      <td>year</td>\n",
       "      <td>0.000000</td>\n",
       "      <td>Gpkm</td>\n",
       "    </tr>\n",
       "  </tbody>\n",
       "</table>\n",
       "</div>"
      ],
      "text/plain": [
       "         node_loc technology  year_act mode  time       value  unit\n",
       "52   South Africa   elec_trp      2000   M1  year   31.864158  Gpkm\n",
       "53   South Africa   elec_trp      2005   M1  year   32.127981  Gpkm\n",
       "54   South Africa   elec_trp      2010   M1  year    6.112123  Gpkm\n",
       "76   South Africa   foil_trp      2000   M1  year  204.163137  Gpkm\n",
       "77   South Africa   foil_trp      2005   M1  year  248.747082  Gpkm\n",
       "78   South Africa   foil_trp      2010   M1  year  317.532251  Gpkm\n",
       "111  South Africa    gas_trp      2000   M1  year    0.000000  Gpkm\n",
       "112  South Africa    gas_trp      2005   M1  year    0.000000  Gpkm\n",
       "113  South Africa    gas_trp      2010   M1  year    0.298152  Gpkm\n",
       "139  South Africa   loil_trp      2000   M1  year    0.000000  Gpkm\n",
       "140  South Africa   loil_trp      2005   M1  year    0.000000  Gpkm\n",
       "141  South Africa   loil_trp      2010   M1  year    0.000000  Gpkm"
      ]
     },
     "execution_count": 12,
     "metadata": {},
     "output_type": "execute_result"
    }
   ],
   "source": [
    "# change historical activity\n",
    "hist_act = scenario1a.par(\"historical_activity\")\n",
    "hist_act_trp = hist_act[hist_act[\"technology\"].str.contains(\"trp\") == True]\n",
    "hist_act_trp_new = hist_act_trp.copy(deep=True)\n",
    "trp_dmd_exo = trp_dmd_exo.reset_index()\n",
    "for year in [2000, 2005, 2010]:\n",
    "    hist_act_trp_yr = hist_act_trp[hist_act_trp['year_act'] == year]\n",
    "    old_total = hist_act_trp_yr['value'].sum()\n",
    "    new_total = trp_dmd_exo[trp_dmd_exo['Year'] == year]['Passenger transport demand (Gpkm/a)'].item()\n",
    "    hist_act_trp_new.loc[hist_act_trp_new['year_act'] == year,'value'] = hist_act_trp['value']/old_total*new_total \n",
    "hist_act_trp_new['unit'] = 'Gpkm'\n",
    "hist_act_trp_new"
   ]
  },
  {
   "cell_type": "code",
   "execution_count": 13,
   "id": "d03b1f25",
   "metadata": {},
   "outputs": [],
   "source": [
    "scenario1a.remove_par(\"historical_activity\",hist_act_trp)\n",
    "scenario1a.add_par(\"historical_activity\",hist_act_trp_new)"
   ]
  },
  {
   "cell_type": "markdown",
   "id": "29ce249c",
   "metadata": {},
   "source": [
    "### Adjust activity bounds (high and low)"
   ]
  },
  {
   "cell_type": "code",
   "execution_count": 14,
   "id": "78970dfd",
   "metadata": {},
   "outputs": [],
   "source": [
    "b_act_lo = scenario1a.par(\"bound_activity_lo\")\n",
    "b_act_lo_trp = b_act_lo[b_act_lo[\"technology\"].str.contains(\"trp\") == True]\n",
    "b_act_up = scenario1a.par(\"bound_activity_up\")\n",
    "b_act_up_trp = b_act_up[b_act_up[\"technology\"].str.contains(\"trp\") == True]\n",
    "b_act_up_trp_new = b_act_up_trp.copy(deep=True)\n",
    "b_act_lo_trp_new = b_act_lo_trp.copy(deep=True)\n",
    "value_new = dmn_trp_new[dmn_trp_new['year'] == 2020]['value'].item()\n",
    "value_old = dmn_trp[dmn_trp['year'] == 2020]['value'].item()\n",
    "b_act_lo_trp_new['value'] = b_act_lo_trp_new['value']*value_new/value_old\n",
    "b_act_up_trp_new['value'] = b_act_up_trp_new['value']*value_new/value_old\n",
    "b_act_lo_trp_new['unit'] = 'Gpkm/a'\n",
    "b_act_up_trp_new['unit'] = 'Gpkm/a'"
   ]
  },
  {
   "cell_type": "code",
   "execution_count": 15,
   "id": "7154cc9a",
   "metadata": {},
   "outputs": [],
   "source": [
    "scenario1a.remove_par(\"bound_activity_lo\",b_act_lo_trp)\n",
    "scenario1a.remove_par(\"bound_activity_up\",b_act_up_trp)\n",
    "scenario1a.add_par(\"bound_activity_lo\",b_act_lo_trp_new)\n",
    "scenario1a.add_par(\"bound_activity_up\",b_act_up_trp_new)"
   ]
  },
  {
   "cell_type": "markdown",
   "id": "4138371c",
   "metadata": {},
   "source": [
    "### Adjust initial activity up constraint"
   ]
  },
  {
   "cell_type": "code",
   "execution_count": 16,
   "id": "ba7313f3",
   "metadata": {},
   "outputs": [],
   "source": [
    "ini_act_up = scenario1a.par(\"initial_activity_up\")\n",
    "ini_act_up_trp = ini_act_up[ini_act_up[\"technology\"].str.contains(\"trp\") == True]\n",
    "ini_act_up_trp_new = ini_act_up_trp.copy(deep=True)\n",
    "ini_act_up_trp_new['value'] = ini_act_up_trp_new['value']*value_new/value_old"
   ]
  },
  {
   "cell_type": "code",
   "execution_count": 17,
   "id": "eb0b4c23",
   "metadata": {},
   "outputs": [],
   "source": [
    "scenario1a.remove_par(\"initial_activity_up\",ini_act_up_trp)\n",
    "scenario1a.add_par(\"initial_activity_up\",ini_act_up_trp_new)"
   ]
  },
  {
   "cell_type": "markdown",
   "id": "decb3018",
   "metadata": {},
   "source": [
    "### Commit and solve"
   ]
  },
  {
   "cell_type": "code",
   "execution_count": 18,
   "id": "dc47241b",
   "metadata": {},
   "outputs": [],
   "source": [
    "# solve scenario with new demand type\n",
    "scenario1a.commit(\"changed energy-based transport demand to service-based demand (p-km)\")\n",
    "scenario1a.solve()"
   ]
  },
  {
   "cell_type": "markdown",
   "id": "64f6bec0",
   "metadata": {},
   "source": [
    "## Scenario 1b"
   ]
  },
  {
   "cell_type": "code",
   "execution_count": 19,
   "id": "2826676e",
   "metadata": {},
   "outputs": [],
   "source": [
    "# clone scenario1a scenario for modification\n",
    "scenario1b = scenario1a.clone('MESSAGEix South Africa', 'transport demand in Gpkm/a and fixed commodities','transport demand in Gpkm/a and fixed commodities',\n",
    "                  keep_solution=False)\n",
    "# check out scenario for editing\n",
    "scenario1b.check_out()"
   ]
  },
  {
   "cell_type": "markdown",
   "id": "036a4486",
   "metadata": {},
   "source": [
    "### Change historical activity to loil"
   ]
  },
  {
   "cell_type": "code",
   "execution_count": 20,
   "id": "502cad87",
   "metadata": {},
   "outputs": [],
   "source": [
    "hist_act = scenario1b.par(\"historical_activity\")\n",
    "hist_act_trp = hist_act[hist_act[\"technology\"].str.contains(\"trp\") == True]\n",
    "hist_act_trp_loil = hist_act[hist_act[\"technology\"] == 'loil_trp']"
   ]
  },
  {
   "cell_type": "code",
   "execution_count": 21,
   "id": "2ea6a849",
   "metadata": {},
   "outputs": [
    {
     "data": {
      "text/html": [
       "<div>\n",
       "<style scoped>\n",
       "    .dataframe tbody tr th:only-of-type {\n",
       "        vertical-align: middle;\n",
       "    }\n",
       "\n",
       "    .dataframe tbody tr th {\n",
       "        vertical-align: top;\n",
       "    }\n",
       "\n",
       "    .dataframe thead th {\n",
       "        text-align: right;\n",
       "    }\n",
       "</style>\n",
       "<table border=\"1\" class=\"dataframe\">\n",
       "  <thead>\n",
       "    <tr style=\"text-align: right;\">\n",
       "      <th></th>\n",
       "      <th>node_loc</th>\n",
       "      <th>technology</th>\n",
       "      <th>year_act</th>\n",
       "      <th>mode</th>\n",
       "      <th>time</th>\n",
       "      <th>value</th>\n",
       "      <th>unit</th>\n",
       "    </tr>\n",
       "  </thead>\n",
       "  <tbody>\n",
       "    <tr>\n",
       "      <th>0</th>\n",
       "      <td>South Africa</td>\n",
       "      <td>loil_trp</td>\n",
       "      <td>2000</td>\n",
       "      <td>M1</td>\n",
       "      <td>year</td>\n",
       "      <td>86.149963</td>\n",
       "      <td>Gpkm</td>\n",
       "    </tr>\n",
       "    <tr>\n",
       "      <th>1</th>\n",
       "      <td>South Africa</td>\n",
       "      <td>loil_trp</td>\n",
       "      <td>2005</td>\n",
       "      <td>M1</td>\n",
       "      <td>year</td>\n",
       "      <td>102.519398</td>\n",
       "      <td>Gpkm</td>\n",
       "    </tr>\n",
       "    <tr>\n",
       "      <th>2</th>\n",
       "      <td>South Africa</td>\n",
       "      <td>loil_trp</td>\n",
       "      <td>2010</td>\n",
       "      <td>M1</td>\n",
       "      <td>year</td>\n",
       "      <td>118.239022</td>\n",
       "      <td>Gpkm</td>\n",
       "    </tr>\n",
       "  </tbody>\n",
       "</table>\n",
       "</div>"
      ],
      "text/plain": [
       "       node_loc technology  year_act mode  time       value  unit\n",
       "0  South Africa   loil_trp      2000   M1  year   86.149963  Gpkm\n",
       "1  South Africa   loil_trp      2005   M1  year  102.519398  Gpkm\n",
       "2  South Africa   loil_trp      2010   M1  year  118.239022  Gpkm"
      ]
     },
     "execution_count": 21,
     "metadata": {},
     "output_type": "execute_result"
    }
   ],
   "source": [
    "trp_dmd_exo = supl_data['Passenger transport demand (Gpkm/a)']\n",
    "hist_act_trp_loil_new = pd.merge(hist_act_trp_loil, trp_dmd_exo, left_on=['year_act'], right_on=['Year'])\n",
    "hist_act_trp_loil_new['value'] = hist_act_trp_loil_new['Passenger transport demand (Gpkm/a)']*0.365\n",
    "hist_act_trp_loil_new = hist_act_trp_loil_new.drop(['Passenger transport demand (Gpkm/a)'], axis=1)\n",
    "hist_act_trp_loil_new"
   ]
  },
  {
   "cell_type": "code",
   "execution_count": 22,
   "id": "98b03cec",
   "metadata": {},
   "outputs": [],
   "source": [
    "scenario1b.remove_par(\"historical_activity\",hist_act_trp)\n",
    "scenario1b.add_par(\"historical_activity\",hist_act_trp_loil_new)"
   ]
  },
  {
   "cell_type": "markdown",
   "id": "c1ba15d5",
   "metadata": {},
   "source": [
    "### Change activity bounds (high and low)"
   ]
  },
  {
   "cell_type": "code",
   "execution_count": 23,
   "id": "7b1420ba",
   "metadata": {},
   "outputs": [],
   "source": [
    "b_act_lo = scenario1a.par(\"bound_activity_lo\")\n",
    "b_act_lo_trp = b_act_lo[b_act_lo[\"technology\"].str.contains(\"trp\") == True]\n",
    "b_act_up = scenario1a.par(\"bound_activity_up\")\n",
    "b_act_up_trp = b_act_up[b_act_up[\"technology\"].str.contains(\"trp\") == True]"
   ]
  },
  {
   "cell_type": "code",
   "execution_count": 24,
   "id": "6634d86a",
   "metadata": {},
   "outputs": [
    {
     "name": "stdout",
     "output_type": "stream",
     "text": [
      "        node_loc technology  year_act mode  time     value    unit\n",
      "36  South Africa   elec_trp      2020   M1  year  2.328405  Gpkm/a\n",
      "        node_loc technology  year_act mode  time      value    unit\n",
      "60  South Africa   elec_trp      2020   M1  year  23.284052  Gpkm/a\n"
     ]
    }
   ],
   "source": [
    "b_act_up_trp_new = b_act_up_trp[b_act_up_trp[\"technology\"] == 'elec_trp'] # we disregard bounds on foil\n",
    "b_act_lo_trp_new = b_act_lo_trp[b_act_lo_trp[\"technology\"] == 'elec_trp']\n",
    "b_act_up_trp_new['value'] = b_act_up_trp_new['value']*10 # increase the upper bound of electric cars by 10 times\n",
    "b_act_lo_trp_new['unit'] = 'Gpkm/a'\n",
    "b_act_up_trp_new['unit'] = 'Gpkm/a'\n",
    "print(b_act_lo_trp_new)\n",
    "print(b_act_up_trp_new)"
   ]
  },
  {
   "cell_type": "code",
   "execution_count": 25,
   "id": "4b912956",
   "metadata": {},
   "outputs": [],
   "source": [
    "scenario1b.remove_par(\"bound_activity_lo\",b_act_lo_trp)\n",
    "scenario1b.remove_par(\"bound_activity_up\",b_act_up_trp)\n",
    "scenario1b.add_par(\"bound_activity_lo\",b_act_lo_trp_new)\n",
    "scenario1b.add_par(\"bound_activity_up\",b_act_up_trp_new)"
   ]
  },
  {
   "cell_type": "markdown",
   "id": "1fbd2dc6",
   "metadata": {},
   "source": [
    "### Delete foil inputs and outputs to transport"
   ]
  },
  {
   "cell_type": "code",
   "execution_count": 26,
   "id": "439c2d28",
   "metadata": {},
   "outputs": [],
   "source": [
    "inputs = scenario1b.par(\"input\")\n",
    "inputs_trp_foil = inputs[inputs[\"technology\"] == 'foil_trp']\n",
    "scenario1b.remove_par(\"input\",inputs_trp_foil)"
   ]
  },
  {
   "cell_type": "code",
   "execution_count": 27,
   "id": "6ba4208a",
   "metadata": {},
   "outputs": [],
   "source": [
    "outputs = scenario1b.par(\"output\")\n",
    "outputs_trp_foil = outputs[outputs[\"technology\"] == 'foil_trp']\n",
    "scenario1b.remove_par(\"output\",outputs_trp_foil)"
   ]
  },
  {
   "cell_type": "markdown",
   "id": "2a657450",
   "metadata": {},
   "source": [
    "### Commit and solve"
   ]
  },
  {
   "cell_type": "code",
   "execution_count": 28,
   "id": "0a281435",
   "metadata": {},
   "outputs": [],
   "source": [
    "# solve scenario with new demand type\n",
    "scenario1b.commit(\"changed energy-based transport demand to service-based demand (p-km)\")\n",
    "scenario1b.solve()"
   ]
  },
  {
   "cell_type": "markdown",
   "id": "69fb7759",
   "metadata": {},
   "source": [
    "## Scenario 2"
   ]
  },
  {
   "cell_type": "code",
   "execution_count": 29,
   "id": "560d2382",
   "metadata": {},
   "outputs": [],
   "source": [
    "# clone baseline scenario for modification\n",
    "scenario2 = scenario1b.clone('MESSAGEix South Africa', 'vehicle capacity','scenario 1 plus vehicle capacity and lifetimes',\n",
    "                  keep_solution=False)\n",
    "# check out scenario for editing\n",
    "scenario2.check_out()"
   ]
  },
  {
   "cell_type": "markdown",
   "id": "8931b70c",
   "metadata": {},
   "source": [
    "### Add investment cost"
   ]
  },
  {
   "cell_type": "code",
   "execution_count": 30,
   "id": "d51525bb",
   "metadata": {},
   "outputs": [],
   "source": [
    "inv_cost = scenario2.par(\"inv_cost\")\n",
    "inv_cost_new = pd.DataFrame(columns=list(inv_cost.columns.values))\n",
    "mult_elec = [1.00, 0.75, 0.58, 0.49, 0.46, 0.42, 0.39] # solar_pv_ppl\n",
    "mult_gas = [1.00, 0.93, 0.89, 0.88, 0.88, 0.88, 0.88] # gas_ppl\n",
    "mult_loil = [1, 1, 1, 1, 1, 1, 1] \n",
    "base_costs = [164.835, 146.520, 123.626, 123.626]\n",
    "mult = [mult_elec, mult_gas, mult_loil, mult_loil]\n",
    "for i,year_vtg in enumerate([2010,2020,2030,2040,2050,2060,2070]):\n",
    "    for j,t in enumerate(technologies):\n",
    "        mult\n",
    "        base_cost = base_costs[j]*mult[j][i]\n",
    "        dis_cost = 0 # in this scenario we have no disutility costs\n",
    "        inv_cost_new = pd.concat([inv_cost_new, pd.DataFrame({\"node_loc\": [\"South Africa\"], \"technology\": [t], \"year_vtg\": [year_vtg], \"value\": [base_cost+dis_cost], \"unit\": [\"USD/kpkm\"]})], ignore_index=True)"
   ]
  },
  {
   "cell_type": "code",
   "execution_count": 31,
   "id": "f11a0028",
   "metadata": {},
   "outputs": [],
   "source": [
    "inv_cost_new['unit'] = 'USD/kpkm'"
   ]
  },
  {
   "cell_type": "code",
   "execution_count": 32,
   "id": "b322b133",
   "metadata": {},
   "outputs": [],
   "source": [
    "# add a unit to platform\n",
    "mp.add_unit(\"USD/kpkm\")"
   ]
  },
  {
   "cell_type": "code",
   "execution_count": 33,
   "id": "cdb97517",
   "metadata": {},
   "outputs": [],
   "source": [
    "scenario2.add_par(\"inv_cost\",inv_cost_new)"
   ]
  },
  {
   "cell_type": "markdown",
   "id": "6fe17b58",
   "metadata": {},
   "source": [
    "### Add technical lifetime"
   ]
  },
  {
   "cell_type": "code",
   "execution_count": 34,
   "id": "73e826a6",
   "metadata": {},
   "outputs": [],
   "source": [
    "lifetime = scenario2.par(\"technical_lifetime\")\n",
    "lifetime_new = pd.DataFrame(columns=list(lifetime.columns.values))\n",
    "for year_vtg in ([2010,2020,2030,2040,2050,2060,2070]):\n",
    "    for tec in technologies:\n",
    "        lifetime_new = pd.concat([lifetime_new, pd.DataFrame({\"node_loc\": [\"South Africa\"], \"technology\": [tec], \"year_vtg\": [year_vtg], \"value\": [10], \"unit\": [\"year\"]})], ignore_index=True)"
   ]
  },
  {
   "cell_type": "code",
   "execution_count": 35,
   "id": "319db84b",
   "metadata": {},
   "outputs": [],
   "source": [
    "scenario2.add_par(\"technical_lifetime\",lifetime_new)"
   ]
  },
  {
   "cell_type": "markdown",
   "id": "ab66a66f",
   "metadata": {},
   "source": [
    "### Add initial_new_capacity_up"
   ]
  },
  {
   "cell_type": "code",
   "execution_count": 36,
   "id": "80fa4bfd",
   "metadata": {},
   "outputs": [],
   "source": [
    "ini_new_cap_up = scenario2.par(\"initial_new_capacity_up\")\n",
    "ini_new_cap_up_trp = ini_new_cap_up[ini_new_cap_up[\"technology\"].str.contains(\"trp\") == True]\n",
    "ini_new_cap_up_trp_new = ini_new_cap_up_trp.copy(deep=True)\n",
    "ini_new_cap_up_trp_new['value'] = ini_new_cap_up_trp_new['value']*value_new/value_old # 15\n",
    "ini_new_cap_up_trp_new['unit'] = 'Gpkm/a'\n",
    "# print(ini_new_cap_up_trp)\n",
    "# print(ini_new_cap_up_trp_new)"
   ]
  },
  {
   "cell_type": "code",
   "execution_count": 37,
   "id": "f8f3252f",
   "metadata": {},
   "outputs": [],
   "source": [
    "scenario2.remove_par(\"initial_new_capacity_up\",ini_new_cap_up_trp)\n",
    "scenario2.add_par(\"initial_new_capacity_up\",ini_new_cap_up_trp_new)"
   ]
  },
  {
   "cell_type": "markdown",
   "id": "8b67212d",
   "metadata": {},
   "source": [
    "### Add bound_new_capacity_up"
   ]
  },
  {
   "cell_type": "code",
   "execution_count": 38,
   "id": "c1abcab8",
   "metadata": {},
   "outputs": [],
   "source": [
    "# let's skip this for now"
   ]
  },
  {
   "cell_type": "markdown",
   "id": "3ea78bdc",
   "metadata": {},
   "source": [
    "### Add bound_total_capacity_up"
   ]
  },
  {
   "cell_type": "code",
   "execution_count": 39,
   "id": "b2896d8f",
   "metadata": {},
   "outputs": [],
   "source": [
    "# let's skip this for now"
   ]
  },
  {
   "cell_type": "markdown",
   "id": "05d6665a",
   "metadata": {},
   "source": [
    "### Add historical_new_capacity"
   ]
  },
  {
   "cell_type": "code",
   "execution_count": 40,
   "id": "69494b22",
   "metadata": {},
   "outputs": [],
   "source": [
    "hist_new_cap = scenario2.par(\"historical_new_capacity\")\n",
    "hist_new_cap_new = pd.DataFrame(columns=list(hist_new_cap.columns.values))\n",
    "hist_new_cap_new = pd.concat([hist_new_cap_new, pd.DataFrame({\"node_loc\": [\"South Africa\"], \"technology\": ['loil_trp'], \"year_vtg\": [2000], \"value\": [30], \"unit\": [\"Gpkm/a\"]})], ignore_index=True)\n",
    "hist_new_cap_new = pd.concat([hist_new_cap_new, pd.DataFrame({\"node_loc\": [\"South Africa\"], \"technology\": ['loil_trp'], \"year_vtg\": [2010], \"value\": [40], \"unit\": [\"Gpkm/a\"]})], ignore_index=True)\n",
    "# hist_new_cap_new = pd.concat([hist_new_cap_new, pd.DataFrame({\"node_loc\": [\"South Africa\"], \"technology\": ['elec_trp'], \"year_vtg\": [2010], \"value\": [0.5], \"unit\": [\"Gpkm/a\"]})], ignore_index=True)"
   ]
  },
  {
   "cell_type": "code",
   "execution_count": 41,
   "id": "153f8bb7",
   "metadata": {},
   "outputs": [],
   "source": [
    "scenario2.add_par(\"historical_new_capacity\",hist_new_cap_new)"
   ]
  },
  {
   "cell_type": "markdown",
   "id": "b32ebc22",
   "metadata": {},
   "source": [
    "### Commit and solve"
   ]
  },
  {
   "cell_type": "code",
   "execution_count": 42,
   "id": "65c947de",
   "metadata": {},
   "outputs": [],
   "source": [
    "# solve scenario with new demand type\n",
    "scenario2.commit(\"added capacity for transport (vehicle stock)\")\n",
    "scenario2.solve()"
   ]
  },
  {
   "cell_type": "markdown",
   "id": "7f683b52",
   "metadata": {},
   "source": [
    "## Scenario 3"
   ]
  },
  {
   "cell_type": "code",
   "execution_count": 43,
   "id": "be85bbf5",
   "metadata": {},
   "outputs": [],
   "source": [
    "# clone scenario for modification\n",
    "scenario3 = scenario2.clone('MESSAGEix South Africa', 'consumer behavior','scenario 2 plus consumer behavior (3 groups)',\n",
    "                  keep_solution=False)\n",
    "# check out scenario for editing\n",
    "scenario3.check_out()"
   ]
  },
  {
   "cell_type": "markdown",
   "id": "892ffeb7",
   "metadata": {},
   "source": [
    "### Commodity, technology - add new (don't delete old yet!)"
   ]
  },
  {
   "cell_type": "code",
   "execution_count": 44,
   "id": "075d3dd2",
   "metadata": {},
   "outputs": [],
   "source": [
    "# commodity\n",
    "area_suffix = [\"ur\",\"su\",\"ru\"]\n",
    "commodities = ['transport'+'_'+suffix for suffix in area_suffix]\n",
    "scenario3.add_set('commodity', commodities)"
   ]
  },
  {
   "cell_type": "code",
   "execution_count": 45,
   "id": "6a6701b3",
   "metadata": {},
   "outputs": [],
   "source": [
    "# technology\n",
    "scenario3.add_set('technology', [t+'_'+suffix for suffix in area_suffix for t in technologies])"
   ]
  },
  {
   "cell_type": "code",
   "execution_count": 46,
   "id": "8b880864",
   "metadata": {},
   "outputs": [],
   "source": [
    "# mapping_macro_sector\n",
    "index = scenario3.set('mapping_macro_sector').last_valid_index()\n",
    "for i,com in enumerate(commodities):\n",
    "    scenario3.add_set('mapping_macro_sector', pd.DataFrame({'sector': 'transport', 'commodity': com, 'level': 'useful'}, index=[index+i]))"
   ]
  },
  {
   "cell_type": "markdown",
   "id": "093581d0",
   "metadata": {},
   "source": [
    "### Demand - change the values"
   ]
  },
  {
   "cell_type": "code",
   "execution_count": 47,
   "id": "8367e0c3",
   "metadata": {},
   "outputs": [],
   "source": [
    "share_ur = supl_data['Urban population (%)']/100\n",
    "share_ru = 1 - share_ur\n",
    "share_ru = share_ru.rename(\"Share_ru\")\n",
    "share_su = share_ur*0.05\n",
    "share_su = share_su.rename(\"Share_su\")\n",
    "share_ur = share_ur - share_su\n",
    "share_ur = share_ur.rename(\"Share_ur\")\n",
    "area_shares = [share_ur, share_su, share_ru]"
   ]
  },
  {
   "cell_type": "code",
   "execution_count": 48,
   "id": "e852323e",
   "metadata": {},
   "outputs": [],
   "source": [
    "demand = scenario3.par(\"demand\")\n",
    "demand_trp = demand[demand[\"commodity\"] == 'transport']\n",
    "\n",
    "demand_trp_new = pd.DataFrame()\n",
    "for i,suffix in enumerate(area_suffix):\n",
    "    tmp = pd.merge(demand_trp, area_shares[i], left_on=['year'], right_on=['Year'])\n",
    "    share_name = 'Share'+'_'+area_suffix[i]\n",
    "    tmp['value'] = tmp['value']*tmp[share_name]\n",
    "    tmp = tmp.drop([share_name], axis=1)\n",
    "    tmp['commodity'] = tmp['commodity'] + '_'+ suffix\n",
    "    demand_trp_new = pd.concat([demand_trp_new, tmp], ignore_index=True)"
   ]
  },
  {
   "cell_type": "code",
   "execution_count": 49,
   "id": "b9d1a5e7",
   "metadata": {},
   "outputs": [],
   "source": [
    "scenario3.remove_par(\"demand\", demand_trp)\n",
    "scenario3.add_par(\"demand\", demand_trp_new)"
   ]
  },
  {
   "cell_type": "markdown",
   "id": "7f25d12d",
   "metadata": {},
   "source": [
    "### Disaggregate values"
   ]
  },
  {
   "cell_type": "code",
   "execution_count": 50,
   "id": "1ae00cae",
   "metadata": {},
   "outputs": [],
   "source": [
    "# historical_activity, bound_activity_lo, bound_activity_up, initial_activity_up, initial_new_capacity_up"
   ]
  },
  {
   "cell_type": "code",
   "execution_count": 51,
   "id": "672837dd",
   "metadata": {},
   "outputs": [],
   "source": [
    "# function for disaggregating the values according to area_shares (share of people in each consumer group)\n",
    "def scale_by_consumer_type(old_par, area_suffix, area_shares, year_name='year_act', item_name='technology'):\n",
    "    new_par = pd.DataFrame()\n",
    "    for i,suffix in enumerate(area_suffix):\n",
    "        tmp = pd.merge(old_par, area_shares[i], left_on=[year_name], right_on=['Year'])\n",
    "        share_name = 'Share'+'_'+area_suffix[i]\n",
    "        tmp['value'] = tmp['value']*tmp[share_name]\n",
    "        tmp = tmp.drop([share_name], axis=1)\n",
    "        tmp[item_name] = tmp[item_name] + '_'+ suffix\n",
    "        new_par = pd.concat([new_par, tmp], ignore_index=True)\n",
    "    return new_par\n",
    "\n",
    "# function for updating the old parameter\n",
    "def update_disaggregate_parameter(scenario_name, par_name,old_par, area_suffix, area_shares, year_name='year_act', item_name='technology'):\n",
    "    new_par = scale_by_consumer_type(old_par, area_suffix, area_shares, year_name=year_name, item_name=item_name)\n",
    "    scenario_name.add_par(par_name, new_par)\n",
    "    return"
   ]
  },
  {
   "cell_type": "code",
   "execution_count": 52,
   "id": "6d463dda",
   "metadata": {},
   "outputs": [],
   "source": [
    "update_disaggregate_parameter(scenario3, \"historical_activity\",hist_act_trp_loil_new, area_suffix, area_shares)\n",
    "update_disaggregate_parameter(scenario3, \"bound_activity_lo\",b_act_lo_trp_new, area_suffix, area_shares)\n",
    "update_disaggregate_parameter(scenario3, \"bound_activity_up\",b_act_up_trp_new, area_suffix, area_shares)\n",
    "update_disaggregate_parameter(scenario3, \"initial_activity_up\",ini_act_up_trp_new, area_suffix, area_shares)\n",
    "update_disaggregate_parameter(scenario3, \"initial_new_capacity_up\",ini_new_cap_up_trp_new, area_suffix, area_shares, \n",
    "                              year_name='year_vtg')\n",
    "update_disaggregate_parameter(scenario3, \"historical_new_capacity\",hist_new_cap_new, area_suffix, area_shares, \n",
    "                              year_name='year_vtg')\n"
   ]
  },
  {
   "cell_type": "markdown",
   "id": "942c9e4a",
   "metadata": {},
   "source": [
    "### Change names"
   ]
  },
  {
   "cell_type": "code",
   "execution_count": 53,
   "id": "b8d68a84",
   "metadata": {},
   "outputs": [],
   "source": [
    "# var_cost, fix_cost, input, growth_activity_lo, growth_activity_up, capacity_factor, growth_new_capacity_lo, growth_new_capacity_up"
   ]
  },
  {
   "cell_type": "code",
   "execution_count": 54,
   "id": "be291e23",
   "metadata": {},
   "outputs": [],
   "source": [
    "# function for updating names: x_trp -> x_trp_su, x_trp_ur, x_trp_ru\n",
    "def update_rename_parameter(scenario_name, par_name, area_suffix, item_name='technology'):\n",
    "    par = scenario_name.par(par_name)\n",
    "    if item_name == 'technology':\n",
    "        par_trp = par[par[\"technology\"].str.contains(\"trp\") == True]\n",
    "    else:\n",
    "        par_trp = par[par[item_name] == 'transport']\n",
    "    for suffix in area_suffix:\n",
    "        par_trp_copy = par_trp.copy(deep=True)\n",
    "        par_trp_copy[item_name] = par_trp_copy[item_name] + '_'+ suffix\n",
    "        scenario_name.add_par(par_name, par_trp_copy)\n",
    "    return"
   ]
  },
  {
   "cell_type": "code",
   "execution_count": 55,
   "id": "2c1e232c",
   "metadata": {},
   "outputs": [],
   "source": [
    "update_rename_parameter(scenario3, 'var_cost', area_suffix)\n",
    "update_rename_parameter(scenario3, 'fix_cost', area_suffix)\n",
    "update_rename_parameter(scenario3, 'input', area_suffix)\n",
    "update_rename_parameter(scenario3, 'growth_activity_lo', area_suffix)\n",
    "update_rename_parameter(scenario3, 'growth_activity_up', area_suffix)\n",
    "update_rename_parameter(scenario3, 'capacity_factor', area_suffix)\n",
    "update_rename_parameter(scenario3, 'growth_new_capacity_lo', area_suffix)\n",
    "update_rename_parameter(scenario3, 'growth_new_capacity_up', area_suffix)"
   ]
  },
  {
   "cell_type": "markdown",
   "id": "4782c34a",
   "metadata": {},
   "source": [
    "### Add outputs"
   ]
  },
  {
   "cell_type": "code",
   "execution_count": 56,
   "id": "b2f8af8f",
   "metadata": {},
   "outputs": [],
   "source": [
    "par = scenario3.par('output')\n",
    "par_trp = par[par[\"technology\"].str.contains(\"trp\") == True]\n",
    "for suffix in area_suffix:\n",
    "    par_trp_copy = par_trp.copy(deep=True)\n",
    "    par_trp_copy['technology'] = par_trp_copy['technology'] + '_'+ suffix\n",
    "    par_trp_copy['commodity'] = par_trp_copy['commodity'] + '_'+ suffix\n",
    "    scenario3.add_par('output', par_trp_copy)"
   ]
  },
  {
   "cell_type": "markdown",
   "id": "a8865b16",
   "metadata": {},
   "source": [
    "### Add technical lifetime"
   ]
  },
  {
   "cell_type": "code",
   "execution_count": 57,
   "id": "3c1af42c",
   "metadata": {},
   "outputs": [],
   "source": [
    "lifetime = scenario2.par(\"technical_lifetime\")\n",
    "lifetime_new2 = pd.DataFrame(columns=list(lifetime.columns.values))\n",
    "for year_vtg in ([2010,2020,2030,2040,2050,2060,2070]):\n",
    "    for tec in technologies:\n",
    "        for suffix in area_suffix:\n",
    "            lifetime_new2 = pd.concat([lifetime_new2, pd.DataFrame({\"node_loc\": [\"South Africa\"], \"technology\": [tec + '_' + suffix], \"year_vtg\": [year_vtg], \"value\": [10], \"unit\": [\"year\"]})], ignore_index=True)"
   ]
  },
  {
   "cell_type": "code",
   "execution_count": 58,
   "id": "af58205e",
   "metadata": {},
   "outputs": [],
   "source": [
    "scenario3.add_par(\"technical_lifetime\",lifetime_new2)"
   ]
  },
  {
   "cell_type": "markdown",
   "id": "35a5480e",
   "metadata": {},
   "source": [
    "### Investment costs (add disutility costs)"
   ]
  },
  {
   "cell_type": "code",
   "execution_count": 59,
   "id": "fd5b6349",
   "metadata": {},
   "outputs": [
    {
     "data": {
      "text/html": [
       "<div>\n",
       "<style scoped>\n",
       "    .dataframe tbody tr th:only-of-type {\n",
       "        vertical-align: middle;\n",
       "    }\n",
       "\n",
       "    .dataframe tbody tr th {\n",
       "        vertical-align: top;\n",
       "    }\n",
       "\n",
       "    .dataframe thead th {\n",
       "        text-align: right;\n",
       "    }\n",
       "</style>\n",
       "<table border=\"1\" class=\"dataframe\">\n",
       "  <thead>\n",
       "    <tr style=\"text-align: right;\">\n",
       "      <th></th>\n",
       "      <th>technology</th>\n",
       "      <th>consumer group</th>\n",
       "      <th>2010</th>\n",
       "      <th>2020</th>\n",
       "      <th>2030</th>\n",
       "      <th>2040</th>\n",
       "      <th>2050</th>\n",
       "      <th>2060</th>\n",
       "      <th>2070</th>\n",
       "    </tr>\n",
       "  </thead>\n",
       "  <tbody>\n",
       "    <tr>\n",
       "      <th>0</th>\n",
       "      <td>elec_trp</td>\n",
       "      <td>urema</td>\n",
       "      <td>45.818121</td>\n",
       "      <td>44.722618</td>\n",
       "      <td>42.945475</td>\n",
       "      <td>42.557015</td>\n",
       "      <td>42.497382</td>\n",
       "      <td>42.496271</td>\n",
       "      <td>42.496271</td>\n",
       "    </tr>\n",
       "    <tr>\n",
       "      <th>1</th>\n",
       "      <td>gas_trp</td>\n",
       "      <td>urema</td>\n",
       "      <td>56.291261</td>\n",
       "      <td>55.195758</td>\n",
       "      <td>53.418616</td>\n",
       "      <td>53.030156</td>\n",
       "      <td>52.970522</td>\n",
       "      <td>52.969412</td>\n",
       "      <td>52.969411</td>\n",
       "    </tr>\n",
       "    <tr>\n",
       "      <th>2</th>\n",
       "      <td>foil_trp</td>\n",
       "      <td>urema</td>\n",
       "      <td>2.178226</td>\n",
       "      <td>2.178226</td>\n",
       "      <td>2.178226</td>\n",
       "      <td>2.178226</td>\n",
       "      <td>2.178226</td>\n",
       "      <td>2.178226</td>\n",
       "      <td>2.178226</td>\n",
       "    </tr>\n",
       "    <tr>\n",
       "      <th>3</th>\n",
       "      <td>loil_trp</td>\n",
       "      <td>urema</td>\n",
       "      <td>2.178226</td>\n",
       "      <td>2.178226</td>\n",
       "      <td>2.178226</td>\n",
       "      <td>2.178226</td>\n",
       "      <td>2.178226</td>\n",
       "      <td>2.178226</td>\n",
       "      <td>2.178226</td>\n",
       "    </tr>\n",
       "    <tr>\n",
       "      <th>4</th>\n",
       "      <td>elec_trp</td>\n",
       "      <td>suema</td>\n",
       "      <td>46.033025</td>\n",
       "      <td>44.937522</td>\n",
       "      <td>43.160379</td>\n",
       "      <td>42.771919</td>\n",
       "      <td>42.712286</td>\n",
       "      <td>42.711175</td>\n",
       "      <td>42.711175</td>\n",
       "    </tr>\n",
       "    <tr>\n",
       "      <th>5</th>\n",
       "      <td>gas_trp</td>\n",
       "      <td>suema</td>\n",
       "      <td>55.449157</td>\n",
       "      <td>54.353655</td>\n",
       "      <td>52.576512</td>\n",
       "      <td>52.188052</td>\n",
       "      <td>52.128418</td>\n",
       "      <td>52.127308</td>\n",
       "      <td>52.127307</td>\n",
       "    </tr>\n",
       "    <tr>\n",
       "      <th>6</th>\n",
       "      <td>foil_trp</td>\n",
       "      <td>suema</td>\n",
       "      <td>2.100346</td>\n",
       "      <td>2.100346</td>\n",
       "      <td>2.100346</td>\n",
       "      <td>2.100346</td>\n",
       "      <td>2.100346</td>\n",
       "      <td>2.100346</td>\n",
       "      <td>2.100346</td>\n",
       "    </tr>\n",
       "    <tr>\n",
       "      <th>7</th>\n",
       "      <td>loil_trp</td>\n",
       "      <td>suema</td>\n",
       "      <td>2.100346</td>\n",
       "      <td>2.100346</td>\n",
       "      <td>2.100346</td>\n",
       "      <td>2.100346</td>\n",
       "      <td>2.100346</td>\n",
       "      <td>2.100346</td>\n",
       "      <td>2.100346</td>\n",
       "    </tr>\n",
       "    <tr>\n",
       "      <th>8</th>\n",
       "      <td>elec_trp</td>\n",
       "      <td>ruema</td>\n",
       "      <td>46.181267</td>\n",
       "      <td>45.085764</td>\n",
       "      <td>43.308621</td>\n",
       "      <td>42.920162</td>\n",
       "      <td>42.860528</td>\n",
       "      <td>42.859417</td>\n",
       "      <td>42.859417</td>\n",
       "    </tr>\n",
       "    <tr>\n",
       "      <th>9</th>\n",
       "      <td>gas_trp</td>\n",
       "      <td>ruema</td>\n",
       "      <td>54.880598</td>\n",
       "      <td>53.785095</td>\n",
       "      <td>52.007953</td>\n",
       "      <td>51.619493</td>\n",
       "      <td>51.559859</td>\n",
       "      <td>51.558748</td>\n",
       "      <td>51.558748</td>\n",
       "    </tr>\n",
       "    <tr>\n",
       "      <th>10</th>\n",
       "      <td>foil_trp</td>\n",
       "      <td>ruema</td>\n",
       "      <td>2.047764</td>\n",
       "      <td>2.047764</td>\n",
       "      <td>2.047764</td>\n",
       "      <td>2.047764</td>\n",
       "      <td>2.047764</td>\n",
       "      <td>2.047764</td>\n",
       "      <td>2.047764</td>\n",
       "    </tr>\n",
       "    <tr>\n",
       "      <th>11</th>\n",
       "      <td>loil_trp</td>\n",
       "      <td>ruema</td>\n",
       "      <td>2.047764</td>\n",
       "      <td>2.047764</td>\n",
       "      <td>2.047764</td>\n",
       "      <td>2.047764</td>\n",
       "      <td>2.047764</td>\n",
       "      <td>2.047764</td>\n",
       "      <td>2.047764</td>\n",
       "    </tr>\n",
       "  </tbody>\n",
       "</table>\n",
       "</div>"
      ],
      "text/plain": [
       "   technology consumer group       2010       2020       2030       2040  \\\n",
       "0    elec_trp          urema  45.818121  44.722618  42.945475  42.557015   \n",
       "1     gas_trp          urema  56.291261  55.195758  53.418616  53.030156   \n",
       "2    foil_trp          urema   2.178226   2.178226   2.178226   2.178226   \n",
       "3    loil_trp          urema   2.178226   2.178226   2.178226   2.178226   \n",
       "4    elec_trp          suema  46.033025  44.937522  43.160379  42.771919   \n",
       "5     gas_trp          suema  55.449157  54.353655  52.576512  52.188052   \n",
       "6    foil_trp          suema   2.100346   2.100346   2.100346   2.100346   \n",
       "7    loil_trp          suema   2.100346   2.100346   2.100346   2.100346   \n",
       "8    elec_trp          ruema  46.181267  45.085764  43.308621  42.920162   \n",
       "9     gas_trp          ruema  54.880598  53.785095  52.007953  51.619493   \n",
       "10   foil_trp          ruema   2.047764   2.047764   2.047764   2.047764   \n",
       "11   loil_trp          ruema   2.047764   2.047764   2.047764   2.047764   \n",
       "\n",
       "         2050       2060       2070  \n",
       "0   42.497382  42.496271  42.496271  \n",
       "1   52.970522  52.969412  52.969411  \n",
       "2    2.178226   2.178226   2.178226  \n",
       "3    2.178226   2.178226   2.178226  \n",
       "4   42.712286  42.711175  42.711175  \n",
       "5   52.128418  52.127308  52.127307  \n",
       "6    2.100346   2.100346   2.100346  \n",
       "7    2.100346   2.100346   2.100346  \n",
       "8   42.860528  42.859417  42.859417  \n",
       "9   51.559859  51.558748  51.558748  \n",
       "10   2.047764   2.047764   2.047764  \n",
       "11   2.047764   2.047764   2.047764  "
      ]
     },
     "execution_count": 59,
     "metadata": {},
     "output_type": "execute_result"
    }
   ],
   "source": [
    "dis_costs = pd.DataFrame()\n",
    "cols = [2010,2020,2030,2040,2050,2060,2070]\n",
    "cars = ['EV100','NGAICE', 'GSLICE', 'GSLICE']\n",
    "groups = [suffix+'ema' for suffix in area_suffix]\n",
    "for g in groups:\n",
    "    for i,t in enumerate(technologies):\n",
    "        df = pd.read_excel('disutility_costs.xlsx', sheet_name=g)\n",
    "        df_filt = df[df['<< Total >>'] == cars[i]][cols]\n",
    "        row = df_filt.iloc[0]*1000/218400*1000\n",
    "        row = pd.concat([pd.Series([technologies[i],g], index=['technology','consumer group']), row])\n",
    "        row = row.to_frame().transpose()\n",
    "        dis_costs = pd.concat([dis_costs,row], ignore_index=True)\n",
    "dis_costs"
   ]
  },
  {
   "cell_type": "code",
   "execution_count": 60,
   "id": "248e8b95",
   "metadata": {},
   "outputs": [],
   "source": [
    "inv_cost = scenario3.par(\"inv_cost\")\n",
    "inv_cost_new2 = pd.DataFrame(columns=list(inv_cost.columns.values))\n",
    "mult_elec = [1.00, 0.75, 0.58, 0.49, 0.46, 0.42, 0.39] # solar_pv_ppl\n",
    "mult_gas = [1.00, 0.93, 0.89, 0.88, 0.88, 0.88, 0.88] # gas_ppl\n",
    "mult_foil = [1, 1, 1, 1, 1, 1, 1] # same for mult_loil\n",
    "base_costs = [102.857, 91.429, 77.143, 77.143]\n",
    "# mult = [mult_elec, mult_gas, mult_foil, mult_foil]\n",
    "mult = [mult_foil, mult_foil, mult_foil, mult_foil]\n",
    "for suffix in area_suffix:\n",
    "    for j,t in enumerate(technologies):\n",
    "        dis_cost_t_share = dis_costs[(dis_costs['technology'] == t) & (dis_costs['consumer group'] == suffix+'ema')]\n",
    "        dis_cost_t_share = dis_cost_t_share.drop(['technology', 'consumer group'], axis=1)\n",
    "        dis_cost_t_share = dis_cost_t_share.to_numpy()[0]\n",
    "        for i,year_vtg in enumerate([2010,2020,2030,2040,2050,2060,2070]):\n",
    "            base_cost = base_costs[j]*mult[j][i]\n",
    "            dis_cost = dis_cost_t_share[i]\n",
    "            new_entry = pd.DataFrame({\"node_loc\": [\"South Africa\"], \"technology\": [t+'_'+suffix], \"year_vtg\": [year_vtg], \"value\": [base_cost+dis_cost], \"unit\": [\"USD/kpkm\"]})\n",
    "            inv_cost_new2 = pd.concat([inv_cost_new2, new_entry], ignore_index=True)"
   ]
  },
  {
   "cell_type": "code",
   "execution_count": 61,
   "id": "433fd6f4",
   "metadata": {},
   "outputs": [],
   "source": [
    "scenario3.add_par(\"inv_cost\",inv_cost_new2)"
   ]
  },
  {
   "cell_type": "markdown",
   "id": "3bcabe31",
   "metadata": {},
   "source": [
    "### At the very end - delete the old commodities and technologies"
   ]
  },
  {
   "cell_type": "code",
   "execution_count": 62,
   "id": "7316ec46",
   "metadata": {},
   "outputs": [],
   "source": [
    "scenario3.remove_set('commodity', 'transport')\n",
    "scenario3.remove_set('technology', technologies)"
   ]
  },
  {
   "cell_type": "markdown",
   "id": "f0a0f860",
   "metadata": {},
   "source": [
    "### Commit and solve"
   ]
  },
  {
   "cell_type": "code",
   "execution_count": 63,
   "id": "b1c2f562",
   "metadata": {},
   "outputs": [],
   "source": [
    "scenario3.commit(\"added consumer disaggregation for transport services\")\n",
    "scenario3.solve()"
   ]
  },
  {
   "cell_type": "markdown",
   "id": "2c168620",
   "metadata": {},
   "source": [
    "## Reporting"
   ]
  },
  {
   "cell_type": "code",
   "execution_count": 86,
   "id": "c6ed24cd",
   "metadata": {},
   "outputs": [],
   "source": [
    "# Create a Reporter object to describe and carry out reporting\n",
    "# calculations and operations (like plotting) based on `scenario`\n",
    "from message_ix.reporting import Reporter\n",
    "from message_ix.util.tutorial import prepare_plots\n",
    "rep0 = Reporter.from_scenario(baseline, title='baseline')\n",
    "rep1a = Reporter.from_scenario(scenario1a, title='scenario p-km')\n",
    "rep1b = Reporter.from_scenario(scenario1b, title='scenario p-km and commodity modifications')\n",
    "rep2 = Reporter.from_scenario(scenario2, title='scenario2 p-km + vehicle stock')\n",
    "rep3 = Reporter.from_scenario(scenario3, title='scenario3 p-km + vehicle stock + user beh')\n",
    "prepare_plots(rep0)\n",
    "prepare_plots(rep1a)\n",
    "prepare_plots(rep1b)\n",
    "prepare_plots(rep2)\n",
    "prepare_plots(rep3)"
   ]
  },
  {
   "cell_type": "code",
   "execution_count": 87,
   "id": "2ccedae1",
   "metadata": {},
   "outputs": [],
   "source": [
    "# function stacked_bar from message_ix\\reporting\\computations.py with modifications\n",
    "def stacked_bar(qty, dims=[\"nl\", \"t\", \"ya\"], units=\"\", title=\"\", cf=1.0, stacked=True, drop=None, aggregate=False, average=False):\n",
    "    df = (cf * qty).to_series().unstack(dims[1]).reset_index()\n",
    "    if drop is not None: # drop unused axis\n",
    "        df = df.drop(drop,axis=1)\n",
    "    df = df.drop(df[df.sum(axis=1) ==df[dims[2]]].index) # drop years without values\n",
    "    df = df.reset_index(drop=True)\n",
    "    df2 = pd.DataFrame()\n",
    "    for u in df[dims[2]].unique():\n",
    "        s = df[df[dims[2]]==u].sum().to_frame().transpose()\n",
    "        s[dims[2]] = u\n",
    "        s[dims[0]] = 'South Africa'\n",
    "        df2 = pd.concat([df2, s], ignore_index=True)\n",
    "    if aggregate is True:\n",
    "        for item in ['transport','elec_trp', 'foil_trp', 'gas_trp', 'loil_trp']:\n",
    "            flt = df2.filter(regex=item)\n",
    "            if not flt.empty:\n",
    "                df2[item] = flt.sum(axis=1)\n",
    "                df2 = df2.drop(flt.columns.values, axis=1)\n",
    "    if average is True:\n",
    "        for item in ['transport','elec_trp', 'foil_trp', 'gas_trp', 'loil_trp']:\n",
    "            flt = df2.filter(regex=item)\n",
    "            if not flt.empty:\n",
    "                df2[item] = flt.mean(axis=1)\n",
    "                df2 = df2.drop(flt.columns.values, axis=1)\n",
    "    # Plot using matplotlib via pandas\n",
    "    ax = df2.plot(\n",
    "        x=dims[2],\n",
    "        kind=\"bar\",\n",
    "        stacked=stacked,\n",
    "        xlabel=\"Year\",\n",
    "        ylabel=units,\n",
    "        title=f\"{df.loc[0, dims[0]]} {title}\",\n",
    "    )\n",
    "    ax.legend(loc=\"center left\", bbox_to_anchor=(1.0, 0.5))\n",
    "\n",
    "    return ax"
   ]
  },
  {
   "cell_type": "markdown",
   "id": "a848602f",
   "metadata": {},
   "source": [
    "### Transport activity - comparison across scenarios"
   ]
  },
  {
   "cell_type": "code",
   "execution_count": 88,
   "id": "06ab281c",
   "metadata": {},
   "outputs": [
    {
     "name": "stderr",
     "output_type": "stream",
     "text": [
      "C:\\Users\\kamilami\\AppData\\Local\\Temp\\ipykernel_20004\\2444019232.py:6: FutureWarning: Dropping of nuisance columns in DataFrame reductions (with 'numeric_only=None') is deprecated; in a future version this will raise TypeError.  Select only valid columns before calling the reduction.\n",
      "  df = df.drop(df[df.sum(axis=1) ==df[dims[2]]].index) # drop years without values\n"
     ]
    },
    {
     "data": {
      "text/plain": [
       "<AxesSubplot:title={'center':'South Africa transport activity'}, xlabel='Year', ylabel='GWa/a '>"
      ]
     },
     "execution_count": 88,
     "metadata": {},
     "output_type": "execute_result"
    },
    {
     "data": {
      "image/png": "[encoded data removed]",
      "text/plain": [
       "<Figure size 432x288 with 1 Axes>"
      ]
     },
     "metadata": {
      "needs_background": "light"
     },
     "output_type": "display_data"
    }
   ],
   "source": [
    "rep0.set_filters(t=[\"elec_trp\", \"foil_trp\", \"gas_trp\", \"loil_trp\"])\n",
    "stacked_bar(rep0.get('ACT'), dims=['nl', 't', 'ya'], units='GWa/a ', title='transport activity', stacked=True, drop='yv')"
   ]
  },
  {
   "cell_type": "code",
   "execution_count": 89,
   "id": "2ff8ece3",
   "metadata": {},
   "outputs": [
    {
     "name": "stderr",
     "output_type": "stream",
     "text": [
      "C:\\Users\\kamilami\\AppData\\Local\\Temp\\ipykernel_20004\\2444019232.py:6: FutureWarning: Dropping of nuisance columns in DataFrame reductions (with 'numeric_only=None') is deprecated; in a future version this will raise TypeError.  Select only valid columns before calling the reduction.\n",
      "  df = df.drop(df[df.sum(axis=1) ==df[dims[2]]].index) # drop years without values\n"
     ]
    },
    {
     "data": {
      "text/plain": [
       "<AxesSubplot:title={'center':'South Africa transport activity'}, xlabel='Year', ylabel='Gpkm/a '>"
      ]
     },
     "execution_count": 89,
     "metadata": {},
     "output_type": "execute_result"
    },
    {
     "data": {
      "image/png": "[encoded data removed]",
      "text/plain": [
       "<Figure size 432x288 with 1 Axes>"
      ]
     },
     "metadata": {
      "needs_background": "light"
     },
     "output_type": "display_data"
    }
   ],
   "source": [
    "rep1a.set_filters(t=[\"elec_trp\", \"foil_trp\", \"gas_trp\", \"loil_trp\"])\n",
    "stacked_bar(rep1a.get('ACT'), dims=['nl', 't', 'ya'], units='Gpkm/a ', title='transport activity', stacked=True, drop='yv')"
   ]
  },
  {
   "cell_type": "code",
   "execution_count": 90,
   "id": "815d21be",
   "metadata": {},
   "outputs": [
    {
     "name": "stderr",
     "output_type": "stream",
     "text": [
      "C:\\Users\\kamilami\\AppData\\Local\\Temp\\ipykernel_20004\\2444019232.py:6: FutureWarning: Dropping of nuisance columns in DataFrame reductions (with 'numeric_only=None') is deprecated; in a future version this will raise TypeError.  Select only valid columns before calling the reduction.\n",
      "  df = df.drop(df[df.sum(axis=1) ==df[dims[2]]].index) # drop years without values\n"
     ]
    },
    {
     "data": {
      "text/plain": [
       "<AxesSubplot:title={'center':'South Africa transport activity'}, xlabel='Year', ylabel='Gpkm/a '>"
      ]
     },
     "execution_count": 90,
     "metadata": {},
     "output_type": "execute_result"
    },
    {
     "data": {
      "image/png": "[encoded data removed]",
      "text/plain": [
       "<Figure size 432x288 with 1 Axes>"
      ]
     },
     "metadata": {
      "needs_background": "light"
     },
     "output_type": "display_data"
    }
   ],
   "source": [
    "rep1b.set_filters(t=[\"elec_trp\", \"foil_trp\", \"gas_trp\", \"loil_trp\"])\n",
    "stacked_bar(rep1b.get('ACT'), dims=['nl', 't', 'ya'], units='Gpkm/a ', title='transport activity', stacked=True, drop='yv')"
   ]
  },
  {
   "cell_type": "code",
   "execution_count": 91,
   "id": "4b60457f",
   "metadata": {},
   "outputs": [
    {
     "name": "stderr",
     "output_type": "stream",
     "text": [
      "C:\\Users\\kamilami\\AppData\\Local\\Temp\\ipykernel_20004\\2444019232.py:6: FutureWarning: Dropping of nuisance columns in DataFrame reductions (with 'numeric_only=None') is deprecated; in a future version this will raise TypeError.  Select only valid columns before calling the reduction.\n",
      "  df = df.drop(df[df.sum(axis=1) ==df[dims[2]]].index) # drop years without values\n"
     ]
    },
    {
     "data": {
      "text/plain": [
       "<AxesSubplot:title={'center':'South Africa transport activity'}, xlabel='Year', ylabel='Gpkm/a '>"
      ]
     },
     "execution_count": 91,
     "metadata": {},
     "output_type": "execute_result"
    },
    {
     "data": {
      "image/png": "[encoded data removed]",
      "text/plain": [
       "<Figure size 432x288 with 1 Axes>"
      ]
     },
     "metadata": {
      "needs_background": "light"
     },
     "output_type": "display_data"
    }
   ],
   "source": [
    "rep2.set_filters(t=[\"elec_trp\", \"foil_trp\", \"gas_trp\", \"loil_trp\"])\n",
    "stacked_bar(rep2.get('ACT'), dims=['nl', 't', 'ya'], units='Gpkm/a ', title='transport activity', stacked=True, drop='yv')"
   ]
  },
  {
   "cell_type": "code",
   "execution_count": 92,
   "id": "0fa3fcaf",
   "metadata": {},
   "outputs": [
    {
     "name": "stderr",
     "output_type": "stream",
     "text": [
      "C:\\Users\\kamilami\\AppData\\Local\\Temp\\ipykernel_20004\\2444019232.py:6: FutureWarning: Dropping of nuisance columns in DataFrame reductions (with 'numeric_only=None') is deprecated; in a future version this will raise TypeError.  Select only valid columns before calling the reduction.\n",
      "  df = df.drop(df[df.sum(axis=1) ==df[dims[2]]].index) # drop years without values\n"
     ]
    },
    {
     "data": {
      "text/plain": [
       "<AxesSubplot:title={'center':'South Africa transport activity'}, xlabel='Year', ylabel='Gpkm/a '>"
      ]
     },
     "execution_count": 92,
     "metadata": {},
     "output_type": "execute_result"
    },
    {
     "data": {
      "image/png": "[encoded data removed]",
      "text/plain": [
       "<Figure size 432x288 with 1 Axes>"
      ]
     },
     "metadata": {
      "needs_background": "light"
     },
     "output_type": "display_data"
    }
   ],
   "source": [
    "rep3.set_filters(t=[\"elec_trp_ur\", \"foil_trp_ur\", \"gas_trp_ur\", \"loil_trp_ur\",\n",
    "                   \"elec_trp_su\", \"foil_trp_su\", \"gas_trp_su\", \"loil_trp_su\",\n",
    "                   \"elec_trp_ru\", \"foil_trp_ru\", \"gas_trp_ru\", \"loil_trp_ru\"])\n",
    "stacked_bar(rep3.get('ACT'), dims=['nl', 't', 'ya'], units='Gpkm/a ', title='transport activity', stacked=True, drop='yv',aggregate=True)"
   ]
  },
  {
   "cell_type": "markdown",
   "id": "a4a8b00e",
   "metadata": {},
   "source": [
    "### Transport prices - comparison across scenarios"
   ]
  },
  {
   "cell_type": "code",
   "execution_count": 93,
   "id": "436ef367",
   "metadata": {},
   "outputs": [
    {
     "name": "stderr",
     "output_type": "stream",
     "text": [
      "C:\\Users\\kamilami\\AppData\\Local\\Temp\\ipykernel_20004\\2444019232.py:6: FutureWarning: Dropping of nuisance columns in DataFrame reductions (with 'numeric_only=None') is deprecated; in a future version this will raise TypeError.  Select only valid columns before calling the reduction.\n",
      "  df = df.drop(df[df.sum(axis=1) ==df[dims[2]]].index) # drop years without values\n"
     ]
    },
    {
     "data": {
      "text/plain": [
       "<AxesSubplot:title={'center':'South Africa Activity'}, xlabel='Year', ylabel='USD/kWa'>"
      ]
     },
     "execution_count": 93,
     "metadata": {},
     "output_type": "execute_result"
    },
    {
     "data": {
      "image/png": "[encoded data removed]",
      "text/plain": [
       "<Figure size 432x288 with 1 Axes>"
      ]
     },
     "metadata": {
      "needs_background": "light"
     },
     "output_type": "display_data"
    }
   ],
   "source": [
    "rep0.set_filters(c=[\"transport\"])\n",
    "# rep1a.set_filters(c=[\"electr\", \"fueloil\", \"gas\", \"lightoil\"])\n",
    "stacked_bar(rep0.get('PRICE_COMMODITY'), dims=['n', 'c', 'y'], units='USD/kWa', title='Activity', stacked=True)"
   ]
  },
  {
   "cell_type": "code",
   "execution_count": 94,
   "id": "a45c8f28",
   "metadata": {},
   "outputs": [
    {
     "name": "stderr",
     "output_type": "stream",
     "text": [
      "C:\\Users\\kamilami\\AppData\\Local\\Temp\\ipykernel_20004\\2444019232.py:6: FutureWarning: Dropping of nuisance columns in DataFrame reductions (with 'numeric_only=None') is deprecated; in a future version this will raise TypeError.  Select only valid columns before calling the reduction.\n",
      "  df = df.drop(df[df.sum(axis=1) ==df[dims[2]]].index) # drop years without values\n"
     ]
    },
    {
     "data": {
      "text/plain": [
       "<AxesSubplot:title={'center':'South Africa Activity'}, xlabel='Year', ylabel='USD/kpkm'>"
      ]
     },
     "execution_count": 94,
     "metadata": {},
     "output_type": "execute_result"
    },
    {
     "data": {
      "image/png": "[encoded data removed]",
      "text/plain": [
       "<Figure size 432x288 with 1 Axes>"
      ]
     },
     "metadata": {
      "needs_background": "light"
     },
     "output_type": "display_data"
    }
   ],
   "source": [
    "rep1a.set_filters(c=[\"transport\"])\n",
    "# rep1a.set_filters(c=[\"electr\", \"fueloil\", \"gas\", \"lightoil\"])\n",
    "stacked_bar(rep1a.get('PRICE_COMMODITY'), dims=['n', 'c', 'y'], units='USD/kpkm', title='Activity', stacked=True)"
   ]
  },
  {
   "cell_type": "code",
   "execution_count": 95,
   "id": "5bf51a54",
   "metadata": {},
   "outputs": [
    {
     "name": "stderr",
     "output_type": "stream",
     "text": [
      "C:\\Users\\kamilami\\AppData\\Local\\Temp\\ipykernel_20004\\2444019232.py:6: FutureWarning: Dropping of nuisance columns in DataFrame reductions (with 'numeric_only=None') is deprecated; in a future version this will raise TypeError.  Select only valid columns before calling the reduction.\n",
      "  df = df.drop(df[df.sum(axis=1) ==df[dims[2]]].index) # drop years without values\n"
     ]
    },
    {
     "data": {
      "text/plain": [
       "<AxesSubplot:title={'center':'South Africa Activity'}, xlabel='Year', ylabel='USD/kpkm'>"
      ]
     },
     "execution_count": 95,
     "metadata": {},
     "output_type": "execute_result"
    },
    {
     "data": {
      "image/png": "[encoded data removed]",
      "text/plain": [
       "<Figure size 432x288 with 1 Axes>"
      ]
     },
     "metadata": {
      "needs_background": "light"
     },
     "output_type": "display_data"
    }
   ],
   "source": [
    "rep1b.set_filters(c=[\"transport\"])\n",
    "# rep1a.set_filters(c=[\"electr\", \"fueloil\", \"gas\", \"lightoil\"])\n",
    "stacked_bar(rep1b.get('PRICE_COMMODITY'), dims=['n', 'c', 'y'], units='USD/kpkm', title='Activity', stacked=True)"
   ]
  },
  {
   "cell_type": "code",
   "execution_count": 96,
   "id": "a740d30d",
   "metadata": {},
   "outputs": [
    {
     "name": "stderr",
     "output_type": "stream",
     "text": [
      "C:\\Users\\kamilami\\AppData\\Local\\Temp\\ipykernel_20004\\2444019232.py:6: FutureWarning: Dropping of nuisance columns in DataFrame reductions (with 'numeric_only=None') is deprecated; in a future version this will raise TypeError.  Select only valid columns before calling the reduction.\n",
      "  df = df.drop(df[df.sum(axis=1) ==df[dims[2]]].index) # drop years without values\n"
     ]
    },
    {
     "data": {
      "text/plain": [
       "<AxesSubplot:title={'center':'South Africa Activity'}, xlabel='Year', ylabel='USD/kpkm'>"
      ]
     },
     "execution_count": 96,
     "metadata": {},
     "output_type": "execute_result"
    },
    {
     "data": {
      "image/png": "[encoded data removed]",
      "text/plain": [
       "<Figure size 432x288 with 1 Axes>"
      ]
     },
     "metadata": {
      "needs_background": "light"
     },
     "output_type": "display_data"
    }
   ],
   "source": [
    "rep2.set_filters(c=[\"transport\"])\n",
    "stacked_bar(rep2.get('PRICE_COMMODITY'), dims=['n', 'c', 'y'], units='USD/kpkm', title='Activity', stacked=True)"
   ]
  },
  {
   "cell_type": "code",
   "execution_count": 97,
   "id": "780086b5",
   "metadata": {},
   "outputs": [
    {
     "name": "stderr",
     "output_type": "stream",
     "text": [
      "C:\\Users\\kamilami\\AppData\\Local\\Temp\\ipykernel_20004\\2444019232.py:6: FutureWarning: Dropping of nuisance columns in DataFrame reductions (with 'numeric_only=None') is deprecated; in a future version this will raise TypeError.  Select only valid columns before calling the reduction.\n",
      "  df = df.drop(df[df.sum(axis=1) ==df[dims[2]]].index) # drop years without values\n"
     ]
    },
    {
     "data": {
      "text/plain": [
       "<AxesSubplot:title={'center':'South Africa Activity'}, xlabel='Year', ylabel='USD/kpkm'>"
      ]
     },
     "execution_count": 97,
     "metadata": {},
     "output_type": "execute_result"
    },
    {
     "data": {
      "image/png": "[encoded data removed]",
      "text/plain": [
       "<Figure size 432x288 with 1 Axes>"
      ]
     },
     "metadata": {
      "needs_background": "light"
     },
     "output_type": "display_data"
    }
   ],
   "source": [
    "rep3.set_filters(c=[\"transport_su\",\"transport_ru\", \"transport_ur\"])\n",
    "stacked_bar(rep3.get('PRICE_COMMODITY'), dims=['n', 'c', 'y'], units='USD/kpkm', title='Activity', stacked=True, average=True)"
   ]
  },
  {
   "cell_type": "markdown",
   "id": "d75bd681",
   "metadata": {},
   "source": [
    "### Activity of the foil and loil producing technologies"
   ]
  },
  {
   "cell_type": "code",
   "execution_count": 98,
   "id": "6024926b",
   "metadata": {},
   "outputs": [
    {
     "name": "stderr",
     "output_type": "stream",
     "text": [
      "C:\\Users\\kamilami\\AppData\\Local\\Temp\\ipykernel_20004\\2444019232.py:6: FutureWarning: Dropping of nuisance columns in DataFrame reductions (with 'numeric_only=None') is deprecated; in a future version this will raise TypeError.  Select only valid columns before calling the reduction.\n",
      "  df = df.drop(df[df.sum(axis=1) ==df[dims[2]]].index) # drop years without values\n"
     ]
    },
    {
     "data": {
      "text/plain": [
       "<AxesSubplot:title={'center':'South Africa transport activity'}, xlabel='Year', ylabel='Gpkm/a '>"
      ]
     },
     "execution_count": 98,
     "metadata": {},
     "output_type": "execute_result"
    },
    {
     "data": {
      "image/png": "[encoded data removed]",
      "text/plain": [
       "<Figure size 432x288 with 1 Axes>"
      ]
     },
     "metadata": {
      "needs_background": "light"
     },
     "output_type": "display_data"
    }
   ],
   "source": [
    "rep0.set_filters(t=[\"foil_t_d\", \"loil_t_d\"])\n",
    "stacked_bar(rep0.get('ACT'), dims=['nl', 't', 'ya'], units='Gpkm/a ', title='transport activity', stacked=True, drop='yv')"
   ]
  },
  {
   "cell_type": "code",
   "execution_count": 99,
   "id": "030b962f",
   "metadata": {},
   "outputs": [
    {
     "name": "stderr",
     "output_type": "stream",
     "text": [
      "C:\\Users\\kamilami\\AppData\\Local\\Temp\\ipykernel_20004\\2444019232.py:6: FutureWarning: Dropping of nuisance columns in DataFrame reductions (with 'numeric_only=None') is deprecated; in a future version this will raise TypeError.  Select only valid columns before calling the reduction.\n",
      "  df = df.drop(df[df.sum(axis=1) ==df[dims[2]]].index) # drop years without values\n"
     ]
    },
    {
     "data": {
      "text/plain": [
       "<AxesSubplot:title={'center':'South Africa transport activity'}, xlabel='Year', ylabel='Gpkm/a '>"
      ]
     },
     "execution_count": 99,
     "metadata": {},
     "output_type": "execute_result"
    },
    {
     "data": {
      "image/png": "[encoded data removed]",
      "text/plain": [
       "<Figure size 432x288 with 1 Axes>"
      ]
     },
     "metadata": {
      "needs_background": "light"
     },
     "output_type": "display_data"
    }
   ],
   "source": [
    "rep1a.set_filters(t=[\"foil_t_d\", \"loil_t_d\"])\n",
    "stacked_bar(rep1a.get('ACT'), dims=['nl', 't', 'ya'], units='Gpkm/a ', title='transport activity', stacked=True, drop='yv')"
   ]
  },
  {
   "cell_type": "code",
   "execution_count": 100,
   "id": "75f7733a",
   "metadata": {},
   "outputs": [
    {
     "name": "stderr",
     "output_type": "stream",
     "text": [
      "C:\\Users\\kamilami\\AppData\\Local\\Temp\\ipykernel_20004\\2444019232.py:6: FutureWarning: Dropping of nuisance columns in DataFrame reductions (with 'numeric_only=None') is deprecated; in a future version this will raise TypeError.  Select only valid columns before calling the reduction.\n",
      "  df = df.drop(df[df.sum(axis=1) ==df[dims[2]]].index) # drop years without values\n"
     ]
    },
    {
     "data": {
      "text/plain": [
       "<AxesSubplot:title={'center':'South Africa transport activity'}, xlabel='Year', ylabel='Gpkm/a '>"
      ]
     },
     "execution_count": 100,
     "metadata": {},
     "output_type": "execute_result"
    },
    {
     "data": {
      "image/png": "[encoded data removed]",
      "text/plain": [
       "<Figure size 432x288 with 1 Axes>"
      ]
     },
     "metadata": {
      "needs_background": "light"
     },
     "output_type": "display_data"
    }
   ],
   "source": [
    "rep1b.set_filters(t=[\"foil_t_d\", \"loil_t_d\"])\n",
    "stacked_bar(rep1b.get('ACT'), dims=['nl', 't', 'ya'], units='Gpkm/a ', title='transport activity', stacked=True, drop='yv')"
   ]
  },
  {
   "cell_type": "markdown",
   "id": "4e3a095c",
   "metadata": {},
   "source": [
    "### Emissions - comparison across scenarios"
   ]
  },
  {
   "cell_type": "code",
   "execution_count": 101,
   "id": "6a2bb8f2",
   "metadata": {},
   "outputs": [
    {
     "data": {
      "text/plain": [
       "n             e    type_tec  y   \n",
       "South Africa  CO2  all       2020     514.450798\n",
       "                             2030     648.868289\n",
       "                             2040     733.833429\n",
       "                             2050     866.594934\n",
       "                             2060    1028.482914\n",
       "                             2070    1256.080006\n",
       "              CH4  all       2020      13.374521\n",
       "                             2030      15.464832\n",
       "                             2040      16.595169\n",
       "                             2050      19.105427\n",
       "                             2060      22.329876\n",
       "                             2070      27.665713\n",
       "Name: EMISS, dtype: float64"
      ]
     },
     "execution_count": 101,
     "metadata": {},
     "output_type": "execute_result"
    }
   ],
   "source": [
    "rep0.set_filters(n=[\"South Africa\"])\n",
    "rep0.get('EMISS')"
   ]
  },
  {
   "cell_type": "code",
   "execution_count": 102,
   "id": "7084c168",
   "metadata": {},
   "outputs": [
    {
     "data": {
      "text/plain": [
       "n             e    type_tec  y   \n",
       "South Africa  CO2  all       2020     501.513942\n",
       "                             2030     596.083748\n",
       "                             2040     662.284841\n",
       "                             2050     768.188325\n",
       "                             2060     905.856726\n",
       "                             2070    1092.980226\n",
       "              CH4  all       2020      13.374435\n",
       "                             2030      15.431506\n",
       "                             2040      16.312317\n",
       "                             2050      18.283946\n",
       "                             2060      20.875661\n",
       "                             2070      24.890577\n",
       "Name: EMISS, dtype: float64"
      ]
     },
     "execution_count": 102,
     "metadata": {},
     "output_type": "execute_result"
    }
   ],
   "source": [
    "rep1a.set_filters(n=[\"South Africa\"])\n",
    "rep1a.get('EMISS')"
   ]
  },
  {
   "cell_type": "code",
   "execution_count": 103,
   "id": "241f9c9c",
   "metadata": {},
   "outputs": [
    {
     "data": {
      "text/plain": [
       "n             e    type_tec  y   \n",
       "South Africa  CO2  all       2020     508.018568\n",
       "                             2030     599.942496\n",
       "                             2040     682.508587\n",
       "                             2050     828.660234\n",
       "                             2060     964.199370\n",
       "                             2070    1134.644442\n",
       "              CH4  all       2020      13.432288\n",
       "                             2030      15.689435\n",
       "                             2040      17.449561\n",
       "                             2050      20.428475\n",
       "                             2060      23.075699\n",
       "                             2070      26.548018\n",
       "Name: EMISS, dtype: float64"
      ]
     },
     "execution_count": 103,
     "metadata": {},
     "output_type": "execute_result"
    }
   ],
   "source": [
    "rep1b.set_filters(n=[\"South Africa\"])\n",
    "rep1b.get('EMISS')"
   ]
  },
  {
   "cell_type": "code",
   "execution_count": 104,
   "id": "a14c3d85",
   "metadata": {},
   "outputs": [
    {
     "data": {
      "text/plain": [
       "n             e    type_tec  y   \n",
       "South Africa  CO2  all       2020     508.018568\n",
       "                             2030     599.942496\n",
       "                             2040     682.508587\n",
       "                             2050     828.660234\n",
       "                             2060     964.199370\n",
       "                             2070    1134.644442\n",
       "              CH4  all       2020      13.432288\n",
       "                             2030      15.689435\n",
       "                             2040      17.449561\n",
       "                             2050      20.428475\n",
       "                             2060      23.075699\n",
       "                             2070      26.548018\n",
       "Name: EMISS, dtype: float64"
      ]
     },
     "execution_count": 104,
     "metadata": {},
     "output_type": "execute_result"
    }
   ],
   "source": [
    "rep2.set_filters(n=[\"South Africa\"])\n",
    "rep2.get('EMISS')"
   ]
  },
  {
   "cell_type": "code",
   "execution_count": 105,
   "id": "bd901e2e",
   "metadata": {},
   "outputs": [
    {
     "data": {
      "text/plain": [
       "n             e    type_tec  y   \n",
       "South Africa  CO2  all       2020     508.018568\n",
       "                             2030     599.942496\n",
       "                             2040     684.476768\n",
       "                             2050     833.645772\n",
       "                             2060     978.988611\n",
       "                             2070    1161.465458\n",
       "              CH4  all       2020      13.432288\n",
       "                             2030      15.689435\n",
       "                             2040      17.493145\n",
       "                             2050      20.538875\n",
       "                             2060      23.403193\n",
       "                             2070      27.141944\n",
       "Name: EMISS, dtype: float64"
      ]
     },
     "execution_count": 105,
     "metadata": {},
     "output_type": "execute_result"
    }
   ],
   "source": [
    "rep3.set_filters(n=[\"South Africa\"])\n",
    "rep3.get('EMISS')"
   ]
  },
  {
   "cell_type": "code",
   "execution_count": 106,
   "id": "4ffb1d95",
   "metadata": {},
   "outputs": [],
   "source": [
    "# pd.set_option('display.max_rows', None)"
   ]
  },
  {
   "cell_type": "markdown",
   "id": "46628c28",
   "metadata": {},
   "source": [
    "## Close database"
   ]
  },
  {
   "cell_type": "code",
   "execution_count": 107,
   "id": "afc7d19d",
   "metadata": {},
   "outputs": [],
   "source": [
    "# close platform connection\n",
    "# mp.close_db()"
   ]
  }
 ],
 "metadata": {
  "kernelspec": {
   "display_name": "Python 3 (ipykernel)",
   "language": "python",
   "name": "python3"
  },
  "language_info": {
   "codemirror_mode": {
    "name": "ipython",
    "version": 3
   },
   "file_extension": ".py",
   "mimetype": "text/x-python",
   "name": "python",
   "nbconvert_exporter": "python",
   "pygments_lexer": "ipython3",
   "version": "3.10.2"
  }
 },
 "nbformat": 4,
 "nbformat_minor": 5
}
